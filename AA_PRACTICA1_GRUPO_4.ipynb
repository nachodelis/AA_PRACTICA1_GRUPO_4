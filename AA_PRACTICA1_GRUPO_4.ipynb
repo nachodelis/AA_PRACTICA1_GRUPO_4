{
  "nbformat": 4,
  "nbformat_minor": 0,
  "metadata": {
    "colab": {
      "name": "AA_PRACTICA1_GRUPO_4.ipynb",
      "provenance": [],
      "collapsed_sections": [
        "7m7LO2lovIZV",
        "tc4vfuryvwgd",
        "m2ZMU7Ei0M1a",
        "w-xyghuf0XGd",
        "AZDCQ2wf1xJX",
        "xDQHeExQ3PES",
        "AwEBphVM37Te",
        "CwsShmmb4pff",
        "F7829fSt6SYP",
        "OwbnYxzt6yaa",
        "P8Sv0Evn_GnB",
        "jWwpyjpF7qJG",
        "ziXQNqkYIa5V"
      ],
      "authorship_tag": "ABX9TyPfDa8xFUFDzgVd0VOFmQfg",
      "include_colab_link": true
    },
    "kernelspec": {
      "name": "python3",
      "display_name": "Python 3"
    },
    "language_info": {
      "name": "python"
    }
  },
  "cells": [
    {
      "cell_type": "markdown",
      "metadata": {
        "id": "view-in-github",
        "colab_type": "text"
      },
      "source": [
        "<a href=\"https://colab.research.google.com/github/nachodelis/AA_PRACTICA1_GRUPO_4/blob/main/AA_PRACTICA1_GRUPO_4.ipynb\" target=\"_parent\"><img src=\"https://colab.research.google.com/assets/colab-badge.svg\" alt=\"Open In Colab\"/></a>"
      ]
    },
    {
      "cell_type": "markdown",
      "metadata": {
        "id": "MZTNDNey6PBS"
      },
      "source": [
        "Grupo 4\n",
        "\n",
        "Luis Ignacio de Lis Guijarro\n",
        "\n",
        "Carlos Ocón Garay"
      ]
    },
    {
      "cell_type": "code",
      "metadata": {
        "colab": {
          "base_uri": "https://localhost:8080/"
        },
        "id": "3tZEn08ZLlb5",
        "outputId": "7b34d35a-8680-4247-fe95-724d150d54b7"
      },
      "source": [
        "!git clone https://github.com/nachodelis/AA_PRACTICA1_GRUPO_4.git"
      ],
      "execution_count": null,
      "outputs": [
        {
          "output_type": "stream",
          "name": "stdout",
          "text": [
            "Cloning into 'AA_PRACTICA1_GRUPO_4'...\n",
            "warning: You appear to have cloned an empty repository.\n"
          ]
        }
      ]
    },
    {
      "cell_type": "markdown",
      "metadata": {
        "id": "EUOwEs2H6lna"
      },
      "source": [
        "Utilizaremos la **biblioteca Python Keras** para reconocer y clasificar imágenes de ropa. Este modelo será definido, configurado, entrenado, evaluado y mejorado para posteriormente usarlo para hacer predicciones. "
      ]
    },
    {
      "cell_type": "code",
      "metadata": {
        "id": "ugaPBNC1wMTg"
      },
      "source": [
        "#importamos keras\n",
        "import keras\n",
        "import tensorflow as tf\n",
        "from keras import models\n",
        "from keras import layers\n",
        "keras.__version__ #Comprobamos que la versión sea 2.0.0 o posterior\n",
        "import matplotlib.pyplot as plt\n",
        "from collections import Counter\n",
        "from sklearn.metrics import confusion_matrix\n",
        "import itertools\n",
        "import numpy as np\n",
        "from keras.utils.np_utils import to_categorical"
      ],
      "execution_count": null,
      "outputs": []
    },
    {
      "cell_type": "code",
      "metadata": {
        "id": "Zu6JOznOwMd9"
      },
      "source": [
        "#importamos lass imagenes y las separamos en train y test\n",
        "from keras.datasets import fashion_mnist\n",
        "\n",
        "(train_images, train_labels), (test_images, test_labels) = fashion_mnist.load_data()"
      ],
      "execution_count": null,
      "outputs": []
    },
    {
      "cell_type": "code",
      "metadata": {
        "colab": {
          "base_uri": "https://localhost:8080/"
        },
        "id": "qBo21vJ9qEPc",
        "outputId": "2097a19d-a950-44f1-9116-340cd7fcdc07"
      },
      "source": [
        "print(train_images.shape)\n",
        "print(train_images[1])\n",
        "print(train_labels[1])"
      ],
      "execution_count": null,
      "outputs": [
        {
          "output_type": "stream",
          "name": "stdout",
          "text": [
            "(60000, 28, 28)\n",
            "[[  0   0   0   0   0   1   0   0   0   0  41 188 103  54  48  43  87 168\n",
            "  133  16   0   0   0   0   0   0   0   0]\n",
            " [  0   0   0   1   0   0   0  49 136 219 216 228 236 255 255 255 255 217\n",
            "  215 254 231 160  45   0   0   0   0   0]\n",
            " [  0   0   0   0   0  14 176 222 224 212 203 198 196 200 215 204 202 201\n",
            "  201 201 209 218 224 164   0   0   0   0]\n",
            " [  0   0   0   0   0 188 219 200 198 202 198 199 199 201 196 198 198 200\n",
            "  200 200 200 201 200 225  41   0   0   0]\n",
            " [  0   0   0   0  51 219 199 203 203 212 238 248 250 245 249 246 247 252\n",
            "  248 235 207 203 203 222 140   0   0   0]\n",
            " [  0   0   0   0 116 226 206 204 207 204 101  75  47  73  48  50  45  51\n",
            "   63 113 222 202 206 220 224   0   0   0]\n",
            " [  0   0   0   0 200 222 209 203 215 200   0  70  98   0 103  59  68  71\n",
            "   49   0 219 206 214 210 250  38   0   0]\n",
            " [  0   0   0   0 247 218 212 210 215 214   0 254 243 139 255 174 251 255\n",
            "  205   0 215 217 214 208 220  95   0   0]\n",
            " [  0   0   0  45 226 214 214 215 224 205   0  42  35  60  16  17  12  13\n",
            "   70   0 189 216 212 206 212 156   0   0]\n",
            " [  0   0   0 164 235 214 211 220 216 201  52  71  89  94  83  78  70  76\n",
            "   92  87 206 207 222 213 219 208   0   0]\n",
            " [  0   0   0 106 187 223 237 248 211 198 252 250 248 245 248 252 253 250\n",
            "  252 239 201 212 225 215 193 113   0   0]\n",
            " [  0   0   0   0   0  17  54 159 222 193 208 192 197 200 200 200 200 201\n",
            "  203 195 210 165   0   0   0   0   0   0]\n",
            " [  0   0   0   0   0   0   0  47 225 192 214 203 206 204 204 205 206 204\n",
            "  212 197 218 107   0   0   0   0   0   0]\n",
            " [  0   0   0   0   1   6   0  46 212 195 212 202 206 205 204 205 206 204\n",
            "  212 200 218  91   0   3   1   0   0   0]\n",
            " [  0   0   0   0   0   1   0  11 197 199 205 202 205 206 204 205 207 204\n",
            "  205 205 218  77   0   5   0   0   0   0]\n",
            " [  0   0   0   0   0   3   0   2 191 198 201 205 206 205 205 206 209 206\n",
            "  199 209 219  74   0   5   0   0   0   0]\n",
            " [  0   0   0   0   0   2   0   0 188 197 200 207 207 204 207 207 210 208\n",
            "  198 207 221  72   0   4   0   0   0   0]\n",
            " [  0   0   0   0   0   2   0   0 215 198 203 206 208 205 207 207 210 208\n",
            "  200 202 222  75   0   4   0   0   0   0]\n",
            " [  0   0   0   0   0   1   0   0 212 198 209 206 209 206 208 207 211 206\n",
            "  205 198 221  80   0   3   0   0   0   0]\n",
            " [  0   0   0   0   0   1   0   0 204 201 205 208 207 205 211 205 210 210\n",
            "  209 195 221  96   0   3   0   0   0   0]\n",
            " [  0   0   0   0   0   1   0   0 202 201 205 209 207 205 213 206 210 209\n",
            "  210 194 217 105   0   2   0   0   0   0]\n",
            " [  0   0   0   0   0   1   0   0 204 204 205 208 207 205 215 207 210 208\n",
            "  211 193 213 115   0   2   0   0   0   0]\n",
            " [  0   0   0   0   0   0   0   0 204 207 207 208 206 206 215 210 210 207\n",
            "  212 195 210 118   0   2   0   0   0   0]\n",
            " [  0   0   0   0   0   1   0   0 198 208 208 208 204 207 212 212 210 207\n",
            "  211 196 207 121   0   1   0   0   0   0]\n",
            " [  0   0   0   0   0   1   0   0 198 210 207 208 206 209 213 212 211 207\n",
            "  210 197 207 124   0   1   0   0   0   0]\n",
            " [  0   0   0   0   0   0   0   0 172 210 203 201 199 204 207 205 204 201\n",
            "  205 197 206 127   0   0   0   0   0   0]\n",
            " [  0   0   0   0   0   0   0   0 188 221 214 234 236 238 244 244 244 240\n",
            "  243 214 224 162   0   2   0   0   0   0]\n",
            " [  0   0   0   0   0   1   0   0 139 146 130 135 135 137 125 124 125 121\n",
            "  119 114 130  76   0   0   0   0   0   0]]\n",
            "0\n"
          ]
        }
      ]
    },
    {
      "cell_type": "markdown",
      "metadata": {
        "id": "cZ7u-BJCr4Md"
      },
      "source": [
        "![camiseta.PNG](data:image/png;base64,iVBORw0KGgoAAAANSUhEUgAAA7EAAAH6CAYAAADRI8vfAAAAAXNSR0IArs4c6QAAAARnQU1BAACxjwv8YQUAAAAJcEhZcwAAFiUAABYlAUlSJPAAAK0pSURBVHhe7Z2LleQqz67/uDqgL56OppPZSZwM5hjhC2BAEuJiV73PWl572hhedEGG6tlT//f//t//+4cLFy5cuHDhwoULFy5cuHC94fq/fwAAAAAAAAAAwEvAIRYAAAAAAAAAwGvAIRYAAAAAAAAAwGsoHmL/+/3593//93/79b9/f/v9A64dAAAAAAAAAMAn8Pfvf+fZb7v+t/b0Vz/EVibHtVv5+1/gpJ/ff//t92cB/e/W3zL83++P01/zAQ3i/w36R479/Pu9CVjzr9Y/eQnd9Ll2CfX51/wbf0C6XZ3fM7fxt+sna2AtPj0ojd/D/xLy+qP9X7Xvv99/P1HbdemmUc+/q91fcfzH5j/n3/H+d1j8Mx68f6AP/efr03ND6pOcRx5iyTGn4/ZiOtFR0P9u/W0C2+LdNi6/7r+ll/w4EP/v0Kca+vOzbdqTTbI1/6r9vT3hptTPI7a33C6Amb/Ov/5A0dP90ndXMT6dyI/fwf9CZPb19n+DfXSwVcSAXT/epvzBbHz+x3D+7Z//Nv+MB+8f6EP/Hfr07MS55XjgIdYV0OSFdRTd8N4woA/9/cVOutwmpDfw/3foHzqpnvvZkn9cf9eebIqj57h2Dom+xr/+JdpzQy17dx3zzMy3C6Xx3c8W/0uR2tfb/3r7dBslN34t/7jxrP7n9WM4/47wv8U/o3HzS/KR5lnL0Z5AH/rQl+rjEJuDHBYW1v2TgPTFMgrof7d+yG0uE0D8v0L/Kv6Zl8aBNf8K/al2n5pOP94kc+1icvpa/2p/CydA8u4SxcdAbfxu/q8gtm+U/6X27X+9mAlXnmz++3yrjTc0/1M4/w7w/0mjf4airQ+9gT70oS/WxyE2h3Pi8avs8wXmHTktiND/Xv0QN5doQU8A8f98fRr3yKvKIcKaf7X+1FZ5OXLtEnL67p7Av/Ry3PV7H+D8IeUa/5zPgTQ+rUjG7+H/EgL9kf4nhPZRrNL4SMnl32Hvn889P4dB/s/qezj/Dve/w+KfUbg5fXr9rwF96L9IH4fYHLsT/2ijcRTP+UGE/pfqh7i5FDYhw0D8P1zfj3VtTCuHJGv+Ffr7Q9yuSc/EG2WuXUxO391T+de3jXtROv9v429z8hYq4tMEP343/2fR2tff/3L7fGyapXP5t2/Mrngf87meG5r/Nzj/9vf/SaN/huLmNLT+MkAf+tAX6+MQm8M5MSmi203by0wD9L9bP4TmMunlfYD4f7a+G/829vGySKC5GPIv2z9jCz13zIFrV5DTp3tK/2bt6Eg4vvuzND4tsON39H+OFvtC/5iR20d7jGiuSrLzztkbzqmj/6V+456TjqOlyT+DoTnh/QN96L9BH4fYHOevsPefHXRvQBHPAf3v1g+hBT1Z99v9/+H64V8TvF3Ri2PDmn+5/mRLskkN73HtGor6Sv+6cVLfdITeZbu+Kj4NsOP39H+GJvt6+l9sn984mX4DnV0/uQ2Zu7fr9/R/Vj8D599R+d/in9GQrz+3/rNAH/ov0schtgA55iza/lfZMx0F/e/WP5FuQjqD+H+TfmWDaM2/yiY1tIfsPZ/j2hUU5q/zr59Pv79Om7C/tMvjj97Ap+N39L8Izr7e/hfa16P2FsagvcuZf7v++XNH/4ts4Pzb2/8BTf4ZT6yH9w/0of9UfXp24txyPPIQezrOvUySF8ocoP+9+on2eU36JJpA/L9H321Sw9yy5p+k/75RP690I8u115Do1/x779/b/fTiFY+fxqc3ufEt/teS6o/3P2+fb287uEnyb1MIc+DcsB1Y/M/pc/4d7f8e/hlNMsf+CcgAfehDX6KPQywAAAAAAAAAgNeAQywAAAAAAAAAgNfw/EPs8evkzF+n4doBAAAAAAAAAHwCyf9u8dRDLAAAAAAAAAAA8DRwiAUAAAAAAAAA8BpwiAUAAAAAAAAA8BpwiAUAAAAAAAAA8BqaD7H4h50AAAAAAAAA4Bv4kH/YafRX7Kz9sm3obxHev/B4zQcUiP8M/SPG8RfdX/f3q2mdl/Mn/gCsNH48h594ggySIlvLb6v9Vn3HSPuV7bf84KiPvzr+N/3tCsfn2nmg/2R9T2H9/ff77yfsG1zZYbIY9DdW+//imOPK9V+qjxxc/6PdX6n9K9+/9vjbwf4L+hJ9ek5eGIfwyEMsOeZ03L7QJzrq2/W3CWzJuxXWX/ff1pdIO4j/HH1awz8/26YtfIl6veulmf4sQJU/fsMTm+fvtb24/Xyv8TJjVedntd+q7xhpv6w91PZ5cuQjh8D+CN9+Pe8Yaf9uTywYYXu3Qf/p+rr6tEEH27BG1rDrr/b/AT13ez9wCOyP8O3RdLTxSTHW17XvX3l8RoH9F/Sl+vTsxLnleOAh1hWYpGgeRSm8Nwzo/+8o/KTb8BIxAf/P0T90Ej3asCUxV+WBG0+TP75IhhuK3oUxLsrM/Mz231Hpb4y1/859frlNZS/7U2bHn3939X63Qf9J+tr6tPc3zEerv9r/HjfPzPuhgVQ/Jl3/+vjE8P3r8czYS+PYfHCn7N/e8dcxy/4S0H+TvrU29uB5h1hyWFh49k8C0o3VKL5dP+Q2lwkg/lP0r+KTFK1czFW/iQiQ5M9tbG9vd1tzm6jc/Hrav6PSn2n/TtpOtf201+VH7TcpPFX9BfHn3l29323Qf5b+ibg+2fJRq7/a/w7qQ89kNrVKivY7arVVEp8aLfX11mfy+3ejd/xVTLK/CPRfpX/l8TqeeYg9Ct75AvGOnBbEb9YPuSX0BBD/8fo07hHX9CWaHlq8dtMngZX8oeK36bgrPiDt8/nztvtnGrRPUnsCsvPraD/Roj/JfqLQTnPz+ra8y4+/Mv707jrH3q5jve1w7Tqg/zT9k0p9OqC5TNZf7f/tgcr7QUve/vL6DxDEp0pLfXV9Dn8sef/2jr+SGfbXgP6r9HGIzbE78Y8W8rG45wfxa/VD3FwsL5EWEP/B+n6sa+OQ2aTsxet8wdMLP3lGgih//HzOWnJobz445PxLvSUP97FLfUvz62V/i/5M+wvtXm+3l+ZY2WhW4fQd+zMr4k/4TXaoF8O114D+o/XZ+uS12+uuVd8x2/++T/X9IEaivz+Tc7LIPxVa6qvrs7Utff9GWOLfwHD7GaD/Kn0cYnM4J94WrV/I04L4zfohNBfDS6QFxH+svhv/NvZRrAq05oG0X/Rcbj5t9vtP+yu2Nc1PTpv+PPvz7RktmmfFjgKs/Qer4n/AxXdU/A+gv0afGZf2OFGt1GHVP5npf/dn7fuhgDn+jXafZPsz9YX6bPP+hPdvC6Pt54D+q/RpjU+ZWJnnHWL3T8qioenepEX87fohlNCTdb/d/4P1/caicEWF66K5UEnzxz13aucKprun20j5T9f7bA5a7G/Xn2N/sZ1yLbmfu8cgsv9gVfx3/LPlPODac0D/BfrV9e/zsO1vIPTQvxhm/044fsv7IYdGP17/AUL/FMn2Z+rLA9+/LfFvZrD9LNB/lX7z3rAjzzvEbpBjzgXtf5U901Hfrn9ifYk0gvjP1K8fEGgurTkgyp/7ZpFqy2l/6g8e8QZKML8W+636o+2vt/t4hPmm9YHYfmJh/B37S7t4WOHaM0D/Jfq19W9493XRP1jtf1qfwrF2VPqZ9X9iiAHRWF/jn9e+f1vib2Wu/Xeg/x59enbi3HI88hB7Om5bvHRNd9I36yfa56V7kdlA/Ofp31+iVJiatbn8ubfnJKI5nAVVgt8UheMfl9fh5me1367vGGc/1+5In9FsJPX251w8zv5k7OD+AddeB/rP1pesPz9G28HBrr/a/zFuvLg21dHbH+vL6mMZWf/IB7f6koyhC4CSu39t8e/BTPtzQP8t+pSr0+cX89BDLAAAAAAAAACAp4FDLAAAAAAAAACA1/D+Q+zx62bL/7cAAAAAAAAAAODBJP/LwFsPsQAAAAAAAAAAwGxwiAUAAAAAAAAA8BpwiAUAAAAAAAAA8BpwiAUAAAAAAAAA8BrwDzsBAAAAAAAAAKjwIf+w0+iv2Kl/GfV4oP/p+scXOtc+gDme0XzZ+0Fh/P9+//0cdiVXvJziL5zWffE+V2Ss7Ry9xm/1v2T8WvxH2789Ucnv+APC7VLrO2r2xbl1Hz+Zf8/8Jzh9R/xM3/yv+99hqz+2/LvFf7tm2+855th//dX1Jf6r0cP+Wv5yQN+mf2jv14D41+1L+nfPf8n8HMcce9dfR+zjfH2x6Nvg83Ms0Jfp03Pq9dmXRx5iyTGn4/aFNNFR0P9w/b//bYtzK8y/7r/llzTl+M/PduhUFnHh+Cd0sA01/EtOt3E98P663JWOZW3n6Dd+m/8F41fjM9p+J6/Jb9+/2JxDYF8aj/LP2x2KwzFfASZ9h9bnIX48i/9t9YfXr/tnG8H0brXbfzBq/dX1Bf6r0sF+bf2OgL5N3/98PZ/+zMHr1+276+nqH6cvmN9O2/rbYONX1gxp1jfC5udgoC/Xp2cnzi3HAw+xboEli+ZYlOG9YUD/s/Xd+Hthp3FLL+ljHpn5VJGOf5EWgt6FIS5Kd6ztHG3jt/r/Tjx+Y3y62Z+xp5rf/iXCbTguGPvoA5PkXvSc6x9usjaEfvJY9d2Pm7+G5T/nf218eLT51/vd2pZ/x3OZ55XY8j/tr0cf/3p8tEBfoS+oD1ru+jX7XLul/t2J9e/k2w8/ZfxVhbNv12PrS6u+lYxemB/Dgb5GX5ZLY3neIfa28PZPAtLCMgrof4/+TeviWpyGIl4Z/2T/68WXbd7enra2vUQvuHaOlvHpntX/O0V9SXw2utqvze/bb+kV5OzL3Us0qLafPzv/aw7RAU36g/Of8z/X3oA2/4YeYoX2UR/vkL7rr8G/Rf8JadYvxEcL9BX6OU1LDdwo5k/Bvm71b6eov5Nrp3veIZ33H97ft1gndNFvgcuP0UBfpX/lyTqeeYg9FvS5wZctvC5A/3v0ndatyG+Q7nG/90skhtbRYS+x6/15213xsH0Kx72Ere0cDeP38j9R0RfEh58/R9JfmN/0ctja3NWsnbUvtcdr33KM+nr95nXXpO/aB+Y/539hfOSk9gZk/eNk3Sb6sH27ovqgRWn/eX/Q+lP7t+I/EQb9Qnx0QF+nn8bbt7XXgHS8gJp91ObXXz4vpVT0iUw7+aXD+svat49Xq6+99Ftg82Mw0Ffp4xCbY3fiX/Rp2PwgQv8L9J3Wrch7reul0vslEuJfYJFde+FwPjgk/aa2Nk4Jb0u5r7Wdo2V8f6+L/zl9Nj4D7Ffn9z5GS/KX7DtyjK5tDrShuXzs823/mcaobcIqtOiPzn/O/+r41Mjoh5T8E+FrROgPOQ32738etv5U/s30V2HUF8WnBvSb9Jn6JCejH1Kwr1v94/Sz7f7esP0HW1876rcgyY+RQF+lj0NsDlp48SLbbtKLfFoQof8d+qSVFHl376bdWMRz4wfQGoq0HDm9Nvv9b/PKc7e2czSN39H/7PyZ+AyxnzS3+5r8ZuZZRNovei4zF2pv8EOzfqrVMf9Jq+J/rl2BNf9OpM8lNNs/cv0p/Mv6j8Gq75/V+/0A+kb9g8Z5sPmTHTczF3quMk4BTr/on5tv9NpE0b50vMDmnvot0JyV+dET6Kv0KYenTKzM8w6x+ydF0dB0r72YqoD+9+jTgo3H9S+WwhUtbAGZ8S98Ybh/wpsrGO6e7kUSfZqcwdrO0Tp+L/+L5l+JzzD7W/LbzVObe45q/l1ELyKaSzLv3D0JLfqU6wPzn/M/1y7Emn8hfqxO+ox9w9ef0L8i/1Ww6hPC+OSAfgf9nbg+yBDlT84+mkvSL3ePgdMvtfdaf0Q2fvX62lW/hYb86Ar0Vfota7M3zzvEbpBjzgXjf5U901HQ/xJ90Utav4E+qY1faaO1ddqf+oOn9QV6wLVz9B2/4wEmpRCD0fbr8ttvOpr+Opsgv2ku0TNeL5zP/RkhTfq7/wbmP+d/rp3Dmn8R+6ZCE//++adbC1Z9sf8KdLNfEp8M0O+kv0HPKucgzp+sffb6x+mL50fo199JIX6kf/p/ty/4Ocag34gmP0YAfbk+PTtxbjkeeYg9HeeKSVJQ5gD9z9VPxj6vUqHWFnHJ+P5FWduYUnE4+hZfMDn2l3Dm8m60tnP0Ht89r/E/Nz4Xn9H2O2r5fZ+fTPeAz78ot7KDpzZoNpE99JNnuua/o+Z/B9dew5p/ie3bpZLvYn+IG6/n+nPU9CX9a1j1+fjUgb5NfxtBUB/KcPoS+9IxNPWP05f4J8Q9r1l/svjJ66tWvwf1/BgP9KX6lEfT5xfz0EMsAAAAAAAAAICngUMsAAAAAAAAAIDX8P5D7PHrZtVftwAAAAAAAAAA8B6SvxL/1kMsAAAAAAAAAAAwGxxiAQAAAAAAAAC8BhxiAQAAAAAAAAC8BhxiAQAAAAAAAAC8BvzDTgAAAAAAAAAAKnzIP+w0+it25F/GPAbov13/+MLm3Acs6ReOp1/mzbVzSBZ5bX7WL7vm9Tn/jvU/Z994/9ftk8SPY6X9Dos+1y5hpb49/+vzl2Cx3xE/86NOAIv+6vyz6tvjb6t/0H+7fj1/OZ5uf709/gWVv/T1R8Lh49z6tvjfjs3/dt6iT89l8nsmjzzEkmNOx+3JPNFR0H+5/t//tsW3FcZf99+0CPrxwqJMuZzolds5fP9ruv6FEb0EVPO7z6cOr8/5d67/uZ+3O539X7eP78+y1P6Nrvr3+bAs1ffPt8d/ozp/ASb7HQ05F/JR+afV9/0t8bfVP+i/XX97oJK/HE+3n58frTexXjt+Xf/8+3G+vuSdAwz+t2Pzv5036dOzE+eW44GHWLeoCkkd3hsG9N+t7/rvhY/6pUXQtYdFfCN6jmvXExcFZn7//W5FPbnXXb/mX66dw2rfDP/r7Iv7c6y236hvzr/V+nf0+b9rNeka7acft/k2v1ut+q7/wvyj/ivXP9euB/pv06/kbwPPsv9O2j7nEHvYmdrb3/86+vtfx7v0KXeG50qd5x1ib4m7fxKQvthGAf3P0b+N5aHcPRelW7SZTyIr7VqKL5Hc/HL3aOPXXsQifc6/o/0vsG+o/xvsK8aPY7X9LfqC+YlZrb/THP/cXDS02L/PR73WcjTpux8X5h/9uHD9c+0NQP9F+iG3Z9t4lP0Z0nZaf61iQkjTG7yt72vtR3Tyv4oB/lfxMv0rjut45iH2WFD0cnPO846cFkTof4a+G6tUBKmtUhy4djGVTVh2funz3vZrU6clGY/zL9euwWLfKP+r7avEj2O1/U36wvlJWK1PJONp4p+dv4Jm+7c///m5+RxotL1Jf4f6ev25+bfTQ59Qxp9rVwP9V+mHuGct6594mP037u3+QyS/9ug65tMLsuvwq9Mv1Lcu/lfS3f9KXqaPQ2yO3Yl/0aex84MI/Q/Qd2NlimD0ST89kyvi5XY5ft7FQlyY31E8/EtkmwdtaA9faMjoc/7l2jU02jfU/yr7Mv01rLa/UZ9tl7Ja3xr/0vyltNh/tG1zvNzh5towj0b/r86/peufa1cB/dfph7hnw75qHmh/BNfu8IdcNyeaihmvea3nZx5i+/i/gZfp4xCbgxI3XTR+IU0LIvQ/Q5/GSotgZix67liwXLscWuC1ftn5ZZA+l5DVp7Eq/uXaNTTZN9j/CvvY+HEstr9NP4N0nJTF+tb4t+qeNNnv5pLGujA/jmb9lfnXT391/YP+C/VD6FlB/hZ4pP0BXPuJ0Q8RbqybbYU59NSV0tH/TbxMn3JoysTKPO8Qu39KGw1N9yYlM/Q/Rz9XBGmspGiG97h2IdFvE0oIi3RLoSjqky0V/3LtGlrsy/k6d4+h2f4dUfw4FtpPdMqv5hfVQn1r/Anh/Is02Z/bMFQ2ejXemH+d9FfXP+i/VD/EsP4fa/8O1x7in23zQwqt9c2+7BUdnDas9beFTv5v5mX6Le/m3jzvELtBjjkTev8rDxMdBf0P0c8WQb9JDMcjvfM5rp1H/IIQFGmttoPT5/w71v8xd/vG+5+zTxw/jkX2n3TIr2ZtxyJ9a/xPBPOv0mg/zf+cXzpfBa/Mv/Xrn2vngP679U8a1//T7efaI/ZDTdtf55fg1nthLtb624jV/1bepE/PTpxbjkceYk/HuZdZ8kKbA/Tfq5/0Pa+wUO4bpfNKCyXXXiPte13eDH5+VBiO+2rfc/oOzr9j/c/bN9L/jpp9kv41Vttv17fl32p9a/z5+dfpEf/kmXNDIaGH/tr8s+lb4+/g2mtA/936Sdt5Sdf/0+3n5xetz+D+GNx8Qt9a/d8Di/978B59ypXp84t56CEWAAAAAAAAAMDTwCEWAAAAAAAAAMBreP8h9vh1s+qv+wAAAAAAAAAAeA/JX0l/6yEWAAAAAAAAAACYDQ6xAAAAAAAAAABeAw6xAAAAAAAAAABeAw6xAAAAAAAAAABeA/5hJwAAAAAAAAAAFT7kH3Ya/RU70Rcuq77svQ/QH6cffwDir5/bN1kfX7jc8gGJZJHVxu/xZdOW8a36vP21+N7i84H69fhYi3S9P29f0l/9Re/S+R8+SMcfqy9Z/7b6Y7NfVp9qWP0/fv17SvqOeA7T7P/v999P2De45G6w5p90/iWs/k/6Z+NTQ2m/2j8cvP3F9T0h/o7vfv9Z2yUcuV3bv5Xrj63+24G+TJ+ea8qPfjzyEEuOOR23J/pER0F/rD6bO3//2xbPVth+3X+1h1g/32t4X5Cjl3B1fN//ej79WYBpfKu+f75mvy6+vr88/M/Xl8Sn2r+Ktn9qn+8fPk/r5fQXh1zfj/uzbRrDTcR4fW792+qP1X5+fnV6+z/9mcNuf60PTw/9BDrYMM+c8Pr1+Mrnn8dqv+9/m++A9e/x7aE76v7h4PXV67tz/L/7/WdtFyDcv5XWv63+24G+XJ+enTi3HA88xLpFkxSsY1GE94YB/dH69dxx+nvhI91yEZQSL0pmfHphJvdU8zCOb9a/c7dfE19fxFQvsYTn6e++FPo17q+n3j+1z80v2bR0jf/BEYc0HuP1+fWvyQ8enf3c/PSo9Iev/4Oy/fT8KvszWOeT6mvjm5+/HJ397ucZ6//gXl/H5n8m3sz6pv7d4q/V/7T33x1re4yzb8/Vat4efkj9ofVPb6Cv0afc6FgrWnjeIfaW+H4Ru19rT/EV9Ifri3PnNpc2ikU4N37unuqT4ICW8Xvq70T238Zn4mvUdjxKPyTn6wzF/kKq/TP20fo477mXSv9NDN0jh99fWqP1q+tfmx8CmuxvFcug0h+9/nfK9nt/dzRfqZ9Attvmk+pr45ubvwat/TPW/0mp/nRMgEi/qf53jP/q989q/QzW9iK5WrZDY5LBXP2z138V0FfpX3FcxzMPsceCOQuYd+S0IEJ/qL5/SfuFQVepQN4WVAuVTUB2/PT5YxE3vEiaxu+oTyTjCeNLxWlrc1fWd2Ieph8iyq9KfxH5/qx9NDffblt3GX3y+2G3a8/k1kD96voX5occvf3i+iRCq58+33n9O1j97ec/73vvg1Zth1Y/hmLR2f+6+Gbmr6LR/pHrf6NWf4bmv3J9d4+/UP8r3n+Etb0C5fCR5wG1/FfmR3egr9KnPJ0ysTKPPcT+USE9knt+EKE/S98XyXPhhLi55IqgGD/v4hil8ffF618imw9oQ3f4QkHr+L30c/ar47uP0RT8B+qHsPnF9GeR9L/b5zeRu29ojq0bmZy+v3eNl2wiNsbqpyTrX50fNdrsj6nUJ5ZG/ZHrn9M/tAN7fT7UYlii0f4T7/umpU/k9FNq8ZX0r9Fm/9z1tz9TdHLNPxwZfdX6HhB/dX3h/FPjgfoR1nYGyt20rx+zmP9q/3QG+ip9HGJzUOJvjtkceeT1dtNYzBRAf74+aWYKZem+EP9pZlAgU6Tjt86j1/iN+ln7aSxlfD9JP4QZl+3PIO4fzSPjC2rXz6Po/5vvw2cG6+cI7ac/b/061J82+zOE81PwTv3cfNb4n/YY0bM6mvIvQNy/QLv/F66/HFx7gaL9wvU9JP4K/ZNF9p/01A+wtrPk5u3u1fK/xT89gb5Kn3JkysTKPO8Qu38SHA1N9/SLuAnoT9f3nzxnxqcF1abrx2QKsHD85oXaafwW/aL9LfF1dkRFjeex+iGV+Ij6V1D1D+0jXyT9cvcYSvp+Y1K43BwG6+fwz+5xIC17/Wm2f38uJJqfkJ76Pdc/r5/bsLh7feIvt9/Po+03kGX9HLn4avrnaLZ/wfrbJlXMPUfOPxxFffH6HhR/sX7AB77/rO0iMu9XWf7b638z0Ffpt7ybevO8Q+wGOeZctP5X2TMdBf2J+vuiyb6sMkVQgrgAC8YnX7QWkA7jt+hz9uviq99MPF3/pBAfcf8Cuv6pff7n0B/aHNDrh89O1s+sf11+3LHZn1CrTwV66mt977DqU//T/2k8eLrY31j7HSr9THx1879js9/9HOf7+PVfye8B+S9a3wPjr6svjH8yPF3f2i5GFMM0/7X+6Q/05fr07MS55XjkIfZ0nCvm7pruJOiP1KfEP8bernj4RPu8pEV13wRkLq/Djx/NT227fXybPme/oxbf+/x1U3i6Phcfyfxr6PXv46ZjaDZz2vm759O1NVa/vv4dtfzgsNvPz69GZ32d+IZd3xHN4dzQSOih78fQbNwveP16fLXzT+ln/9W35/rj68/4/OfWtx9jVPzr+pL6XOPp+tZ2jvv8/XWvMR6nl7bV/DMD6Ev1qVZMn1/MQw+xAAAAAAAAAACeBg6xAAAAAAAAAABew/sPscevmxv/3wUAAAAAAAAAAE8n+Svnbz3EAgAAAAAAAAAAs8EhFgAAAAAAAADAa8AhFgAAAAAAAADAa8AhFgAAAAAAAADAa8A/7AQAAAAAAAAAoMKH/MNOo79iJ/rCbdWXrfcB+lb94wuTSx9wSNv9pfvic26RSRbhSH2Jf1frO445lL6ovIRB/7/ffz9h3+DKhinLavsdR998fsvj3/kDQoF/4w8o/aXLPykZ/3aJf4UW+7sI5yjlV5K/TflXRhJf2fqwkrd/dP7Jxh+0/k6O8e/6ffKPm3+53a7P1V9rO4e1/q/Wd5Tzg8fuX9v6t+t7Dh/0rX8S5tS/Mm/Rp+eK8ZvDIw+x5JjTcXsiT3QU9I36f//bkn8rPL/uv5mXKNe+F7m2jYuf7zXddCyu3TFSf7vD+ne1vofW+M/PtunXvET66Z/QwUM6h9X2bzD5zeqz66MziX9H1vYQsX9V8W+gOr7PnxHuyNvv8yHMV//ckS92uPiq12cjpfhz87PCjj98/Wnqe0P+md+/IVp9rv5a2zn4/vX8Xq3v0GqGcPo95lfDrn9Qqg+jmVX/SrxJn56dOLccDzzEuqROkvYoulMSGfo2fdd/fzFSv/QlybW7230XRrwo76TtY/V5/67W9xzPZZ5X0qZ/YfXHXPvd81z+1/S5/v1J/Tv6EOGR+9caf476+P4l3rahrFGy3/0cbvI2OudBPb6ZeGTXh5WS/ePzj7d/7PrT5bM2/7j5a+2z539cf+9Y2zni/vd8834o5/dsfXq+Y/5z87f6h0Onf3DMIzOfofS3X8e79HvnagvPO8SSw8LCun8SkL7YRwH9fvq3sRKy7V6vp626IjpYn/Xvan3PVZzsL5EW/ZP9r39a/LHM/lx+a+zP9e9Nxr8zDrFi/3aIfxVu/Opvadup2U/+P++59r6H6Gp8teuzEdb+nmIJ4vGHrD/vT7F5lvzj5i+xr0P+R/U3g7WdI+rfkN9z9ZX5IUDl3wb/cKj0d+geCRrevy0MsF/Fy/SvOK3jmYfYI6HPDUb/hV0E+v30bwsiIdu+F60/r+0Wj+1TKG4TmLYP1mf9u1r/uH/EZZ/PTP0AqjPH800stD+X3xr7c/07k/Mv3dvmdV4m/2dQ+Nce/zql8enlvNt/1YZOSOyn2Hv93LqwUI2vJj9bYewfnX/i8Yesv91epr53yT9u/pX2fvnv7K2NYW3nSPqr83u2vnuezw853Pyt/uFQ6juY+jCU7vYreZk+DrE5dif+0YvmSN75QYR+B303lvYlui+ccyHRLTeXyjhF/LzLfTPto/U5/67W3/98vVQsL5EW/RD/gmvP+8X25/JbY3+uf1ck/vXPhPloQ+Nfa/w5JOPvOdRtErz9fr3v9ygHkk1eV5L4avKzCU38Hcn8ulMZf8T6U9d3Q/5x8xfZZ8n/vS9nW3M7R6a/Kr8X6K/e/6j8w9Ggv9/r8v5toav9DbxMH4fYHM6Jt5eKf9FMCyL0++jTWJXim23PFa02ff9pcrkA5tsH67P+Xazv2m9t6XxktNl/QTUmek7Havu9VpLfCvuz/Tsi9m/PeSj8a40/xzPtz+QC6TfmoITQPvqzMD9bYO3PEM5vBKXxh+jm7GX82zoPrp903Eb9/Pv1wtrOYX3/rNFvyI8CTf5V+IejWV9bH3rS0f4mXqZPMZwysTLPO8Tun0RFQ9O93i+TAtDvp08LotIv255bMPpCRvlZ6VNuH6zP+netvn+xFK6osNVpt//A+6H1N1Cr7Sdy+S22f4NbPybk/vW+7DMPuX9t8edRjO/ioI19AdZ+yoUkb3P3OhLFV5OfDbSsr575l6M4/pD15/Mu8i/dq8S3Nf+4+Uvta9Av1t8daztHsb8wv9fpN+RHhmb/Cv3D0arf9f3bQif7m3mZPsUrTtbpPO8Qu0GOORN2/ysHEx0F/U76jS9Ryq2gYMXz4WktoAej9Tn/rtaP6f8CFelLN1gZVtt/UrBBrG/wAYt07P2lNvYwmfHvSNsd4vH9pnKe/V4vzAfKl1G+yMRXtz6sMOtrdP7Vxh+Ug7r6bsg/bv4i+/T6XP21tnNY6/8j9MX5cYfTt86Pw6ofw9SHAVjtt/ImfXp24txyPPIQezpuK550TXcS9Nv1k77ndRQirt1Di+NoUxTwraffBGYubwbX7hmn7+D9u1r/QvsS6aHvx2jbuK62X5LfNX1Jfyt1/0a5t11V95jJ+dcSfwm18e/+X2X/NYe+Byk+vpr1YeVu/+j8q48/Y/0lc4jquzX/uPnr23X6ae6m41jbOST9ExujgVfre8r5wdHDv/z8yvTQD3HP9117PBb7e/AefcrT6fOLeeghFgAAAAAAAADA08AhFgAAAAAAAADAa3j/Ifb4dfOo/18HAAAAAAAAAMBikr8S/tZDLAAAAAAAAAAAMBscYgEAAAAAAAAAvAYcYgEAAAAAAAAAvAYcYgEAAAAAAAAAvAb8w04AAAAAAAAAACp8yD/sNPordtq/7LkP0Lfo80nOjT9W39rOYbXf+mXXNv34A6rtGqB/2Xj/AOymv10/qm87t/qfbx/NMP3/fv/9HOMmV+imsfZz+Z3Eb/qX3fewv5zfjtr49vVXh19f1vojIdaI9QfGX5j/1/xGfkB/aKT2zfB/HVv+2+q/3X57/U/n0Pv9U7f/4HhGm/92/ZHxl7zf7fW3DF9fk/m/8v1jQ6pPz2Xzax6PPMSSY07H7YttoqOgb9H3z1+P+4IQFilu/LH61nYOvn/dPv9zOp95+im+f7H5Bq+/TcC/GH7df+8vUVttsdtvyz870/VpY3+9qMfq+/HK+Z3+7Ka35cM5n/GY7WfyWze+dv3x1NcXHw87mZpwsiD+Sf5z8euFt+sn1p7i/zq2/PfPX49r67/Vfl6ft6+WnxxW+y/y+cFh1x8d/3r9sepr8fO7hvd6t/mOrD8Jc+2/o9GnZyfOLccDD7EuqZJFeyy6KVkE/d768aLgxh+tf8fazqGynzZUyYuF2ts3Uzr/p9yLupa7/m5Lwa7etUVnf//80zFfn/xz+nuwPpvfTj/cVGxE7aOx2u/61/JbO759/aVU19eA+pMS51vK/Pjf878Wv14ceZDkwwT/19HmJ4+q/j/g/VfPTz0q+0+OeWbmq0Snz/tHS6zP1J8B+nXS+ur03/z+saLT771WWnjeIfaWMPsnAWlijQL63fWjIsaNP1o/g7Wdw2b/Br3Y24uYSj/FqO0o+i9n68bQQ6za//b8UzFbn+IbjD1aPxfzJMco/ufPflPR8xBXpaf9OVu143dYfynV9SWIjw1vb82XU+Of5n9IzhedoJpEosmmcbj/GbT5KUBV/wfYr3v/8fmpRfv+cxTzowGb//vHX1d/7PpVMrn1Me+fFpT6V56u45mH2CPhzxdM/8JSBPqd9ZMiwI0/Wv+GtZ1Daf9Nz7e1fxKn1fdQcdra3NVuu6PiPzeX9CW64V8il/453yaU9nfPPyWT9cnXoX+H6wvzm3LDx3+K3w962k82JPktHL/f+rtTX1+960+KG38b68/b7ueQGXtS/G/5H5KLXw8o7se4uz/OCYz2P0PP/CdSewKy/u1tfzIea98eDy4/xWjt36jmhxal/oT4V+tPd/08bH0l3/j2kfXnxiT7iyj1cYjNsTvxjxL9WLzzgwj9Hvq+X1QoufFH60dY2zky/SX27cXDF9HtGXqhHs9qaNSP2MfQO38jox/i5sL61r8E3ZzV5rfY3zX/Gpiq730bjTtDn8lvv8nZf6YcKWw0RtDTfpp7kt/q8X3buI1CZn11qz8ZjrEDPR/vy0/z4p/J/5Bc/Mz4eF72uDkkvh3pf46e+X/kbsmHJf+ufP8J8lNOi/2+TzU/xDToz4w/kdSfrvoS9jkGg3/M+6cFpT4OsTn2pDmTmmBeNj2Bfjd9/2nXsRB2uPFH6wdY2zma7M9BfWovgjyP1A+RjjvT/hb/9GSiPtXwSGdjhf1RfDNa1N6+DlX0tD+ya6dl/Nw4PeHG76rvbE1jGdo/L/7Z/A8Z4Xc35i32jG0j5lGCtPrk/yvrP/25lp9ymux397T5UaBZf1b8D8J5dNQXE/kho0XtbTFQs8L+EKU+xXjKxMo87xC7fxIWDU339EWsCeh30Y8+zQrhxh+tv2Nt52i2P0NLoeipT4UtKmo8Iv9FL48yfqxO8efsb/FPT6bp+xfT7RPmBfZH+U1aSdxy90bR0/5cfreM37D+NHDrq+9GJbchcvf2+OZinbtnppD/IcL6pMFv7AtXIcZTN4ot+ZmhZ/2f+/5j8lNIq/0t+ZGj2f8z47/jn93H76SvIqyvpJXMO3dvFCvsD1HqT61NBZ53iN0gx5wL9v7r/tFA36bPFTBu/NH61nYOq/0h9GznF4jOv4LNXoLYf5JNzF5Ue+qPzj8rU/Qrvp9pP2lF8/D5douHcg1Y6GZ/wce68fXrTwWzvkb4ntbnaX/qj0nxl9QeyTNm6gekIbYz6PLzTs/632K/tf7X85Onp/3bQ9X8yGHVnxZ/R6b+WPV1pPV1Uv2pMNf+Oxp9enbi3HI88hB7Os4lU5JQc4B+u/5eBDLXNQw3/kh9azuH3X5fNPNtPFb9pC3qJ4HTv4/vr+ulF9m/XX31HVx+ce2jGa3vfVQ+GI3V5/M7jeG8DYTHYn/S97zCTV1t/Hv/3uHn1pet/siING4HhNHxr+W/JH49cXOJx57h/zqW/E9jd11+GN6/Nvs5fQdvXz0/a9jtj7nnR50e+iPjn/g2uH9h0ee4238fPrXhTe+fHsj1KZbT5xfz0EMsAAAAAAAAAICngUMsAAAAAAAAAIDX8P5D7PHr5um/bgcAAAAAAAAAMIfkr1u/9RALAAAAAAAAAADMBodYAAAAAAAAAACvAYdYAAAAAAAAAACvAYdYAAAAAAAAAACvAf+wEwAAAAAAAACACh/yDzuN/oqd9i+b7gP0LfrSJD++VDn4ou3/fv/9hH2DS55uEv1DO/cBTPpl15ovG3d01levM6v+NsLw+Jf14w/I/PWjCoDdfs/xjDb+dkb6X+7fVvul+Zsf/za/Yv8aivy6jX/0LbVz2Pxvz39HwX5VfR0Tf5l95fjxrPY/n/+19d0n/ja+tv4/Yv9xMGb9OerxTfp317fOz8rh1/1K9N+//uxI9em5bH7P45GHWHLM6bg94SY6CvoWff/89bgvWLkiQDn087O9NJgiSS8WaSEV6P/9b1uc23i/7r/pS8T3D5/38ywv5Jg++hL/5bHqu+bB8Wf0bbXFrn8gzs/OjPa/1L9t9gv8vyMb3/cXm+8QxteTju/nf803/ZnD7n9pfIqo7N8o1NdR8Wft084/YrX/eX1ufZvjbwT1P2Hq/uOC/DBg/dXj638On/fzOJ7n4PSt87OS2lewt5uenrH282j06dmFvnI88BDrkjpZtMeiD+8NA/q99eNFcXDoZPQSrAsl1nd6+4uD7EpfIq49LLIb2efk6PTv5P0nR2//yPjz9veuLW3+P/yQ8cdQRvtf6t9+9ufzVzr+fZNRx40nie9BMj5tWJM+onHKaP1vy3+t/fv8bnrS+PDo7NfPn2Ou/+/E+hl/Juu7t74Ofn5a7vbX4zve/7r8ov6G+bTpH3HIxEOJLv9c+8j9zx3d/IwI6vunrT8dOn3r2ujB8w6xtwWzfxKQLqxRQL+7fq6IXcmfWTQhVHRstheL6M1WD+X2OSdf1OWb6Dta/ZRifyEq/UnxJ2r+75jsLf6nPpL87M0E/0v829P+nP/F46t+C5JQie9JOn6uj2UOG1r/d8t/sf333BoZf7F9kvkLWOb/nUhfsL5766sQzE9L6v+TQnyH+j/EsD40tOhTHxLtvP6k+XdqOv1B+58d7fxM5Hye1PdPW38qlPpXnq7jmYfYI6HPAuIdOS2I0O+onymCNO6xUOpFmvLsmE8TlSJ8W7AB1NajeDTqn1hfIkr9GfE/KNjvX6Le93TNjr8iP7szwf+sf7van/G/YHx6Oe7zy8ZOQim+G+Xx0/l637d/Eq73f7f8r9h/kK2vg+Mvtk8wf56F/icSfcH67quvZEL9OSnEd6j/Q1rXh4oG/ZHrTxpfmpv3f1vcDyr2E43zayadz72+f9b6U6LUxyE2x+7EP0qkI7HmBxH6PfR9v7hQ+3tXEakVaV9w2u3O6Qc4WzNtvojtc6JnakW4Rpv+BdOfpUF/ePwDWPsdPgfcnPQRaNH3fWT5OYCZ/idS//a0P6evHX8fo6UIiPIrM/7+8vabmG1uf+7nFh/k7E/h8ptrr8Da78eOXauNTw2j/aL41Vjs/5y+en1b9BuYWX9E8e3s/5Cm9aGhRd/3Gbb+BPGdtv9pnJ8ZVX1/8/prQKmPQ2yOfdHESWMtJgqg303f/7YjKQ77IonHzhcQyrHoWR1Z/RCyNS2wGVvpuco4Bdr0L9j+DE36dG/rNyr+IYz9J9LnEprtF+bnEGb6/yD0Q0f7s/ot44fz0yDtxz3XqN/k/xyD7M/WV9dnZPxzlObZavfOav8X81+7vo1+UNEyvwKs/6V29fR/CDPukv2Huzdy/ZFmLb6ZWFMf/Rw4+9vmN4BcHEK49p6ssD9EqU8xnDKxMs87xJ6/wt5/dtC9SUkE/S76lB+ZAuYLV+HKLJy2TwDL+hG54kS2Jv1y9xia9XdE/SvY7B8X/4iK/SF+rDn68vwcxEz/74T+7WV/Sb9pfBenFt8L84sbv+VF3er/HFx7kar9+fo6Ov45ivZJ45dhtf+L+g3ru0W/mZn1Rxjfrv4PaVgfUlr1h68/Lr7056Rf7h4DZ3/z/AbA1Xc/13H6EQvsj1Dqt7wbe/O8Q+wGOeZcsPtfOZjoKOjb9LkCFuNeFplnZ2xgshr+5RXaS/5QzMWmr/XfHav+tPhLYrwXVc1moqv+1tr6SXgrU9cf61+9/br85cb367FpMymOb3l87dp3dPV/Q/6f1OwX+cYxOP41+8RzjFntf05ftb4t8W8E9X+jMfccXe3fWnuvv3p8fT0M462tgZy+bX59YW174fqzotGnZyfOLccjD7Gn49xiShbUHKDfrr8XwcyVHyZXpP0YbYWD009sO69wDukYmpeZVZ/rz9HD/pHx5/X9i+W6VPJd7A9x45XaRjHS/1r/au3n9WPS8e/xUZnPxpcfP/KPTnzD7n9b/kvy289RVl/7x79un2T+NVb7n9e/2ZgI2PR7UJ9fHc5+Pr5j/d97faT00A9x4/Vdf3x80zF67n96zM9GlF+Zsd+9/nog1ydfzXdQxEMPsQAAAAAAAAAAngYOsQAAAAAAAAAAXsP7D7HHr5tVf90AAAAAAAAAAMB7SP5K+FsPsQAAAAAAAAAAwGxwiAUAAAAAAAAA8BpwiAUAAAAAAAAA8BpwiAUAAAAAAAAA8BrwDzsBAAAAAAAAAKjwIf+w0+iv2Im+cPjn91/L105b+A7940uN4y/Tjj+g8Jfui7+5JJcsgvgLl/vqO47xax/A5P3D8279Z8TfMc7+2vqy229n5fqXx6eNm3+T8ef4/7A9P/54/5fXn6c+PzsF/f9+//0cdidX3zSo2T82/zxlfS4/TQj9+/79hyK+t/oT577e/5L8qc3PEc+h7/vPofDPAPv5+L7Zfkd5fNn7xWK/nbesf3quKT79eOQhlhxzOm5PpomO+hZ9iuHPz/ZSjV8ittj6+V7dfUG6igDX7sjdkyIY/+9/2+LcbP51/y29xMr+qfN+/fXx94yyn1tfNvvtrF3/8vj0wY8fmjfe/3WbhvufXf+DfS6sPyd08NKsQYaq/oT8U9l/z8/uJP59/f5DEN8wnr4OxXpX+/35Ov75av4MXX9WfUH/Knx/Pr5vtn+DiS//frHYb+dN65+enTi3HA88xLoE2hIwzJ8jKafk1LfoHzp3vd6xjRfFnbS998KIx3f27oWN/Jp7iTnK/tHyNv3V8feMtD8ZL1lf42qbBH5+fZD7l4ufDf+SDDcMo/1P9hTHH+1/N359/dXnZ4XXT+k7n0b9bvmn1b/nZ29i/47OPw6rPudf1x4eUjbC5+hAn/QRxalMnD98/HuvP61+ijX/7/r1+L7bfn587v3S234dfHzGotNf6yvP8w6xt8TbPwlIC98ovkT/Sr570q49xHh7u9ua07/5+qLmHy1v018bf88w+wXra/QhqsoD1n8KFz8Tmd/yjfU/U18m+Z/Irr/+9a9IYf1H7H/9dch8JPobw/JPbL+t/lRJ/Tsz/3L01C/4l9b36VNXf4IPCXJ9jDEo5k92fv3Xn07/jjX/o/5sfD/I/sL49fdLf/tVsPEZjFKfYrPMWZ5nHmKPhD0L/MTE+gZ9GvdI1Psm1r9kfOLS1VJATpKX1I20fZ/Pn7fdz8Gyiajo3xbsDuMfHe/TXxv/jZH2C9ZXX/uVPGD9x3Dxa4Nefrt/07HH+n+3t1RfZvj/ILv+mPn1pLD+QygWo/JfoO/90T//iIp+LT97cvPvzPzL0VO/Fl9q8/6Nx03j7bXb10Alf7Lz673+tPop1vxP+rPx/SD7C+PX3y+97VfCxmcwSn0cYnPsTvyjRDuSZ34QP1ffj3UVhX3RHj/e8EXkTGwVXqtcqDLt+8IJ9XzR4YpdDkbf+frWpvVPjTfqp0yO/2j71evLYn8Dj1r/Gf91Z9coGtfZ/1x9Ge7/gNz661r/GNj1733f3e4DVn9w/rH6Di4/LWT8OzP/cvTUL/jX5/M+Nj0T1qONYw3QtT1HB4pjLhqY/MnNb/n+I4Tpz5Lpz8X3k+xnx3ck75eZ9TcHF5/RKPVxiM1BiRcn0ZFo04L4yfp7ksZjMy8ImpN+EftPs8tj59tz82mzn9PP2tXinwKv1M8hfS6hKf6j7Sdbtvua9dVofxMt89Og8C+bP73g/NvV/zl7A/+O9n9I1i5mfj1h/Erv+MgPnWH0h+efNK+kzynJ+pe0JuVfjp76Wb9lxqLnKnFu9D+bP8X59Vl/bfoX1vzP9ifNWnw/x35u/JPouX72N8HGZzBKfYrRlImVed4hdv8kJBqa7gmSsQcfru8LQ+GKEvei5ZMo36dcgMrtuQWTKyx1OH0iU+Ra/JPjrfo5/Fhz4j/c/ob11WJ/Mw9Z/1z8uuLysBLbvv5n6stg/0dk11+f+ieiuv79PKLfkPWmoj8l/4T1j8vPNgr+nZl/OXrq5/xLYyVxzd0LoJoVLwgWUf5k499n/bXre6z5X+zPxvcz7Ccq44d4rb72N8PGZzBK/Za12ZvnHWI3yDHnS2P/KwUTHfVd+swC3ZNas5nhCpCoPdg0xP7g4cY/ERW5QQXc8Qb9BfGP6W+/an012G9l9frXxceK06/4d4D/yb5KfZnm/8L64+bXjdr6F9UmIzX7Z+SfyEYmP1upaM9d/3e66Wdt9P4MxyO9mi/YGMWI86eWf4b110XfkP9cfy6+b7f/pLLGTjLvF6v9Vrj4jEajT89OnFuORx5iT8e5YpcUvDl8k/59E0uJeWhvl05+f0llLj8O1+6J5qAqINz4iW/Pq1Q07/6p8379J8T/orf9jvr6stnfg5XrXxsfLff8S8ed4f96fRnpf379OdrrH4dE3+fAmA9uOP35+eevQ//e3j//OP8mcxixAKpY9Dn/OtIYxweNKPfVtnP5I5lfMoep+w9r/kv68/F9r/18fCPbtis37rj6K4GPz1jk+uSn6fOLeeghFgAAAAAAAADA08AhFgAAAAAAAADAa3j/Ifb4dTP3984BAAAAAAAAALyU5K98v/UQCwAAAAAAAAAAzAaHWAAAAAAAAAAArwGHWAAAAAAAAAAArwGHWAAAAAAAAAAArwH/sBMAAAAAAAAAgAof8g87jf6KnbVfNvwJ+scXFpc+YIi/0Dj/xevHM/EXgfPUkzz+AETQvl26L96XLDLOP44x9nuk8Wn5gIjT5+dny7+e9vurd/x5+yz+r8Pnt8R/jfz3++8nHDu4Yplx9t/su62vOPZd7Sek4x/Padc/R91+rj6aEMWfi48BYf4Ne/+q899fuvrDweXfwPVPVOIr9k8Nfv7y+uuvafV/iv3Wdg5J/8O/9/purz82/TT2I/Tr+Zf0717/eYbVPyFSfXpOHZ++PPIQS445Hbcn9ERHvV7/739+4f26/+aKhF+k3IuBYvzzsxV1zSL2872my2n59tA8W24J9Fn/eIbZz+kL55eH0+fnZ8u/Hv7P9BHTwT6T/3nq+S3wX29o4xbk+FD7vX2hPX6dxfG42u/P25CP37b+OTj7U3z8i+nSgyj+2vl1IMm/6e/fNP+Hrjku//zP49Z/Q3xv/qnBz5+Pr8XmHvoJXe23tnMI+qvqu+9fc0+MVd/3T/3R0/56/O96w+tfwvT6l6DRp2cnzi3HAw+xLumSgnEk/ZQseru+678XBup3L1KyxDvmkZmPknhRpBSKRsfcivV5/3hG2c/pS+cnp+7/tD1jryr/7mj9T88PjX/Nvv7+T9HmNxc/K7G/R9vvxk82RaEObRgTzZ7zEI9/5EkmX0ww9t+418fe3OOvmZ+du35tffYn1r//3JWG/Kb5dFv/+vha/RHPn49vb/9r9VP62n/H2s5xt3+PNRN3j73+qPQH1P+7fi3+rn1u/YvR52dfdPrk245rtYXnHWJvCbN/EpAm1ig+Sf82lsOPx411JWcmqZXERSQh8ynn2ENsQNY/nin2V/QJrl1I1f8bUXvP/NvR2S/LTw3N9nXyf8qjDrG0/gr+Hmn/uab8puHcJOU0MzWiGeH45HNyin39p1TtT+lpe45M/FXzs5Lqa9ZnD272968/EQ353Xv96/PP5g9d/X1Q/Xf0tj+DtZ2j2D+XiylMbkpQ6TesD45IXxD/qfUvRZufvVHqk2+nTKzMMw+xR8KdBaR/YSvySfq3hHTsm7I/P7ZLzmvB7pDu0W9/vnkN54sAJf+un7b5InK1ZwugmEoRyvpnY4L9REn/gGsXUdEnkvae+Udo7d/9XctPFQb7uvj/ji6/ufjZoLmU9AfZT9DY3v7Y76m9Pja2HAgRjN91/Rco2u+p1ceeFOPPzK8XN32nK12fHbjbv8e7W/1J0eZ3+nwnhPGt1gcRyfzZ+Pb2v1Y/prv9N6ztHJX+lAP5+t6v/mj10+e59cGRjCeNP83N2z+i7hRR5md3lPo4xObYnfjnxj8Td34QP0LfjZUWiT0xz0SlW07reM5rXUXEFYHWAuLHqm+E92eKxvkiFM5XDqOf889M+7P6AVw7C+f/THvP/Guxn81PDUb7zP6XUMtvxn9mvHZ56Y2x38dz9z1pJJucIwfo2p6jDW3rGsxQHd/7vM/6z8PaH7HngH7xCcjHXzc/Cxl9p9et/nBk9LvWnwLi/B6z/uXxZeoDS2b+XHyfVP9H2B9hbedg+lPsubH3MZqc0Kjfrf5n9AXxn1f/MqjycwBKfRxic+xJExax7aaxmCj4JH0aKy0Sbqy0IATj70kca6fPy/Cf5gn6ZucZwLUXYPVz4860f5DdB5x+tp00t/sd8q/NfiY/FZjtM/pfTEGH9Z8RquGRHxKG2J/xNelo86Qj4fjuz53Wf57n2J+Pf8P8Gsnqk1af+sNRtj+1dYz+SSG+Y9a/PL5sfWBoq7/9/G+t/0PsD7C2c7D9C3l3Q/pcwiP12fhncoH6tMdBBTu/wSj1ycdTJlbmeYfY/VOYaGi6p0/iJj5JP7v4cwnp7vlF6hd+4VIUdMoP6cJ386yM7cfS2S/Sz/hnqv3Z+ARw7RU4/WJ7p/xrt7+en1K62GfwvwY/11hH5D8T3s/VT5hH2E++TuzK3QsY/aIMx++1/os02E9x6KEdUYh/y/yaqOl3ev9VKeW/v2+tPxpy+T1s/YvjW/KPjPb628f/9vo/yP4dazuHqL+0vjfUn576LfW/qM/Fn/6c9MvdGwU3v9Eo9Ue/myU87xC7QY45F83+VwImOupj9AtFgmIXFKVYL6XjCyQL87LYF5XmZSLWFxXRgfZz+sIin8Lpc+3W/LPaT/3F+Xmnm32N/leRyW+x/yxIbBtiv1/vob8pHgWdWlsP+PH167+Ozv7j+dbNdJFibLXza6SSW6RnqD8iKvrW+qMh59ux618YX8Pat9Zfq/+t+sRA+63tHOL+Ihv19aenfjY3GTj9evwn1b8KovwciEafnp04txyPPMSejnPJlCTUHN6sn/Q9r3hR+4W5X9UXhFvUmoK6F4HM5c24zy81L5pbpr2OXt9fJRvH2++vQ0M7vxROn2t3JHNQBaCP/+X5mWK1z+p/nnp+S+ZvxWvkNybj7b/bGG8QIv/0M/pEN76ba0/bHTX77/7v74Ja/B31+Njh9Gvrswec/vZEc/3hqedf6vvr6ucGLr68f8pI5s/Ht93/PfRH2m9t5+D6c/XdWn+s+tsIpvov8Z8s/lffeQdYDze/0cj1KVbT5xfz0EMsAAAAAAAAAICngUMsAAAAAAAAAIDX8P5D7PHr5um/bgcAAAAAAAAAMIfkr1u/9RALAAAAAAAAAADMBodYAAAAAAAAAACvAYdYAAAAAAAAAACvAYdYAAAAAAAAAACvAf+wEwAAAAAAAACACh/yDzuN/oqd9i+77sP79Y8vLM5/wMCPH3/hsf6Lv2v66ZdJX190vSXWv5+o7brk6cYtsnp7/AHNvZ3HMP4U+w+OGAX+JyrxESHRr+cn385R63+07ddtfmPtv8V/u+L1JY1fCav+NoKp/kjnvzL/HHl9iX/qPNv+p+ffrX2yvmNk/j/O/7fxufrIwc9fvv9oqf8S/9XGH+t/rl2Sn3Vs9tv1HTX/1vOLz08JXP4o7G/St2Hf/9uQ6tNzC/wT8shDLDnmdNyebBMd9Xr9v/9tybdtfH7df++LlB/fF0F94dqp6nu9cGzKpcpC2R7YDnbSjZwf/zIntYVrT/HtcvcPGL+r/Rfe7z/J2A3xiRDoM/nJtnOo8o/7ub/99dop8F8Vq75zn6X+yOe/LP928vr7fbG9Kc+3v26ffP55rPopvr/48Q76o/N/tf9jUv/6/tfz6c8cvD7rX1P9F9gveD/I/ZfC9efH162PFKv9Vv0N0/s3xc9fNR0uf1T51aBvxLz/N6LRp2dnOifDAw+xLmm2BAtz+ki6Up535e36rv++MKlfukj58W2JKdFPikL2uQvrQokX5Z16O1dkeazjj7H/yIM0H/Tx4Yj1JflRa+dg+tMHAsm96LnR9utrZz1/eHT6zv56fdDyrPw7KOnr48PxNPufnX8p/evv6vxf7f+YxL9sfdQT63P+de27llH34K6vG3+s/+/tY+sPb79NnxlfnV/a9c/Zp42/vf7ocPPrW3906PQptzrmagvPO8TeEssnkfu19hRffZL+bawNdnz/cxdbc/oblDvRS6tSJKjo2eajfYlEqH4Lmsc0/iD7r+JzL1qq+Ago2l/IjxOunUOU/xtJDEbbr62d1fwRoNK/+cde/3Lzp3sL84/VbzU2w9Psf3T+pQyov1X9Cfm/2v8RqX8F9VFLpK/xb24uDRTtF44/1P8babs2Pzi09nfTz42fu1fLL0vucfGVxL9D/VFxm5O9/qhQ6lNuTZlYmWceYo8FRwnknOcdOS2In6J/S8gNdvx9U/Xn21zyXhsqJTn9A2rjFyflWa4Ai+E2gfl2Wpz7/CwbSOv4Q+ynuB9x2eOdCgjjw1Pxfy0/HFw7R7Z/Op+jSCc+GGg/xXQfm65qfCv+E6HUd3ZX64OWzPxX5x+jr4sPx/Psf3T+7Yysv6vzf7X/HWX/ps8X6qOYZDyNf2kNGOo/UfGfaPwx/r+4tw+vPwcF+7vpZ8dP55PPry7rn4tvpb1f/VHi5tS1/ihR6pOfpkyszGMPsX+0kI7Enh/Ej9B3Y6WLlBt/T9wzkemWe7ZSDErk9Df8eLs2PVMqFL7gtfvd21WeO9fu2J9pmoR1/BH2+3uXv53GkQceeXw4GPsL+XHCtXOU+h85TtdmJ31gc/lgmv2Ej3G43i4k/Ws06Dt7e9WfrL6/ty7/eP2YWnw4nmh/Ss0+Sf8aVn3HPsaw+pvoD8//lNX+358JjWPqo5yMvsa/lPuttjsY+9nxJf6rwfWXjM+tjxpW+x0G/dL4qvzabWhZ/5x9IvsN+i24OXWrPw0o9XGIzUGJtTkmWjR+IU0L4qfo01jJImXHd39OC0pH/dxY9Ny9iFGORfPU4T9NKxVHvv0kawePdfwh9jutW+zDZ+Tx4WDt5/za6PcTaf/ouYn2HxTmKe5foEmf/rz161B/Hpl/rH6G0D8KHml/joJ94v4FrPonPf2fIxyf/rz1G5X/Ob7J/xr/NuoesPYz44/2f7f4FLDaf9Iah17jj9LvNb+ekNYWtw71pwmlPuXYlImVed4h9vwV9v6zg+5NSqJP0s8tPnb8XMK6ew3FvKifjJW7t8+j7TcQbsjwk6Q7XHuEsyNa1Dz28cfY719shcvNQRyfOiL7c/kRwrVzCPtHhXim/Tv+2XieqvzJ0KxPttrrT0l/df6x+vtzIZF/hDzV/hw5+zT9c1j1IwbX30iffD0u/3Pk7Nf0z6Hqz/g3qo9Civoa/xrqv8j+yvij/a8Z3z87IP+E/m3RJ4Tjs/nF5GcRTl84v2b9FjrVn2aU+i21oTfPO8RukGPOpJn86/yNj9EvLFJufIptsGjj5xVk9f3hLNSj8dPnpAUmA1fARQX+RH+Y7DL+QPtjnH74rDA+FcT6nI0GHxCC/nfbJtrv2F8aYfx18btj1Y/Xu77+vCb/iFQ/IeMfjlfZ/8D8i/H+GOb/1fm/2v+Mf7W55+D0xf5trP9i+wvjj/a/avyR9Ufi3wb9k6b3b4p+/Z9w+qL8Mug3Yq0/VjT69OzEueV45CH2dNyWPHRNd9Kb9ZO+5xUWNX58X1z260xoCRL9faN2XmkhsRSOdOzr8mZy7ff568LfY/yR9qe459MXXjoGV+hD9Pb765iDJH9q8P2j3M46ZaT9iX5w38P3r2PVdyQ+lAnvaOfvnp+Zfyl3fd4/NZ5v/7PzT1Ifa1j1HWPzf63/ef9G85OJBkjmX/PvfX7+ktZ/vf3+OsYf7X9+fD4/a1jtt+orx78Nfu/fV1/frtPvQTKH6ROQ61Ms5zso4qGHWAAAAAAAAAAATwOHWAAAAAAAAAAAr+H9h9jj182qv+4EAAAAAAAAAOA9JH9l/a2HWAAAAAAAAAAAYDY4xAIAAAAAAAAAeA04xAIAAAAAAAAAeA04xAIAAAAAAAAAeA34h50AAAAAAAAAAFT4kH/YafRX7ERfiPzz+2//nuRpQP/T9Y8vdE4+gPnv99/PoZtcvdI9/gDIXz/HN4FHHHO8vihcTsG+DV7f+mXbXJGztkso28/Zd/NPd/u5/E76d44/H9+F/u+y/qz+59vrQP/t+vX85bDp2+uPo339y99PJXj7Of/a4u/g4hf7ILTPbr8du/02oA99iT4911Sf+vHIQyw55nTcXmwmOgr6H67/979tcW4Hg1/3X8EmhTbWLQeJPNK1Q8/9/Oi1Gfvq+t7f10s7/ZnDP38N7zc06Xjt7QKq9mvt8/qCcO3w86/n930+Pg+O5wWY7Ofnz9LV/xuq9cfPn6svtvoD/bfrbw9U8pejg36E7y8232Fcf7a9HW8/519b/DfY+GXmFGCz347ZfiPQh75Un56dOLccDzzEugKTbFiOohTeGwb0P1vfjb+/2GhcfpPSe6HK1s7hh4w/qvD2VfXpwJD0EfqpRFwU71jbYxj71fb5Il7a8EiI55+JJ+kf91x7smlV+b+3/a55pf93fcP60/u/1q4H+m/Tr+RvAzr9FG39YeYvWH+993Z3+yvzo3aNf1L4+NF8KvatPcRa7bcCfejL9bm1NIPnHWLJYWHh2T8J0H4a2Qr0v0f/ppWBXvp9tSVr5yoOmaIipWBfVT/Xh3zQXkTjTcwda3uRnC1a+4y2O6L53/Tv+U3xOTVd/BsP0T3s31jvf9v6U/mfa28A+i/SD7k920azvsNSf3Lzz91LNHrv7SL7Q0TzM8Q/N/4+Xm2sYXtbCT3tbwH60Ffo09qeMrEyzzzEHgXv3MB4R04LIvS/Q99pRQv2DuX5MZ9O+EOKLwx0peOT3ce8Bh1ii/rpocn7vv2TQO4QZm2vkLVfZh8V5+05dzVpnyR60vymuXv95rw32H+xxv8H9vWn9L80PmKg/yr9EPdspn7qaNPvUn+y80/ms83EaYfrj30/qUj1AnLz08SHo2j/ZuufH9vbGNeevvYr6Wl/C9CHvkIfh9gcuxP/qJAcxWV+EKH/BfpOq7pJ8S/gsXZ7DWczmbrber3095fu8aMG1j5Hqr+xF6/zBU8v/JY5eFvKc7C2M5TsV9m3z6EpCTLzF+S330TtbWRD40bWbP9q/1vXX4P/BfGRA/3X6Ye4Z8O+aoz6xD6G3vjy/FX1L/N+EJOxPyQ3P7V/KuTGP2wP7PH1tjBHk/0N9LS/BehDX6GPQ2wO58Rb0bBuZhRA/3v0Sav08tpzPJrHIMJ5uD/fbD+KiRLGvhPuOek4Cf63CeW5W9tZnmg/jVXL70yuU58GPxjtX+1/6/pr8j/XrgD6L9QPoWf16/7ArH/QOg9pP+65Rv2s/SG5ceme0j8lsvN2Y6VzGuT/Fnra3wL0oa/QpzU+ZWJlnneI3T8pi4ame5OKCPS/R58WbGlcv3Cb/yqXgvCTYP/iL1xRYRFQte8i1M/RUqj8mOUNjLVdhNB+1j43jtL3xflz+U1/Tvrl7kkw2L/e/7b1Z/O/vf5A/6X6IcL8zdFF/6Ch/hCm9Xfhbenk/5Dc/Fr8UyJrf25D7u6V59pifzM97W8B+tBX6LfsDXvzvEPsBjnmLNr+V9kzHQX9L9GvveSFGwAze9Eob9brL9gqEhsYfYqF0g/cBsbaLkZgP2+f/jDFzb+e314vzPeWGBCN9j/C/4b1Z/M/384B/XfrnzTmYDd9Ql9/TnrUP/b9dIez/6QwP2v8Twrj0/zO8VO9hAb7rXSzvxHoQ1+qT89OnFuORx5iT8e5zVyyoZsD9D9XPxn7vMKXrmHjIIAWfqBdN097iOXt4/SjdrXv90NY5vJDWds5lPbfBr3317lAMn8uv9MxNBtpq/2r/e/wc2hbfz38z7XXgP679ZO285LW4P76KvMF8+fWX9S+XTp9zn6Jf2v+4ZCMn9h4btg9Nvt7YLG/B9CHvkyf1sr0+cU89BALAAAAAAAAAOBp4BALAAAAAAAAAOA1vP8Qe/y6WfXX3QAAAAAAAAAAvIfkfxl46yEWAAAAAAAAAACYDQ6xAAAAAAAAAABeAw6xAAAAAAAAAABeAw6xAAAAAAAAAABeA/5hJwAAAAAAAAAAFT7kH3Ya/RU7tS+jngH0of/5+seXWgdfBP/f77+fQze55MudK3L19vgDMn/9hN9UL+KwLfcBG/dl3tYiLelfm99BJj4ieP1aft38P8B+Pr/jGOni30Pfscb/Fw+J/3bN9/9nx/8aO7f+Jf05auPHvo3Gn1L/HQr71f531MavxL+L/XZk+TkO6ENfok/PzVwYGR55iCXHnI7bi9FER0Ef+t+gT2v452d7aTObBHqxSzcSfr7XdP2G5NqEcu37vCz2/v1vK77bfH/df9NNjNdP56OZXx1B/+r8LsTxieD1dfnl+8vD0UNf6/OQfvav9v8qfdv662H/Z8d/mwBbn6r9OUz1L0PX+r+hmp+Td3E44iWAqa/S+J+o7Lejnl9noA99qT49O3FuOR54iHVFLykYR1EK7w0D+tD/Bv1DJ6OXYC1UcVG8k7bbaouzZ9+4kN+STQxtSJJ7uecCuPlzxP2Z+Z3I48Nx10/Gq+aXf4mpNtEJWn16vuO7pc3+1f5fp9/73Y74p/qS9X8R9+dgxm+tf93qP2e/aw8PwRtCP3kk40vif2G1X4d+fn2BPvTl+nPXRp7nHWLJYWHh2T8JSAvbKKAP/S/Qv4pPpmiF0KbHph1vYu6k7d1qy82XG7l7zCft3Pw5iv1zc9kRx0dApK/Nrw6/hdDp+597hP+gxf7V/l+pP/QQ++3xD7nNJU+xP0du/Ny92hofWf8L9lP+nfNx/m/8EE1kfz7+Jx3sV6GdX2+gD32F/lUn1/HMQ+xR8M4C4h05LYjQh77786fq07hHoapv0midH/NpgtuE3Nv9JsYXTrpa9Z0vo4LsSPW8b8ufdBo2UUSlf3Z+G4r48CT6wvyil9PW5q522x1a/d3eP9/m5zDZ/tX+X6zfbf0RWv3d3k+Nf4ibS279R1T6c2THT8fztpd8PLT+1+ynNh//My5acuO7e1z8A+z2K1HOrzvQh75CH4fYHLsT/+hFehTW+UGEPvQ/U9+PdW0qaps0vwFp1/Va5Y0a1+7wc3A+yU6xhvNlbuy9OJ8bZNow53wgmV8Npn92fpr4cGT01fm1j9GUBA36R2yCePtDVUsMWuz3f17n/9X6KYb116L/6fEPcXOp2sX05yiNL65/Pvb5vJDQZr+P9z4feiaMh4Lc+O6eOP+t9jegmt8AoA99hT4OsTmcE11x3RxJ/iMmFhPoQ/+T9d34t7GPYhVDazx6Vof/bV5+bAfXfkI+adjISfsVnhPPrwDbP6eriA9HVp80t/ua/JL6MaFNP2cvM78CTfqr/b9aPwf1Qfy1ZPVDGL+y/TmkcSs8N7r+53UzsabnGvyQG5/uVeIfYLW/CcX8hgB96Cv0aY1PmViZ5x1iz19h7z876J6gGPcA+tD/YH2/sShcmcLV9An4BtWHysaDaw/xzzbYTwWZ75crxJr55RD1z8xPHp86Rf2W/HLzVGg72vVzL0x3TxeLVv3V/n9i/P1YlfzIgPgX9EMq9UnUn8NQ/7zPx9V/Ijc/ikXSL3dPQnF8Sf7b7G9GPL9BQB/6Cv187ZjL8w6xG+SY84Xhf5U901HQh/736Bc2iMINUA5uA6PaoO1FtdtfJ0sgXyfPWDeQ4v4iH3fcwO/o8ku/mbPqU/+zPX2ep7/9q/2/UL9h/SH+df2TwvoX9+dorH/EwPp/ktXw9SaMR3GOHAUbRPE32G9Fl5/9gT70pfr07MS55XjkIfZ0nCtmSUGbA/Sh/y36uU2a30i0fQq9b0IylzeDa98LY+a+jMR353XZGI1/G5yfXx2uPz+/GDeeZkMrmX8tv+7zk9l9YNX3RDE6X6gS+uhfzPZ/ynx92/rrY//nxj/RPq9DQzL/Gtz4iW+zg/o5jKn//PzuY2gOk5Lxufhb7O8BN7/RQB/6Mn2qJdPnF/PQQywAAAAAAAAAgKeBQywAAAAAAAAAgNfw/kPs8evmRf/vAAAAAAAAAACA0SR/3f+th1gAAAAAAAAAAGA2OMQCAAAAAAAAAHgNOMQCAAAAAAAAAHgNOMQCAAAAAAAAAHgN+IedAAAAAAAAAABU+JB/2Gn0V+y0f9l5H6C/Vn/LsP0Ll1d9QBJ/4fPsLz6f4//DxtyX+VvslxS5Wnx7FMna+LFt6fjxB3T+epf9fP96fq3Wd4zNv5r+jPjL1vfhg9z6rPEJ9q+L/8U4/19jP3H9S/1TorP9av9zxLmln994bP63cVv/6vzrwff63/EWfXpuSX5cPPIQS445Hbcn80RHQX+t/jaBbfFsL65f998VRcy/RHUbp37M8j+t4Z+ffz+3TYLFfj/fa7qZsarxFfTnEIx/jZf+vPul2d+r7ef71/Nrtb5Dqxli1x8df+n6Lq/PGp9g/9r4H4zy/zaBB69/vr1OH/vD530cjvlYSce/69XnNx6b/3vj4zdV/sv9/yZ9enZZbnoeeIh1iyZ5aRxJHd4bBvTX6++Fi3QXFbFlC3OW/w+du15v++OiqI9v3J+DGf+/321TmtxLnutd2+baf+eur8uv2fr0/FD/1/XHx7+u7zmeyzyv5G32r46/Z6T/n7z+pf6Ro7PftSeHJqGfRLD1Xx+fvvT3v43MIX8o3+7/d+nT2u5Yq1t43iH2lrj7JwGzPg2C/lr9kNtcZuDtnW7rwST/X8UnLVr97S9uwoTxLfbnyI2fu0cbm8sHYzfxAaPt34n6N+TXXP3B+Sewf2j8hf6nPnQjs6lQ8i7718ffMcz/Ibe55Cn2F6KyX+gfDVr7Kf9Onzv/dzxE5TST+n8ijE9XBvjfRMk3M/hG/79M/6qT63jmIfYoeLSAnPO8I6cFEfrr9ENuC2oG+6blz9vuFu/UT0Fn+J/GPfyabtJ621/ZhIjia9jEZMdPx/O+DW30m6jD9u064tHEQvuJpL86v2bru+cH5p/A/qHxl/i/uj61vM3+3d6F8R/q/xA3l6etf4l/VDTaT20+/m26JdL5eNuyOSaKT2e6+78NOpzs/m/PPSPf6P+X6eMQm2N34h+9SI/CMj+I0F+kH+LmMruI7Qv3XMh0y/li0jyG+9+Pdb2Y3Ev90Nnoar/XKvZl48v05yiNf9hI12Y7bZgDH0T4TU/oDzmL7c/1V+XXAv3R+aey39E5/qy+/3Nxfap4of3L4+//PMz/IW4uVbuY/iwN9qvzo0ab/T7euzY90/kgJa3/bHwG0NX/PdhjuEL8G/3/Mn0cYnNQ4m6O2Rx51RT/Ip0WROiv0w+huUwuYmRr+kL7IP+78W9jh/b2s99/mpuOFcDEl+3PIc0f7jnpOAmr7c/2J83tviC/1ugPzj+F/Sc948/pu/bq+pTzSvuz9jLzK/BI/4cwfmX7MzTbX2tX0GZ/Rouea/cDSykOpfsj6ej/bqzwg+Mb/f8yfVrjyxLT87xD7P4pWTQ03ZuUzNBfqx+ypHjmFqy7N/AlGjLY/35jUbiocPWxP/o0vUQlvqL+HML84Qqxn4vO/6vtL/YX5tc6/cH5J7Q/xI/VKf6MPr8+ZbzV/tXxH+7/kCeuf65dSLP9pJX0y93rSLH+C98fXenk/644Pyhyvxvf6P+X6XN7pxk87xC7QY45F838v84A/bX6JyuK2AbldlC0Y3+MZ67/7xtEq/2iDYyjEF9xfw5B/pBttWf2oq7562yr7ef6c/n1CP2B+cfpRwyIv0o/sz453m7/o+I/wP8nD13/Ov/csdnvP8S4zYep461Uxxa8P0Zg9X9ffDy6/nVuKV/q/zfp07PLctPzyEPs6ThXzJKCNgfor9NPtM+r/aXeAi3OQ/tc0LOY6f/8Jq3d/n0Tkrm8GVx8uf4cfP5EtmUGjdq3S+f+1fZL+tfya7W+Z1z+Oer6Y+Pv4O2/cONpat9n2L8y/jG9/Z9on9dT1r9D458Uq/2OdIy+B5kotzjbz0uTA1Ys/rdyt3+q/Nf73/EefVpL0+cX89BDLAAAAAAAAACAp4FDLAAAAAAAAACA1/D+Q+zx6+YFf28dAAAAAAAAAMAMkr/u/9ZDLAAAAAAAAAAAMBscYgEAAAAAAAAAvAYcYgEAAAAAAAAAvAYcYgEAAAAAAAAAvAb8w04AAAAAAAAAACp8yD/sNPordtq/7LwP0P9u/S3D9y98XvMBzXj7Ofus9tf6V75M+7/ffz/H/eTSlZtGfYJr5+CLfC2+8QeE/vpRfdO7TV/Sv87b7XfEOTBf33HMQftF/y/2f5f1D/8/Xf/yba4+J/3V/q/A5Ve3948NWX6OwR5/Oyvtd0Bfpk/PzVwYGR55iCXHnI7bi91ER0H/u/W3CWyLd3tx/rr/th7i2hluP2ef1f5qf2/P9VJMf85AGwvFRsak3zC/CP/8FS6/IQv7c/G11VarPt+/ztvtd2htDumh7yE//Pzocr+D/nr/J6jWfz/9b/X/aP1tAor6vM/nnO8AuPzSvn+MqNdHZ2zxt7PafujL9enZhbnieOAh1hW9pGAcRS+8NwzoQ39/sZJuwyHOxGj7Ofus9jP9aUOQ3GN0dIXSqN8wP474pcDHt3dt1eqnxP31vM1+en65/4/nMs8reZv/U6zxgP+fpr/XUtJN66prDw/BG9nn+sHlF9feFz4+o+kdfx2r7Ye+Rn/u2sjzvEMsOSwsWPsnAWlhGwX0v1s/5DaXCcy0n7PPan+uf+5e7ZNuamu0vUVfOz8B0SbuNv49vkM3kQL9lKh/A++y3//cUV5tv4P60I3MpkLJu/yfYFn/O/D/g/RDbnPxkP7pc+f/5De5PeHyq0P+qdCujwH0jr+K1fZDX6V/1cl1PPMQexS8s4B4R04LIvS/Vz/EzSVa0BOYaT9nn9X+bP90U+JtK33SR3Xm8IeWJn3d/HiS8QTx9Zs4/+Kgq9V+Qq8fk/pDy9vsd89vsf7zbX4OrbF3NPif7h95u89nov6T8s+0/gn4/1H6IW4upfcLtXn9XF70gssve/4pkeTnYPrGX8lq+6Gv0schNsfuxD9aSMfLY34Qof+l+iFuLqWX7Chm2s/ZZ7W/1H8vjv4ludlIB4bD1hC/AWq2u1VfPD8OH7doDur4eh+4Pmp5s36mv4oX2n/EPtDzm7oWH7TY7/98bfqd/cdzWlr0U1bmn3H9N+n7P8P/B531Q9xcMm1+ve1zo2cKh2AzXH5Z868BdXxGY4l/A6vth75KH4fYHM6Jt0UzsZhA/7v1Q2guhRfwKGbaz9lntV/av/Ac1ZjID0qM+ieNfqACf74IdmgsZXwX6Wf7K3in/e7Pqc3M/Ao06bv2W1tbDN7p/wvr+of/H6gfkh03Mxd6ri0GNbj8Mr9/WmiJz2ga49/Eavuhr9KnNb4sMT3PO8Sev8Lef3bQvUmLCPrfrR8ys3gfzLSfs89qv7B/vhD6wmn6BN6kf9FSqKk+5jZeDfH1Y+niYNUv9hfyXvtzL2x3T+eLVn2/8S9c0caiznv9f2Bb//D/Q/VDcvWZ5pL0y90zw+VXh/dPCw3xGU1L/JtZbT/0Vfote6PePO8Qu0GOOV8Y/lfZMx0F/e/WP7Ee4hqZZj9nn9V+QX+yNfdMD99b9He49hzcBk4V3/2lotlMWfVFG9AKH2H/2Z4+z9PV/i3zuh2gd57uf8Kw/uH/Z+ufZGPsD4/hfGi+jblQhMuvHu+fRnT5OZiG+FtZbT/05fr07Krc3HnkIfZ0nCtmSUGbA/S/Vz/RPi/dRsbGSPs5+6z28/2p8B33s7ZZPgW36/Pzq7FvwjLXNVQ9vpF+1E+CVV/Sv8bb7fdEczhf6BL66F+48TS15xP878doW//w/7P1E+3zCn2cjtH7MOnHL+cX1z4aTX72xxb/Hqy1H/pyfcqV+QkS8dBDLAAAAAAAAACAp4FDLAAAAAAAAACA1/D+Q+zx6+ZF/+8AAAAAAAAAAIDRJH/d/62HWAAAAAAAAAAAYDY4xAIAAAAAAAAAeA04xAIAAAAAAAAAeA04xAIAAAAAAAAAeA34h50AAAAAAAAAAFT4kH/YafRX7ERfuKz6svk+QP979eMPaLZrwSJd6/8eRer4wuzcB1ySL9Ou9Zdg0U/sj76IXwLvPz6+Fvtt+rf83y7dF//3tN9fM/VX2//t/k+1c/3rrLbfUVu/nH2r7R+vb/OPgf9+//2Ecwuuu8wxD239t8Pn5zjs9cfOSvsd0Jfp03M912cDjzzEkmNOx+2FZKKjoP/d+jH+hTxTfq39Xu+S8/arXmJ//9uK3/bi/3X/TTcpfvxrvPTnjWp/ASb9+3yo1p3x4PD9a/5j42uy365vq+0d7M/0kfN++7/b//7n6/n0Zw6rvsNi/0bX+pP+zOGff7L/bf4ZAB1st/kkEr7u/2TbRsLn51hs9cfOavuhL9enZxfmiuOBh1hX9JKicRS98N4woP/d+il+EQ99iUY8zX4nHxY1Djf/fWNC8042KbRhSO5FzzH9WXroh5uwjaZ5XMT+4+Jrtf+OTr9/bdfq934xvs3+r/Y/uz71zLXfjV9Zv5x9q+2for+P1eKfAeTjffgp46+hMPGZwNpD7Gr7oa/Rt9XKPjzvEEsOCwvW/klAurEcBfS/Wz+FXqqzCsjG0+zfiDchCm62bOTulXyce1ZDoz7VtvNnV9RtH2JE/rvpV+JrtX9Hqz/0EMXq+5975vq77F+tv9j/t/YNYw1eZn/OFs6+1faP1g9p8U9vaOx7vGnO3iH3Tf1IuPhMYNjeXsJq+6Gv0r/WyTqeeYg9Ct5ZYLwjpwUR+t+rv0OLc9N217zfwm48xP4LwyHO2RIVREc6nrct+0lftr8Ciz719fG3+T3R08TXaj+h16favt0/r+P5JrT67vktFn++zc/Bsol8m/3f7v/k+e1J19Y+h4X2Oy11/XmC/QP1Q5r80xdaa+n6Ir8c83LzGaOdhY3PePrWHyWr7Ye+Sh+H2By7E/9oIR3FY34Qof+l+je89rSF+ij7d9tbD1LOllzfvTieG0TaMB62BpT6S2nU9y/x/Wcao7AJY8n4TxNfq/1WfcJvKl0fvQca9I/YBHo+Hi1+eKH9N77Q/9L6wLLYfqeV68fZt9J++nGgfkirf7rh11a87vycr3q/5hArrw+jsdSfBlbbD32VPg6xOZwTb4smV2wGAf3v1s9Bc2rYxLTwIPv9b6OPQtaA1G+l56x+b9LP+Jra9X7I+o/GEsbXaL9Z/6BxHm367s+pr5n5FXin/Rng/1faL54399xU+zP01A/p5Z9GaA8b+WHDad18U7GhNy3xGc0g/2dZbT/0Vfq0xpclpud5h9j9U7hoaLo3aRFB/7v1c7iFHS3qgTzEfv/bB+PLmwoiP+9iIRT2L9KiT75O7M7dYyj6TxNfg/1d9Hf8WLp5tOvnXpju3gL/78y1/863+79lo7TafsJa/3bm2n+nq35IJ/+04eOc/g0b0truZ68Ze4CG+IzGx3KS/mr7oa/SH7M2dTzvELtBjjkLhv9V9kxHQf+79WPyL7uRrLZftAGRINikkK2lZwyHOKJJ38c79Hd1jhk4/4nj22h/N33H/lLT5L9Vn/qf7enzPG+3P+LL/U/PKtfAavtPrPVvY4X9ISP0Tzr4pxlxbW38AMOAJj7Daag/VlbbD325Pj27Kjd3HnmIPR3nNpPumu4k6H+vfqK9XdPNX2r/fojLXLJp3P3nr2sjQIXvuH8blO9fx6rvSH2g2URJ/FeLr9V+q37in6ifBLu+I5rD+UKV8H774f9yG89q+5Oxz0tef1bbP1bf7h87fo6yg5l7Vlp7e8Hn50gi/2/XZPmNtfZDX65PuTI/QSIeeogFAAAAAAAAAPA0cIgFAAAAAAAAAPAa3n+IPX7dPOL/WQAAAAAAAAAA8ACS/2XgrYdYAAAAAAAAAABgNjjEAgAAAAAAAAB4DTjEAgAAAAAAAAB4DTjEAgAAAAAAAAB4DfiHnQAAAAAAAAAAVPiQf9hp9FfsRF+4rPqy8T5A/5v11y/S9/v/+MLs3AdciX9vXybPtUuo6Ve+zPu/338/kfZ1ydOAzx/Ovzb/G/RX2/8Q/3uOPNHmH/zP6V++zX8ALotPCWv8k/4z6w9h1X96/Pn5cfnRjMg+yfzGYsv/XrTWPzur7Ye+TJ+eW7A+Qh55iCXHnI7bF9JER0H/m/W93iXnX2g/E6v46/3/97+t+G0vvl/333QT4scL/Um1JNErtwtQ6d/1btDGR/oi9+PV8ofzr83/dv0bk+2/sUjf592PQtvxOfafdNbfJlBZnw3zi7Da738On59bf6z6vn+7/Rm6xp+fH5cf3YnsE8xvMLb870db/bOz2n7oy/Xp2QW5GfLAQ6wrGsmiOYpaeG8Y0P9u/Tvxoh7N2/3v+u8bD+qXbkJce7hJ2Iie49o5GH3asCT3mPGthTrOH86/XLsenf6dufbfWaN/PJd5Xgn8n+pX1mfD/Dh09rv2lfXHqn/nWfG/o8uP/nD2cfPviz4+YzjmkZnPUFbbD32NvrU29OB5h1hyWFi49k8C0sI+Cuh/t36GqS+xT/L/bSwP1Y6zKLqimfnNQ6VdTE4/d6/2mwZqs/k+yh/Ovz39v6PST5ltf8oifepDNzIvdSXwf6AfcpvLhnZ+ArT2r64/3fR3Hhv/HVV+9EZgHzf/rmjjMwiymQTt9U/Favuhr9K/8mQdzzzEHgXjLDDekdOCCP3v1b9h30So+CT/u7GighhAbZXizLVLyOqn8fS2lT5ppDp3+KOJRI/zL9euRqmfMN3+hCX6dP/IG9ffsomD/yP9EDeXdH0q58fTaD/NbWH96aFPPDj+hDI/OsPbx82/M8r4DIF0e9U/Javth75KH4fYHLsT/9z45+KZH0Tof6l+hNcd/SKN+CT/u7EyvqPacYxNz8SbBK5dTEH/KM5+k7jp/LmfD1tD/Aam3e+Z/OH8y7WraNCPWGB/xAp9/+cr3yybuDfaHzJAP8TNJW1TzY+jzf7V9aebfqP9F4Pjz7WX/NcNzj5u/gNQxWcEXqtP/Wtgtf3QV+njEJvDOdEV982R17qxFlMF0P9u/QBaoDMLuOOT/E9jpRuAzFj03OFnrl1BVj9D4TmqcZEfdGTzh7Qq/uXaFTTpByyxP2CZ/29tDbm3Af9n9ENoLsm6U8yPo83+jBb1aciBnH05ouf66T89/k350RHOPnZ+I1DEZwhO/6Y90QdPsB/6Yn1aI1MmVuZ5h9jzV9j7zw66N66YRUD/u/V3KL9nv8Acn+R/KohJPxor8Wt4j2vXkNPPkC/EvnC3/QbETbmQP2RLxb9cu5Bm/ZNF9p+s0fcb18IVvdjrwP8F/ZBifZDMr06z/fTnpF/unoSW+tNJ/+nxb86PbtTtE81vBOL4jKFX/Wtmsf3Q1+njEFuAHHMuGP+r7JmOgv536y97ge18jP+zmxC/eQjHI73zOa5dgWATVBzbsIHi8ofzr9X/Vn1iof3Eav0Tl4+6WgD/1/VPChq6+Nyx2b+6/tj1nx5/a350oTK2eH6DEMVnGvr6Z2W1/dCX69Ozy3LT88hD7Ok4V8yTgj4H6H+v/r6JyFzzpvFm/yd9zyt8EaY+TjcTXHsNXp8K73E/a5vXb/sthCR/OP9a/N9Df7X9q/VD3HiaTdwn2D9SP9E+r9DHmvik9LP/6rum/lx9Nfr97B8Tf65dkh9WavZJ/DcaS/73xvmjp+8lrLYf+lJ9HGIBAAAAAAAAALwGHGIBAAAAAAAAALyG9x9ij183q/66CwAAAAAAAACA95D8lfu3HmIBAAAAAAAAAIDZ4BALAAAAAAAAAOA14BALAAAAAAAAAOA14BALAAAAAAAAAOA14B92AgAAAAAAAABQ4UP+YafRX7ETfSH4z++/qd+1vAH9b9Zfv0jf7X+J/44v1L5/ABZ/QOYv/Rfvl8e/2vbrNr9k/uove+ftr/n3Zr86/2z6nthHOv9b9R/m/+2aZv9/v/9+wr7BJU+D5+tf+ZX/AJzPzxq2+N/6T84/x6Pslwd+h+tvbTcgyO8+7x8btvj34lij2vy3s9p+6Mv06bme67OBRx5iyTGn4/aFNNFR0P9mfa93yfkX6syX2Lv9L/Df3/+24ri9GH/dfwuHWIu91fH9/K75cD/v8zn9wcHbr/Ov7y93Rw99S85b9f3PK/1vyz+7/g3aeEs3ks/X3yZQXf/q+UVY7fc/h8/Pzr8n2F/rX4frb20fQJLf5vePEVv8++Hz/kex9vuw2n7oy/Xp2QW5GfLAQ6wrWsmiOV564b1hQP+79e/Ei3o0n+f/2H9u/H3jSuP2PsQy49OGJbkXPef6h5uojcI8pdzt1/jXv0Qsmzitfu8Xk05/vf97v9ts8d/7G+bzPP09ltm46ufHobPfta/Mv9X234n76+H6W9ut0PhBwNceYvvHv41jHpn5DGW1/dDX6KdrZwXPO8SSw8IXxv5JQPpiGQX0v1s/w+iXaMQH+r/ov5uWp1ttyY2fu5f7JP782RX1jodIrX9VvwXLo9P3P/fMNa39q/3f+91mj78tHo/SD7nNZUM7PwGvyr8H2J9SjJ8Qrr+13UQmv3uvfxUD4t8C+ZwEM4eakay2H/oq/StP1vHMQ+xRsM4C4x05LYjQ/179G/ZNjIqP83/Ff04rKpgev4n0hZOuYz5asuOn8/G23T5ppL5e3+b3RE/oX3o57Pq23NPqu+c3X/z5Nj8Hyyamzf6V/u+Wf0Sj/Ts0l0/SD6EYJ+tTOT+el+XfU+w/qcRPBNff2m4jl99917+S7vFvgHSPden8P/kQu9J+6Kv0cYjNsTvxjwrJsXjmBxH6X6of4XVzB61hfJT/Gf85Lda3fhPj5kRT0VAafy/OfpOy2UgHtsNW1xzYTmO0bqIy9qv9u4/RFPwG/cM3gb+9P7g45Wiz/1n+N+SfWd9rN4WeeKB+CMU2aVPHp0ab/Uvz7wH2X2T6q+D6W9utSPLbsv4b6Br/FrzWle/O/mMeE1htP/RV+jjE5nBOvBUN68tUAfS/Wz/A/zZsYgF3fJD/Wf+RlmCDIn0upWn8jK3Urs+DrP00ltK/jfa36bs/p7Z2jL9I/5v9f0Hv2Og5HY/UD8n5tSU+BV6Zf8vtv2Djx8D1t7ZbEec3+Uy//pvoGP8mnP5Ne1wMbjzBfuiL9WmNTplYmecdYs9fYe8/O+jepCIC/e/W36H8nlm8Dz7E/yL/UcHkx/VjNdgvHD8qxGRrMu/cPYai/S3+dXZELxWedv3cC8vdm2Q//Tnpl7vH0NP/Lfln1/dxaP1rlI/VD8mtT/H86jTbT39O+uXuMdj0F9q/I4pfBa6/td2OPL/9XHT+b6ZT/FvxHxwULuU7qInF9kNfp49DbAFyzLlg/K+yZzoK+t+tP/4FWuft/hf7T3LI3Itq02ZaMD7ZGj3jNzehvfdn6nD26/yrP0xY9an/2Z4+z2PTf5j/G/Kvi77wA5gcT9c/KWio4pPh7fm31n6+PwfX39reBWl+W94/jVjj3xe3HgbHImG1/dCX69Ozy3LT88hD7Ok49zJJXihzgP736u+bmMw1bxpv9j/nv2Ts87pelFQYgzad+crxs4OnNmg285L8qfn3Pn+d/VZ9T+Sj84UmoYf+Sv8ntkf9JPSzv23j/HT9RPu8wo0yN78a/ey/+s7Nv7X2S/rX4Ppb23vgNUr5bVv/PbDEvzfOV3MPsevth75Un9bK0vx87CEWAAAAAAAAAMDTwCEWAAAAAAAAAMBreP8h9vh1s+qv2wAAAAAAAAAAeA/JX/l/6yEWAAAAAAAAAACYDQ6xAAAAAAAAAABeAw6xAAAAAAAAAABeAw6xAAAAAAAAAABeA/5hJwAAAAAAAAAAFT7kH3Ya/RU70RdOq75svw/Q/279LcP3L3xe8wHNu/0vKXI1//YokrXxuS/zTvTVX/bOz7/uX/mXjeex6jviOfyoHAD7bfpJ/5n599/vv5+wb3DJw8DrX/4t1Veuvca74x//gsBfOn1HzX+xbff5jc6/HvlhgbePz4+xrNS/5V82PmP5Zv873qJPzy3Ij5BHHmLJMafj9mI20VHQ/279bQLb4t1ebL/uvyNeonXe7X///PW43zBEm7CqfwX9OQTjX+NxP293XK07/cHBz7/uX34+daz6jgafn1j1U3vTnzms+o4n2b/dmZp/GehgKz3I8PrbBCrrc8NUf3vYvzL+2x3r3urR9Y9r3zDFn4O3T70+OrNaP8bHZ6b8t/v/Tfr07MzkyPDAQ6xbNMkL8yhq4b1hQB/6+4uTdHu/RDk+z/9xUdT7N+7PwYxPG/LkXvSc65+8tIXzLHG3v+Jfdn56VPr0Y98XE+zX6Lv2hfmXweqPu/5uS9Yurl2P1n6rvSlafdveivHf8vp3R5cfVjj7+PiMZbV+ij/ERB8yDOXb/f8u/d61soXnHWLJYWHh2j8JmPVpEPS/Wz/kNpcJfKD/i5sYoX+5TVCR3Pi5e8lvmqi2nT+7om57iUfz5/wrmJ8Wlf7+c89cg/0afWfuwvxLId/b/BHph+RiHcK1C3ll/HtMIOe/3L2Z9S9Dc340UrVPEJ+hrNZPMdZeNd/u/5fp09pdkpgXzzzEHgXtfIF6R04LIvS/Vz/EzSVa0BP4OP9XNkEi/xo2Udnx0/G8bbdPGqlvj5dHZpNU9a9wfmJa9DetP9/mfWDZxMB+nf6Oe27Xj+6radTfoff88XwTaTwDyMbK+ufaRbwv/v6QdWhvV6v/s/5L4+G1bzZSX6/fNf9uVNq7xL9AyT5BfIayWn+HDie7f8qxG8C3+/9l+jjE5tid+Bd9WjY/iND/Uv0QN5dRL9ESH+V/36/oQ9a/TH+O0vh7cfYv6c1G2rAetrrmwHYao/VFnpm/xL/M/OQ06B/a2zOHnPdHSwxgf4v9y/PvxB8w7velZPRDyLaKX7l2lgb7n5D/ET4G4XzElPzHrK+h+RfBtJvjn6dqnzo+nVmtf2OP0Szxb/f/y/RxiM3hnHgr2taXqQLof7d+CM2l/0u0ygf533+aexTCDIx/2f4c0vhFz2VspXb9PLLzb/Gv1I6ENn3359TWjvGH/QL9RIv6pHPisfqf3vHRczqy+iFcXLl2hnfGP0OrH6T9oucyc6H2ShwLcPE350cTjH30Z2V8erJaP8eQOBT4dv+/TJ/W8LLE9DzvELt/ShgNTfcmLSLof7d+yMziffAh/o8+7S5R8a+oP4cwflEhJlsT3dw9huL8G/zb8qJo18+9sNw92D/Ffvpz0i93j8Huf++H1r9KWNQP4danof6+Nv4Z/FgNfnhi/dvpkh8tcPbRn3Xx6cpq/RwuDtGhZiDf7v+X6eMQW4Accy6ayX+dYQP6361/MuIlKuDt/hdtUBwF/4r7cwjiR7ZGz/hNbGjv/Zk63Pw1/tVqO6z61P9sT5/ngf0W/Yfkn6H2cfonnEbjHN4d/4R9U9n0YcJD61+3/GiCt08VnwGs1o/x/mr9MKuFb/f/m/Tp2WW56XnkIfZ0nCs2ScGZA/S/Vz/RPi/BS7cbb/b/vknIXH4Yzr9cfw4+flR4j/vZQdM5aDZSkvnX/cvPr4Zd3xHN4XyhSYD9dv10jLn5d4zRtnHl9BPt8zrWJ9fO0cP+bZSn5H/UTwLvP359pTb0zD9rfvSAs4/Pj7Gs1L/7f7r5X+1/x3v0qZbMT5CIhx5iAQAAAAAAAAA8DRxiAQAAAAAAAAC8hvcfYo9fN6v+ugkAAAAAAAAAgPeQ/HX8tx5iAQAAAAAAAACA2eAQCwAAAAAAAADgNeAQCwAAAAAAAADgNeAQCwAAAAAAAADgNeAfdgIAAAAAAAAAUOFD/mGn0V+xE30ht+rLxvsA/e/W3zJ8/8LnNR/QvNv/fJGTjX/EQPtF9z30LfG36ccfEPrrR+UAq/1J/5n+/+/330/YN7gywxR4vv/5/Prs/OPsq+cnx/P16+Mfc9uv7Pw5avbVxx8ff3t8bEj8Gz+js9+OLf9s3OLflH82VtrvgL5Mn55bkB8hjzzEkmNOx+3FZKKjoP/d+tsEtsW7bdx/3X9HvETrvNv//vnrcb9hCTcB0vGpxvz8bIcazSGqg74p/nZ9W2216vufw+d9HI7nOez236CDrTQH7Pqj/c/m14fnH2efOj8inq9fH9//fD2f/iygah8//tj4c+0bpvzn4O3PzmkitvzrjffFTPnV9kNfrk/PzkyODA88xLpFsxUw70HPUdTCe8OAPvT3Fyfp9n6Jcnye/+OiKB3/eC7zvBKdvmvvG3+t/b1rq97+ZNNi9ENb/C+ov8Efz/N/Lb+4dj3vs78+Py3P06+MTx/YJHPKzrMEY59g/LHxv6OLjxGB/TSfjvbr6J9/NvwhZt6BfrX90Nfor10rnucdYslhYZHZPwmY9WkQ9L9bP+Q2lwl8oP+jTYpw/Ks4ZoqqkhZ9olP8tfpDN5FS/dPnzv+2TUyz/x37Xy+2uONR/g/h8otrF/Iq+wXz0/IofW783JxUfxMhQGTfRjL+tPjvqOJjhbXfx6Oj+Tpu87Pnn4nW3Gtltf3QV+nT2l2SmBfPPMQeBe3cwHhHTgsi9L9XP8TNJVrQE/g4/yeHIMn4dP/wu/UQ26B/0CX+en1/iPQvDrqO55totJ9sL7+85Bj8v0G+mGz/UP+HkI8r+cW1i3iZ/YL56XiYPjt+Ol/f1vSbmJx9gvGnxZ9QxscMZ79r3/7852PjfWB5/yjpnn9t0OFkt78cuwGsth/6Kn0cYnPsTvyjQnoUj/lBhP6X6oe4uXR/iTJ8lP99v8iH7Pj+z9eLc99UHD+qaNEPMMffqE/4TZfro3dBm77fxO5t5IPWjYzVfm973i8SrPqOzv4PId8W2hxcO8sL7VfPr8YD9SXj75vH8wBFB6rjWQU5+xyq8QfGn2svzd9Kzf6jLbDX18MB88jRNf96sMdolvhq+6Gv0schNodz4q1oWjczCqD/3fohNJdJL6+DD/K//zT3KIQ73Piu/daWjCGkST+Enm2Pv1n/oHEebfqZuVAffQys9tM7JnpOxyP9H8KN26h78Er7W+ZX4JH6LePn5ilB2o97rlGf839TfEYQ6bhYpHNqi38TNJc++deNWXFwrLYf+ip9WsPLEtPzvEPs+Svs/WcH3Zu0iKD/3fohM4v3wYf4P/ptXggzvt/YFK6osNZp1Y8wxL+L/o4fa47//Z+Tfrl7DHb7/Yuz9a+yPdb/IVx+fWL+heTsa5hfjsfqN4zfvFEU5g83/oj4N8dnALH9uQ27u8fMtRed8q8rLg6Kd6+J1fZDX6WPQ2wBcsy5aCb/dYYN6H+3/smkl2jK2/3PbVB04+s3EN30G+Pf1f79paI5zNn0/SYunA89r/BDF/sNa+/p/j/hbPzQ/Dsp2KeaX4an62vGp2cb10HJvhB2/AHxt8anJzn7aX5nfPZngp9Ho8mP8dg+TGxhtf3Ql+vTs8ty0/PIQ+zpOLeZctd0J0H/e/UT7fMSvHS78Wb/74egzHUNoxlfe4i16lvjb7efXgzZfhJ6+D8dQ7OR7KfftnF6uv+5/OLaOd5uv6M+vzpP13co/K/SdvD2ceOPjX+P+NiQ+Dd65tzQz8KSf1bu/p8qT6y03wF9qT6tk/kJEvHQQywAAAAAAAAAgKeBQywAAAAAAAAAgNfw/kPs8evmwf/fAgAAAAAAAACAVST/S8BbD7EAAAAAAAAAAMBscIgFAAAAAAAAAPAacIgFAAAAAAAAAPAacIgFAAAAAAAAAPAa8A87AQAAAAAAAACo8CH/sNPor9hZ+2XT0P92/S3D9y98XvMBzbv9zxe5+vjWImnVd1jib9OPPyD014/qm/6t9lu/bN2g/9/vv5+wb3DJp/F8/9fy66Y/0/8ncQ7MtN/Bz6+G1f7x+T/WfkdtfKl9x3M//1Tht9jfZf072v1rX/927PG3IInfWNbaD32pPj23ID9CHnmIJcecjtuL0URHQf+79bcJbIt3e3H/uv/mX4Ijebf//fPX4/6FGG4C6uPz/etY9TdM8bfr22qrVd//fD2f/sxh1c9AG1vpRtquP9r/uvzy/eXT6eH/zJzF2O1X50eE1X7/8/V8+jMHrz/W/o3q+HL7aB38/CjWnsNu/w3V+t8w+nfk3laCOf4mBPEbzFr7oa/Rp2cnzi3HAw+xbtEkBesoSuG9YUAf+vuLj3QFL9mufJ7/46KoHz/ur0en3z/+Wvt711aVPm0YE5uNfugSf4M/nud/TX75TYRlE6m13+rvFJ39+vzgUNk/Jf9H2s+ML7bvmEdmPkp09t/R5SM3fsaexL9rD7H8/GYTx280q+2HvkZftzbH8LxDLDksLDz7JwH/F346NBDof7d+yG0uE/hA/0cvwYbxrS/RZv1O8dfqDz1Ecfo5m7W/CUkwxZ+0y7kh4VH+D8n5OsXoe4fOfv9zR/N19mvzQ4DK/tyceuZ/yGj7ReNvZOyjOXuH3De1SlT2p1jWf6N/lx5iBfObTTF+I1htP/RV+ledWMczD7HHgjkLmHfktCBC/3v1Q9xcogU9gY/zv9sEBb9JUo+f9Fdj0O8Sf70+1dbt/nkdzzeh1U/97dvaPwk2+H+DfDHV/l1zuz/E/yGV/KLNwa6f7SumJf5brP98m5+D5RCjtF+ZHzwt9ofz9W3d8j9ktP258SX2ke7Rzz0/Mf4JpvXf6N++619Jz/h3oRK/Eay2H/oqfRxic+xO/KNCchTP+UGE/pfqh7i5MC/Z7nyU/32/yIeq8TP9VRj1zfG32u/wmwjXhx5V0ai/v7zOAwwdaI5nNVjt97bn/SLBqu/o7P8QUX7tYzQ5ocH+I/aBvX5Tz80zR4P96vjUaLCffhyY/yGj7c+N76ja57WuQ4vL/xbbHQ32RxjXfxf/WtZ/Az3jb4aJ3whW2w99lT4OsTmcE29Fw7qZUQD979YPoblMLOCOD/K//23SUQh3FONn+yuw6vtn2+Nv1j9onMfb9U2/hdl4pP0h0nGn+t/9OZ0z458CTfaz85Pzyvh3tF887/A59+ebdsWGCtb8t67/7Ph0b078m2iZ3yDY+I1gtf3QV+lTjsxOzITnHWLPX2HvPzvo3qQiAv3v1g+hBT1Z90P87397k3kBCscv9hdi1ScM8e+iv+PHmuv/kJYXlV3fvzhb/xrbY/0fIs0v91y0qeBptz+3YXH3GFsSmu1viE+OnvHvmv8hA+0nhPkV2ucPLoVLkYP2/Letf6KTf70tDf5voWf8DYjiN4LV9kNfpY9DbAFyzFkw97/SMNFR0P9u/RPhJqA3b/c/9wLkxre+QK36J43x76bv2F8qms1cT316VumDLvqGtfd0/5+IbNRv5q32U/+zPX2ex2q/Kj4Zesafnu2c/yeD7D8R5Bdv36APMBy1+YnWBkMP/zasfyvd4t+IOH6DWG0/9OX69OzEueV45CH2dNxWPOia7iTof69+on1eM4v6m/3vN91n3+C6hqmNL+lfw6pvjb9Vf38xZPtJ6KyvE9+w6x9jtG0cn+5/Lr/u7X31HZz/Ex+cGxoJVvsd/PzKdI6/Stux2n5+fJ19zh5p7XP0sN+P0bb+7f61rf8eWOJvRbJ+RrPSfgf0pfq0VqbPL+ahh1gAAAAAAAAAAE8Dh1gAAAAAAAAAAK/h/YfY49fN1v93AQAAAAAAAADAQ0n+yvlbD7EAAAAAAAAAAMBscIgFAAAAAAAAAPAacIgFAAAAAAAAAPAacIgFAAAAAAAAAPAa8A87AQAAAAAAAACo8CH/sNPor9iJvnBa9WXrfYD+d+tvGb5/4fOaD2je7X++yMnGP2Kg+bJ9x7v14w8I/aX74n+r/Un/mfb/9/vvJ+wbXJlhCjzf/1du3evL0vhP8n/Nfkc9Pzls8b/1H5D/nP18O0et/9G2X8n8bvknD/yOzX67vqPdv/b1Z8eW/1Yk8RvLWvuhL9Wn5xbkR8gjD7HkmNNxe7GZ6Cjof7f+NoFt8W4bl1/339ZNRDvv9r9//nrcvxDDTYB0fKoxPz/bplqziXy/vq22WvX9z+Hz3g/H8xx2+2/QwUoaA7v+aP9vE6jWl7Xxz9DZ/5z96vlFWO33P4fP985/zn62naPaP7Xvbm+Mn7/Y/T3sj9Dqbxj9a1t/dmz5b0UQv8GstR/6Gn16duLccjzwEOsWzVZgwjVzFJ3w3jCgD/39xUa63Eu2N5/n/7goSsc/nss8r+Rt+r1rq07ftSebRmpvXwdt/r+g/gZ/PM//9fqyNv53+vu/Zr9+fhw6+1376Pzn7K+1czD96QOJ5F5Vx29iLYcYnf0pWn27f9ceYt38+ua/lTh+o1ltP/Q1+pQby9aK53mHWHJYWFj2TwK0n8a1Av3v1g+5zWUCH+j/6CUoHP8qjpmiquRt+kMPMVL902Znf8dNrDa/9r/eanHHo/wfcpuLZ3X8I3r7PyRnv3Z+ApriPyr/QwrxP+HaOUT+3aj9pl31W/g8zfY7LPqN/u29/lTc5mTPfyvF+I1gtf3QV+lTbqxKzJ1nHmKPBXO+QL0jpwUR+t+rH+LmEi3oCXyc/5NNoGR8un/43XqIfJ++30T7Fwddx/NNNNjvcM/t+m1xP2jU3yFfTLZ/qP9DyMf3+vKI+O90939Izn7l/Hga7ae5ef+36R7o43/CtXNk+6fz8banv2mhzeluf3buYtrs76Lf6N++60+Jm1PX/LdSid8IVtsPfZU+DrE5dif+USE5Cuv8IEL/S/VD3Fwsm4gWPsr/vl/kQ3Z8/+frpeleosdzWt6on+I3Ea6Pfgpt+n4Tt7e55zf9tk2M1X5ve94vEqz6js7+DyHfFtpO5sf/YoD/Q3L2q+NTo83+ofkfkrM/hGvnKPXfN6f+kLbZ+ed+PnyRstvQlARG+wmDfhf/WtZfA25O3fLfChO/Eay2H/oqfRxiczgn3oqG9WWqAPrfrR9Cc5lYwB0f5H//afpRCHe48V37rS0ZQ8gr9XNQH30etuln5kJ99D6w2k/vmOg5HY/0f4h03J76q/0fkrNLMT+ONvszWtSnYkcBc/y5dg5p/0HzWJ3/3exq1W+BtPrkvxU2fiNYbT/0VfqUI7MTM+F5h9jzV9j7zw66N6mIQP+79UNoQU/W/RD/R7/NCGHG9y/OwhUV1jpv1c/hx5rjf//npF/uHoPdfv/ibP1rbI/1f4iwvnTVX+3/kJz9DfHJ0Ww//Tnpl7vH0CX+1vePsD+7EXXjKGqfo4v9Bw36BDe+UN/bYoiDBi4/JyGK3whW2w99lT4OsQXIMWfR2v9Kw0RHQf+79U+kL9nOvN3/3AtQN77bTPfdQL5Kf3+paA4TNn1/eAnnQ88r1kEX+w1r7+n+P5HYOD3+OwP9f1LQUMUng83+8fl/wvnYEANC0J+3Tf9hRtf8b9A/6eHfhvVnxZr/VsTxG8Rq+6Ev16dnJ84txyMPsafj3MskeaHMAfrfq59on9fMov5m/++bwMx1DaMZ342n8f379enFkO0noYf96RjcRjOkn37bxvHp/k+0z+vKsafEf4z/efv5+dXoZ//Vt2f+c/ZL/FOD7x/l1832e3+V+wfYr9PXjx+3J/7ZLp1+D5I5Tp2AZP2MZqX9DuhL9WmtTJ9fzEMPsQAAAAAAAAAAngYOsQAAAAAAAAAAXsP7D7HHr5tVf90GAAAAAAAAAMB7SP7K+VsPsQAAAAAAAAAAwGxwiAUAAAAAAAAA8BpwiAUAAAAAAAAA8BpwiAUAAAAAAAAA8BrwDzsBAAAAAAAAAKjwIf+w0+iv2Im+cPrn95/oe747An3oQ79Vny9ysvGPL92WftH/gUH/v99/P2Hf4JKXuxfrE0n/mf4/ib9w/Uc1gefrX+PfPwCOPyD210x9B++fGs/XL44/af3V7Zf056iNf7Tlx39//jnq49fbk/mr658du/0WeuSfjbX2Q1+qT88tyI+QRx5iyTGn4/ZiM9FR0Ic+9Fv1/fPX4/6FGG6CpONTjfn52TaVmk1EP/0T2thK5/B2ff9z+LyPw/E8Rw/7733kPF9/m8C2Odji+ev+e99E296tdn11fkY8X189fuf1V7df0J9DMP41XvqzM/fN+bfBjK/zz+6Pcz7jMdtvQhC/way1H/oafXp24txyPPAQ6xbNVmDCNXMUnfDeMKAPfej31I+LonT847nM80ra9C+shfpd+q493MRsUHtmMyhEa7/V3pTn6e++LPi197tVp8/7R8vz9HXjW/NBG/+UuD8HMz4dyJN7yXPvzj/J+Fx73/qnw2p/f3T5Z2W1/dDX6FtrYw+ed4glh4UFY/8kIC0so4A+9KHfVT96CQrHv4pjpqgqadE/2f96ocX3b9On2n763Pnf9km8Tt//bLE35VH6Ibe5eMYeIgJy+oL80PIofe34vddfSM7+DMX+HCL/biS/af6Y/OP8W2jvXf9U9LS/E83518Jq+6Gv0qfcWJWYO888xB4L5nyBeEdOCyL0oe/+DP0O+skmQDI+3T8KqfUQ26AfQHXueL6Jl+q757Y2+8tTq7/H+8+3+TnMjP9g/RDycbhh8PhN9KG9XT3jH5LTZ/2j5WH6yvG7r7+QnP03Kv05suOn43nbwxz/mPzj/FtrpzZvf1veNdLT/i4Y8q+F1fZDX6WPQ2yO3Yl/VEiPwjo/iNCHPvSt+r5ftFFgx/d/vl6a7iV6PKelRT/Ev8Db/f5Ofb+J3dvc89sc2jYxDfr7i9M9cyj6+QRjiHmgfgj5lhvX50A4HzkN+px/VDxQXzX+gPUXkrM/gunPURr/yHG6Nh/QBzaHL1JenH+cfwvt/epfAz3tN2PMvxZW2w99lT4OsTmcE29F0/oyUQB96EO/iz4VuLMQ7nDju/ZbWzKGkCb9AKpx0XM63qmfmQv10cegXT/VyvuH45H6ITQXwQZR+lxCkz7rHzmP1FeMP2T9heTsD2D7czDjn3DPScdJWB3/NrsyWvScIQ4aetpvxJx/Lay2H/oqfcqR2YmZ8LxD7Pkr7P1nB93TF9EmoA996Jv1qT7kXoDM+P7FWbiiwlqnVf/CF+7WT+Bfq09/Tvrl7jG02597Ybp7H6IfQhuGNO53/Fj8cyHN+qx/ZDxWXzz+oPUXUom/qD+HML+4jaifSyf/hwyMP8HZX9RP5p27N4qe9hvokn8trLYf+ip9HGILkGPODev+VxomOgr60Id+uz73AtSN3/8AIdIXbgBzvFvfb97D+dDzirlY7af+Z3v6PM/T9U8kMd43FZrDlFWf8w/H0/VF4w9cfycFDXF/DoEN5IvaMy/MvxPO/my7vf5Z6WZ/I93yr5HV9kNfrk/PTpxbjkceYk/HuWKSFJQ5QB/60G/T3zcBmesaRjO+9hDbQ9+P0fZbmM/Rv/pqNnA99LdR3MvxaD9fqBKerp9on9eV45H2dmWmV8GuL/FPmafrO7jx/Rhj1h9nv2T+NXj/RvmVGfTd+ceNL9FPbZh3gPVY7Ldizb8erLTfAX2pPtWK6fOLeeghFgAAAAAAAADA08AhFgAAAAAAAADAa3j/Ifb4dfP0v24BAAAAAAAAAGAOyV85f+shFgAAAAAAAAAAmA0OsQAAAAAAAAAAXgMOsQAAAAAAAAAAXgMOsQAAAAAAAAAAXgP+YScAAAAAAAAAABU+5B92Gv0VO9EXbqu+bL4P0P9u/S3D9y98XvMBzfv9X/Mf92Xa6Reuh19EL4EvsnX7oL9W/+DIk4n6//3++wn7BldmmAK8fn19SPrXeLv+NoIoP0rw+s+Ov4Nr56j1P9r2qzo/f/2oFuBq/ztq9veIz1hs+d+D77Yf+jJ9ek63MLvzyEMsOeZ03L6YJjoK+t+tv01gW7zbxvnX/Xd+EX+9/6v+8+NdmyLu5+2OqzXnfDh8/2u6fsMSjle3D/pr9S+87s+2qdUcYvvpn9DGWjoHXn+bALs+qv2rvF3fNSvjE8HrPzv+G1w7hyC+13zSnx3amIes9v+GNb+t/jdiy/8OfLn90Jfr07MzczPDAw+xrqgkBetYVOG9YUAf+nvhJt3ZRfzt/mf8RxuS5F70nOsfbjI2jHGIizJnH/TX6h8cz2WeV9Kmf0H9De+6u/7uS6Ff4/563qWvjw/HXf/J8dfHJ4bpz9Zf96PN3pS5/tf7Txef0ej90xfYD325fu9a0cLzDrG3hbN/EpBurEYB/e/WD7nNZQKf5P+c/3L3kk/aqbacP7ui2vpbAU+0SRHYB/21+o7r5Zh5qSpp0T+h3Cy0CYn0Q25zyVPsL+RV+tr4CIj03xR/YXyKiPy7EdVf7w+LvSnL/C/0X3N8RqD1z0i+0X7oq/Rp7UxPzJhnHmKPgnIWMO/IaUGE/vfqh7i5rCjin+L/rP/SQ5Ef+/ZJH/XtUbwTPal90F+nT/ePvHH9LYfYRvt36D13PN9Eoh9CPubqS6W/iJfpK+PDk+i/Kf6i+FTI9k/n422PP7Ta/vznfeNrwEvXn8h/hviMQOmfoXyj/dBX6eMQm2N34p8b/yye84MI/S/VD3FzWVTEP8L/Jf/txfHcINGG6dByzYE2jVHYZLD4eUdzENgH/ZX6/s+X3r6pbpFvtP/Cb3Dv96Vk9EPIt4U2gunP8kJ9VXw4Mvpvij8bH4ZS/1r9Pdo2Hx1LzteDlnks9j/rP2N8RqDyz2C+0X7oq/RxiM1BCycuottN48tEAfS/Wz+E5rKgiH+K/6X+i57LaFH7UVDlUIFN+7H2QX+pvmu/tem1HW32X9A7LnpOR1Y/hOZSXh9sf4ZX6iviw5HVf1H82XYOaf/oudx6e6f/OfvN8RmBwj/D+Ub7oa/SpzU0PTFjnneIPX+Fvf/soHuTFhP0v1s/ZEUR/yT/C/0XFULSSjYWuXsMVJ9yfTj7oL9U328sC1f0Yq3TbP+Jf3G3/Qa6oh9SWR+i/hVeqy+OT52i/kviTwjrZxFh/3gjmtuwunu6XFjtf8Ka31b/tyD2zwS+0X7oq/RxiC1Ajjk3LP5X2TMdBf3v1j9ZUcQ3Psb/Av+RVvSM37yEevdn6nAblLp90F+rn+Lmw2w2E7roG9Y+p39S0BD3L/B2fV1+3OH0nx7/E8McCEH/3Nqm+Z/+2Z8JfuZY7f+Twhjd4jMIa/5340vth75cn55dkZsBjzzEno5zm6lkQzUH6H+vfqJ9XoKXXjfe7H/ef1T4jvvZsfeD1HlpXqRp3+u6pDj7oL9WP8SNp1l7/exv+y0Qp59on9dho2T+Nd6u79DkR4pk/k+Ov8Q/Nfj+fP1Nnjk3tBJW+5+z3xqfGXD+Gcm32++AvlQfh1gAAAAAAAAAAK8Bh1gAAAAAAAAAAK/h/YfY49fNC/7ePAAAAAAAAACAGSR/Jf+th1gAAAAAAAAAAGA2OMQCAAAAAAAAAHgNOMQCAAAAAAAAAHgNOMQCAAAAAAAAAHgN+IedAAAAAAAAAABU+JB/2Gn0V+y0f9l2H6D/3fpbhu9f+LzmA5r3+7/mP+7LtNMvpNd+0bqkyNbja7Of1y+O/9/vv5+wb3DJy61Bnxjvf96/cY78qCZg1efyk4PXr+Vf/AFxqX8Nm76sfw2rvoNrr2GI/6T1x9nHrw+O2vhH236F81tdf7roO2r2S/P7GENb/+zY42+lnp+jWW0/9GX69JxuYXbnkYdYcszpuH0xTXQU9L9bf5vAtni3F9ev++/8Iv56/1f958e7DiXcz9sdV2vO+XD4/td0/YYlOgQx8bXZz+urx6eNnXQjZdX3P4/0P29/JmZietuf/szB628TqOZfjO8fuaeKVV/Qv0oH+1X+SeH1V68/zj71/FIE8b3mk/6cYWr9yaDS3+iU377u/ei0O2COvxXT+rOz2n7oy/Xp2Zm5meGBh1hXVJKicSyq8N4woA/9vXCT7uwi/nb/M/6jDUlyL3rO9Q83GRvGOMRFmYtvf//f9XXjW18UOv0Z/q/bb7U3RaXP5qeeu34t/1L8JqJ6yGCw6af99ej09fPjUMU/A/Xvuv44+3Xzi2HGb8jv/vaP9D/n3zvx/A6OeWbmOxS9f/qi919fnmA/9KX61trQg+cdYm8LZ/8kIN1YjQL6360fcpvLBD7J/zn/5e4ln7RTbTl/dkW15yY+QDQ/u/8jfe345Btb7LX6Q/3P6vufLfamqPRv7RtJfmpR5V+KUdth0t8o9hfSrC+cH4cq/im9119Izj7t/GqIxt+o5diC+hNh0c/ZmiEXH7pHoplN/Uh6xt+K0H9dWW0/9FX61zpZxzMPsUdBOQuYd+S0IEL/e/VD3FxWFPFP8X/Wf+mhyI99+6SP+vYo3pVDWG5+3f2f6CvHpzp7PN9Eo/4o/7P67vktF/58m5+DZRPZoh/mi29rn0M6XgD5OF9faHNAthf6imnTv6j0F2HQF82PI9Fn4x/Tff2F5OxTzq9K1n/pfOr5vaz+7Jj0s/anZOJD8zr6uXZL/VHSM/5WRP7rzGr7oa/SxyE2x+7EPzf+WTzmBxH6X6of4uayqIh/hP9L/tuL43lAoQPLoeWaA20ao7AJZPHzLsYwN7+u/s/oq8b3G6z2uLfpD/U/p3/kxvbMoejnU4hhlTb7ufyUk9EPId9ydu1jNCWBVZ/pz2LUF/mnRkZfEv+TAesvJGefan4MJf+J83tN/bkw6pfsP8nFx9+76t2aQ2yX+Fth/TeA1fZDX6WPQ2wOWjibYzZHkv8IazFVAP3v1g+huSwo4p/if6n/oucyWtR+FFQ5/rdZlX65+XW0P6uvGJ9qbPScjjb9wf4X6adaef9wWP1/Qn30daAp/3Is0mf7M5jtb7T7wBr/IesvJGefYn4sUv8VnltTfy6s+pz9xfnd5laJYW8U/hkO478hrLYf+ip9WkPTEzPmeYfY81fY+88OujdpMUH/u/VDVhTxT/K/0H9RISStZNOQu8dA9Ynrk5tfJ/uL+uLx/Yuj7TegBn3680D/c/q73VE73Zulf6flRd2cfzncc9GmgseqL+pfoYv9Uv9ksMd/0PoLydnXkJ9FhP7L5/ei+nNi0yca8tsfbAuXcg020TP+Vgzrr5nV9kNfpY9DbAFyzFkw/K+yZzoK+t+tf7KiiG98jP8F/iOt6Bm/eQn17s/UEW0gHYX5We3n9EXjG3LPpj/e/5z91P9sT5/n6eL/Ha3tDk7/RBRj/Wbeqi/uX6Cb/Y1roEv8B66/k4KGJj+rCGwo5vdA+0f7/6Qwhi6/3fqTPtuHbvG30iMGDay2H/pyfXp2RW4GPPIQezrObaaSDdUcoP+9+on2ec18kb3Z/7z/qPAd97Nj7wep89K8SNO+1+WlJPG12M/pO7jx9QeXi376V9+e/nfw/o1y5HyhSrDr8/lZg9NPtM/ryL97u24KVn2J/2r0tz9u57DH/xhjzPqT2MfNrwY/vrT+rq4/bfqc/ZL5hbjnpbnXC0v8rfD5M56V9jugL9XHIRYAAAAAAAAAwGvAIRYAAAAAAAAAwGt4/yH2+HXzgr83DwAAAAAAAABgBslfyX/rIRYAAAAAAAAAAJgNDrEAAAAAAAAAAF4DDrEAAAAAAAAAAF4DDrEAAAAAAAAAAF4D/mEnAAAAAAAAAAAVPuQfdhr9FTvRF3Krvuy+D9CHPvQt+scXZicfcP33++/nGDe5rnJiLZKS/oX57djs5/Vr48cfEG7XAPt5++r+4an1575MnWvn6GG/45iH9ov+Dfqi9cHROf+260flgBf7/6SWvxyr/e+ozb+yvh6Qf554jn3tr8yvi/12ZOtjHNCHvkSfnpu5MDI88hBLjjkdtxejiY6CPvShb9D/+99W/LaN56/7r2ATSBuHY6Pq9S45v+GQb2IE/Zn52ezn9XXj+/5i+R762vilVPt7vWs+2p85/PM9/E/vuJ+fIDcl9NM/idYHh13f9m7vZ/8y/5vy365v3luZ1l+GyfmX66NCYH9tfjdU9tuRro9RQB/6Un16duLccjzwEOuKSlIwjqIU3hsG9KEP/XZ913/fOFA/fhPIFcK4qOqJ+3Pz6+//u75mfP8Sad7Qbej09fGLYfrThjC5Fz7HtTfQ5v/juczzSmzx3/sb3rVa/d7v9nf537XvuUb32/PuYK7/mfk3rK/Z+WfT08cvnt8dq/06eP+MBfrQl+vPXRt5nneIJYeFhWf/JOD/wk/PBgJ96EO/j/5trAy0qaqPzW0yOIr9c/Mb4P9IXzt+h98CNOtL4ldD5N+N0EauvYEW+6kP3ci81JXY49+eew6t/tBD7Jv8f3u2jWX+z80/d6+2vqbnn/+5h/lZWzNE80vpYL8KQX4MBfrQV+hfdXodzzzEHgXlLCDekdOCCH3ouz9D36bvxooK4h2qI4deFreJtfwmstI/N7/u/k/0hePTy2Frc5flt7Ct+oQgflWy/dN4eO3rk16uXUuD/XT/mLfrbzlEGfy/wa8PDr0+aW73z2uyvr//AP+7Zy35Tyz0f3b+yXy2kZ12aX3Nz7893n++zfugMf6i+KX+iLHbr0SQH0OBPvQV+jjE5tid+EeF/Che84MIfehD36jvxqpuIvwGojyu123fSDL9c/Pr6v+Mvnr8fYym4Bv12fgxlPrvL8dzg0ob1mMugnYxLfb7P1+b2n1TrdZ2GP1P2i15d2DVd/g5uD56F7To+z8/wv/u2bCvGqM+YfB/af7i9bUg/465Bfb6Q31DHNj4ZeYXYbW/AXV+dAb60Ffo4xCbwzkxKWLbzXnFBPrQh34ffRqrvIngPuX2v408Cqketn9ufh3tz+q3jM/4sYRZv1H3RNqfe26m/a791taWg1b/W38L9Mr8e5D//bPt+b/a/+J+hefW5F8u3ox/SjD2Z+cXYLW/CdY/g4E+9BX6tIamTKzM8w6x56+w958ddK/9ZaIC+tCHfh99Koilfr4wVv8aV2WDwSHqn5tfJ/uL+i3ju3lGLxWeLvrV+AkQ9udehC0vylb7/ca2cCliYPd/fX1w9Mw/P5YuD97v/w1D/q/2P2Faf6vyL7dhdvcyY3FU7C/O78RmfzMN+dEV6ENfod/ybu7N8w6xG+SY84Xlf5U901HQhz70O+jXNlGmDUYdcf/CHKz2c/q68fWbqW76wk1wEUF/mkvlGa49R3//63Kxi77B913t3zc1S/KPWOR/R2MMVvv/xLL+FuYf9T/b0+cVFGzg5kcY7Leiyo8BQB/6Un16duLccjzyEHs6bivedE13EvShD/02/aTveYWbhtrBzLfd+yefDhbh+kvmZ7FfMv/a+Pf5qeQH6PuL2fSd8P3pxXfczxjHtdex2p/ixpPa7uih78do+y2QXT/yf9RPwtv9n7Sdl3QOq/3Pz59fX96GVfnniOZ4bqglcPZL5mexvwe8f8YCfejL9GmdTp9fzEMPsQAAAAAAAAAAngYOsQAAAAAAAAAAXsP7D7HHr5sX/b8DAAAAAAAAAABGk/yV/LceYgEAAAAAAAAAgNngEAsAAAAAAAAA4DXgEAsAAAAAAAAA4DXgEAsAAAAAAAAA4DXgH3YCAAAAAAAAAFDhQ/5hp9FfsdP+Zdd9gD70oW/RP74wO/cBV/qF89cX8Xu4dg6uyEqKcG3+HL3GP57pa3/8AeS9/WKl/qHtrx/VBKz6Sf/u+XfA+XeM/y+gXxrfVv9s+vL1WUKif2jPrz894sPD2Xe0+yuuL9L5jWPt+//b7Ye+VJ+eW5AfIY88xJJjTsftxWaio6APfegb9P/+txW/bePx6/6bbiL8eOGmgWpJoldu5/D9r+n6F/I1Hte+UZ0/R7/xvd0//35UmziBfoRvz4V3nT7Xp4ZV3/cPn++bfxecf0f7H/r58W31r5/9Ht9fLC/RX1p/evsnA2tfWVMzv1Gsff9/u/3Q1+jTsxPnluOBh1i3aJKidRSl8N4woA996Lfru/77xoH6pZsI1x6+JDei57h2PXFRvhO3c/PX0za+e875/PjvfruBuv3+JXXfpKzTp+c7vlt0+s7eGfnH+Xe0/6GfHz+jR/Fvn0Ob/Qel9Skn1nd6T6o/pfZWfd4+0lPUF27+fcnYa8w/K99lP/Q1+tq1NILnHWLJYWHh2T8JSDcWo4A+9KHfR/82lodqx1kUXdGMN2lcuxbuJVxsL8xfS8v418sh81JRUrX/v9/sbzrW6ft865nrWvtn5B/n39H+h35h/AH1t8X+k8L61JDTJ55QfzZM/qmRtU9fX7j5d2VA/ln5Kvuhr9K/1uk6nnmIPRYMFXDnPO/IaUGEPvTdn6Fv03djRQUxgNoqxZlrF+M2QbVDSKW9Nn8xDeOT34/71k1kXp9ePtt9d93mtlR/1/vzueefmWy/Y2T+cf4d7X/ol8d3ce9afxvs32DzU0xG/2Bh/blo84+IrH37eOL6ws2/M93zz8qX2Q99lT4OsTl2J/5Fn4bPDyL0oQ99o74bK7NJin7TRc/EL0muXY6fd/kgyrQX5i+nZXzf57LXsIlj7Xfsz5zBXay/vzhdDh6SPh9a4tBi/6E3Kv/8vbJ/uXYN0Ffru3h3q78N+jf2MfTiGzn9gOX1J9feUT9nn6q+cPMfQNf8s/KF9kNfpY9DbA7nxKTIbDe3QjYxiNCHPvTt+jRW+gLMjEXPHQWTa5fjf5tR7se15+cvp2l8d+/me73tDlb/IJzHav2sXiYnBLTrD8w/zr+j/Q99Xn+L//2ZTvnXYh/NSV+HsvohuXFb5leA0+/mnxJZv+XGy8eX9d8IaM6bbof8s/KV9kNfpU85MjsxE553iD1/hb3/7KB7+iLeBPShD/0++lQQk340VvJiDO9x7UKi36Zl4NqJ3PyFtI7vNw6FK3qx1BHpH7h57GOv1t9+yLww3T3hWDvN+oPzj/Pv72D/Qz8z7nG58SnW9vrXrL8/FxGtDxkl/YiF9aerf0pk7NtuiuqLyH8j6JR/Vr7Wfuir9Gm9Rg/P53mH2A1yzFmw9r/SMNFR0Ic+9DvoVzYR4Xikdz7HtfO0bqBuZOfP03f8wQe43d/XX99Lma9P/c/8c27a4h/8zGHT9z+PzL8Yzr8z/A/98Flr/etvf2193hHrL6o/ff1ToWAf6Vfqi25+/bHmn5Vvtx/6cn16duLccjzyEHs6zm0mkg3FHKAPfei36Sd9zyt8KfqN2dWWbjS49hpp3+vyZnDtkvnX6D2+G0+zodDr18O7Rp9ejscz5wtVQg/9dIye+ZfC+ZdrT4G+XT/JkXzHAlZ97fpM4fTv4/ur5OOcf2pw+lb/cMjsK9cX7fxGYMk/K99uvwP6Un0cYgEAAAAAAAAAvAYcYgEAAAAAAAAAvIb3H2KPXzer/roVAAAAAAAAAID3kPyV87ceYgEAAAAAAAAAgNngEAsAAAAAAMBA3G+uAAD9wIoCAAAAAABgIDjEAtAXrCgAAAAAAAAGgkMsAH1pXlH4h50AAAAAAADgwSEWvB/uH3aa+w8/2Q6xAyfX/mX3fYD+d+tvGb5/4fOaD2je7/+y/+IPwLbrVkd6fNm3JH7HM7kv04/n8CP/tv0di/1r/X9r366Z9i/V/+/330/YFly6NCzrb9GtvuRH28/pXxxj5NYHx9vtr/WXwPWvtR9t+6VLvB2L/sHxTN/4c+vfMez9J17fcQz0+ZfHjSXh/e9/G9B/hz49V6lPXHsPHnmIJcNPx+3FZLAjQqD/3frbBLbFu724f91/ay/5Mbze/yr/+Q3lNbzXuzYN6c8ChPpUw35+tk1Nuknzc2reuJjsd91X+n/3i0Yv5eX6N2jjm+ZIhaq+j+eld8+1sfbz+gfl9cHwdvtV+ZOB6y+Y3zWf9GcBJv2LMfFPua+/6e+/2/ourwkr7lDA8fr3vxHov0efnq3MjWvvwQMPsa6AJEXzKIrhvWFAH/r7i5d0uZdwb97uf63/fJE8Nwy0oUj6qOIg1T/svNtrK7xG+8957T86Zvp/w1bb36+fossHrf4+/rlpmG3/Xd/jxsmvjzpvt1/fP4brz7QPr39S+9xzM+Lfu/7pSdd3+nNP+EPsfPtjoA99uT63VkaupYPnHWLJYWHh80XOLf7BvvBA/7v1Q25zmcAn+V/iv/RT8Fwf7W/CDir6V3FNi7a3t4uvu9g/2f8b3Wr7S/UjqL0xHyT6G5SL3Q5xAY36jvL6UPBi+wlh/yJc/1x77h6XoyVa9HemxT+17dZn8Pvvtr471v8Mzo4qs+1PgT70FfpXncjDtffgmYfY44VyFhjvyGlBhP736oe4uUQLegKf5P+K/6i4bWO7K/4tmNs0hfe8dtMnkSV9suu4n27S9p//vO1+jv03cUX7l/vfyW61fW+j65iPlpfqh9BcBuhfpPk+x/6Lu77Pu6Nfuj4UvNX+A1H/Clz/bHs6nwH176DUPiH+U+qfgPv63u3tUf8zuPGqTLb/BvShr9CndVyZGNfeg8ceYv/oRXYUj/lBhP6X6oe4udQ2ASP4JP+L/OfHjmrJXjzPDQRtKI65KMjqe71r45Rs0g7tzQfXLeeLhjxosf8J/o/wm+rQH2Jer++11X4/YPV37eozI+3P6ft7xfWh4ZX2B4jypwLXv9Q+tP4FZNtnxt+xx+BYZK5Pr/rHklnfPet/Bukh9iPe/y1A/1X6OMTmcE5Mish2815sRgH979YPobn0eXmJ+ST/S/3HPdcah1w/d+9m21GsHenPjon2058/2P85Hqp//y2NEkbf/zYqzbUMg+zP6rs+1fWh4I32h7TqHnD9peMPsj/b7u5Niv9J+Bz9uVP9Y8iv75y9/fSdbVUm2p8F+tBX6HOHVK69B887xJ6/wt5/dtC9hiLeAvS/Wz+EFvRk3U/yv9R/7rmoaMY0F8KMvt+4Fi6aQ65gu3sNG7kW+x/o/+bfRLxa3+dB9FcdtVT0vU2ynBphf0mfXx8KXmh/RKW/CK6/cPye9S8i0z4r/hHuuWPsnvWvSml9d6z/GZwfq0yzvwD0oa/Q52pTc+1S8LxD7AYZfhZM/6vs0Y4Igf53659IX8Kd+Rj/i/xXPyzQXFpjINaPNyhU20779zkEP4tptP9J/j9eak2HuTfri/oyFMbQHOBG2K/SJ/80buDfbr81B7j+gvGH1j+Rff3jH3Nff93qX43K3LrV/wzsIXZjiv0VoA99qT49W5kb196DRx5iT8dtC56uiQH0QP979RPt82p8kTfxZv9z/ru3p8NT4Tva1bZr45ffpEVzOAu6BLv9t2dW+j/TXuf9+j4nGg9OrL4f+95+zWOs/bx+TH59lHm7/Vx/Dq4/P35kv874Dbt+TO/439vvJibPqH3A4XOgtr6jGKjqfx03Hs9o+zmgD32ZPq0TQ3sPHnqIBQAAAAAA4DNwhwIAPgUcYgEAAAAAAPhwcIgFn8T7D7HHr5tb/58NAAAAAAAAPhwcYsH7Sf6XjNshlWvvC1YUAAAAAAAAA8EhFoC+YEUBAAAAAAAAAHgJ//79f9eIUf/sy1YKAAAAAElFTkSuQmCC)"
      ]
    },
    {
      "cell_type": "markdown",
      "metadata": {
        "id": "nMTO3qQTr-Np"
      },
      "source": [
        "De nuestra primera imagen, podemos observar similitud a una camiseta"
      ]
    },
    {
      "cell_type": "code",
      "metadata": {
        "colab": {
          "base_uri": "https://localhost:8080/",
          "height": 265
        },
        "id": "YuxTHRi7sIR4",
        "outputId": "3af2b5ac-1524-4205-9341-e08cd12c5e93"
      },
      "source": [
        "imagen = train_images[1]\n",
        "plt.imshow(imagen, cmap=plt.cm.binary)\n",
        "plt.show()"
      ],
      "execution_count": null,
      "outputs": [
        {
          "output_type": "display_data",
          "data": {
            "image/png": "[encoded data removed]",
            "text/plain": [
              "<Figure size 432x288 with 1 Axes>"
            ]
          },
          "metadata": {
            "needs_background": "light"
          }
        }
      ]
    },
    {
      "cell_type": "markdown",
      "metadata": {
        "id": "hBa0SNqXsOPH"
      },
      "source": [
        "##La ropa viene asignada con las siguientes etiquetas:\n",
        "\n",
        "0.   Camiseta\n",
        "1.   Pantalón\n",
        "2.   Jersey\n",
        "3.   Vestido\n",
        "4.   Cazadora\n",
        "5.   Sandalia\n",
        "6.   Camisa\n",
        "7.   Zapatillas\n",
        "8.   Bolso\n",
        "9.   Bota"
      ]
    },
    {
      "cell_type": "markdown",
      "metadata": {
        "id": "Dfb8XACmsgC7"
      },
      "source": [
        "#Arquitectura de la red:\n",
        "\n",
        "Utilizaremos el primer caso, 10 neuronas, función de activación relu y optimizador sigmoidea.\n",
        "\n",
        "\n",
        "\n",
        "\n"
      ]
    },
    {
      "cell_type": "code",
      "metadata": {
        "colab": {
          "base_uri": "https://localhost:8080/"
        },
        "id": "aJwCMJrqwUWK",
        "outputId": "4ebe5e8f-e0a5-4653-b41d-2ce96615879f"
      },
      "source": [
        "\n",
        "\n",
        "network= keras.Sequential([\n",
        "                           keras.layers.Flatten(input_shape=(28,28)),\n",
        "                           keras.layers.Dense(10, activation='relu'),\n",
        "                           keras.layers.Dense(10,activation='softmax')\n",
        "],name='Zalando')\n",
        "network.summary()"
      ],
      "execution_count": null,
      "outputs": [
        {
          "output_type": "stream",
          "name": "stdout",
          "text": [
            "Model: \"Zalando\"\n",
            "_________________________________________________________________\n",
            "Layer (type)                 Output Shape              Param #   \n",
            "=================================================================\n",
            "flatten (Flatten)            (None, 784)               0         \n",
            "_________________________________________________________________\n",
            "dense (Dense)                (None, 10)                7850      \n",
            "_________________________________________________________________\n",
            "dense_1 (Dense)              (None, 10)                110       \n",
            "=================================================================\n",
            "Total params: 7,960\n",
            "Trainable params: 7,960\n",
            "Non-trainable params: 0\n",
            "_________________________________________________________________\n"
          ]
        }
      ]
    },
    {
      "cell_type": "markdown",
      "metadata": {
        "id": "gmHoD3ws-Kte"
      },
      "source": [
        "Según el summary, tenemos 1 capa neuronal Flatten y 2 capas neuronales de tipo dense donde cada neurona de la primera capa está conectada a cada una de la segunda capa saliendo 10 respuestas que equivalen a cada tipo de prensa. "
      ]
    },
    {
      "cell_type": "markdown",
      "metadata": {
        "id": "fIpfUbT5t_mU"
      },
      "source": [
        "#Como función de perdida utilizamos sparse_categorical_crossentropy'"
      ]
    },
    {
      "cell_type": "code",
      "metadata": {
        "id": "xB2NiN2Gwj-G"
      },
      "source": [
        "\n",
        "network.compile(optimizer='sgd',\n",
        "                loss='sparse_categorical_crossentropy',\n",
        "                metrics=['accuracy'])"
      ],
      "execution_count": null,
      "outputs": []
    },
    {
      "cell_type": "code",
      "metadata": {
        "colab": {
          "base_uri": "https://localhost:8080/"
        },
        "id": "iQlPcEMHwmgP",
        "outputId": "721f2f7b-cca8-4cc1-dd20-aa1fd0846717"
      },
      "source": [
        "#transformamos los datos \n",
        "train_images = train_images.reshape((60000, 28 * 28))\n",
        "train_images = train_images.astype('float32') / 255\n",
        "\n",
        "test_images = test_images.reshape((10000, 28 * 28))\n",
        "test_images = test_images.astype('float32') / 255\n",
        "train_images[1,:]\n"
      ],
      "execution_count": null,
      "outputs": [
        {
          "output_type": "execute_result",
          "data": {
            "text/plain": [
              "array([0.        , 0.        , 0.        , 0.        , 0.        ,\n",
              "       0.00392157, 0.        , 0.        , 0.        , 0.        ,\n",
              "       0.16078432, 0.7372549 , 0.40392157, 0.21176471, 0.1882353 ,\n",
              "       0.16862746, 0.34117648, 0.65882355, 0.52156866, 0.0627451 ,\n",
              "       0.        , 0.        , 0.        , 0.        , 0.        ,\n",
              "       0.        , 0.        , 0.        , 0.        , 0.        ,\n",
              "       0.        , 0.00392157, 0.        , 0.        , 0.        ,\n",
              "       0.19215687, 0.53333336, 0.85882354, 0.84705883, 0.89411765,\n",
              "       0.9254902 , 1.        , 1.        , 1.        , 1.        ,\n",
              "       0.8509804 , 0.84313726, 0.99607843, 0.90588236, 0.627451  ,\n",
              "       0.1764706 , 0.        , 0.        , 0.        , 0.        ,\n",
              "       0.        , 0.        , 0.        , 0.        , 0.        ,\n",
              "       0.        , 0.05490196, 0.6901961 , 0.87058824, 0.8784314 ,\n",
              "       0.83137256, 0.79607844, 0.7764706 , 0.76862746, 0.78431374,\n",
              "       0.84313726, 0.8       , 0.7921569 , 0.7882353 , 0.7882353 ,\n",
              "       0.7882353 , 0.81960785, 0.85490197, 0.8784314 , 0.6431373 ,\n",
              "       0.        , 0.        , 0.        , 0.        , 0.        ,\n",
              "       0.        , 0.        , 0.        , 0.        , 0.7372549 ,\n",
              "       0.85882354, 0.78431374, 0.7764706 , 0.7921569 , 0.7764706 ,\n",
              "       0.78039217, 0.78039217, 0.7882353 , 0.76862746, 0.7764706 ,\n",
              "       0.7764706 , 0.78431374, 0.78431374, 0.78431374, 0.78431374,\n",
              "       0.7882353 , 0.78431374, 0.88235295, 0.16078432, 0.        ,\n",
              "       0.        , 0.        , 0.        , 0.        , 0.        ,\n",
              "       0.        , 0.2       , 0.85882354, 0.78039217, 0.79607844,\n",
              "       0.79607844, 0.83137256, 0.93333334, 0.972549  , 0.98039216,\n",
              "       0.9607843 , 0.9764706 , 0.9647059 , 0.96862745, 0.9882353 ,\n",
              "       0.972549  , 0.92156863, 0.8117647 , 0.79607844, 0.79607844,\n",
              "       0.87058824, 0.54901963, 0.        , 0.        , 0.        ,\n",
              "       0.        , 0.        , 0.        , 0.        , 0.45490196,\n",
              "       0.8862745 , 0.80784315, 0.8       , 0.8117647 , 0.8       ,\n",
              "       0.39607844, 0.29411766, 0.18431373, 0.28627452, 0.1882353 ,\n",
              "       0.19607843, 0.1764706 , 0.2       , 0.24705882, 0.44313726,\n",
              "       0.87058824, 0.7921569 , 0.80784315, 0.8627451 , 0.8784314 ,\n",
              "       0.        , 0.        , 0.        , 0.        , 0.        ,\n",
              "       0.        , 0.        , 0.78431374, 0.87058824, 0.81960785,\n",
              "       0.79607844, 0.84313726, 0.78431374, 0.        , 0.27450982,\n",
              "       0.38431373, 0.        , 0.40392157, 0.23137255, 0.26666668,\n",
              "       0.2784314 , 0.19215687, 0.        , 0.85882354, 0.80784315,\n",
              "       0.8392157 , 0.8235294 , 0.98039216, 0.14901961, 0.        ,\n",
              "       0.        , 0.        , 0.        , 0.        , 0.        ,\n",
              "       0.96862745, 0.85490197, 0.83137256, 0.8235294 , 0.84313726,\n",
              "       0.8392157 , 0.        , 0.99607843, 0.9529412 , 0.54509807,\n",
              "       1.        , 0.68235296, 0.9843137 , 1.        , 0.8039216 ,\n",
              "       0.        , 0.84313726, 0.8509804 , 0.8392157 , 0.8156863 ,\n",
              "       0.8627451 , 0.37254903, 0.        , 0.        , 0.        ,\n",
              "       0.        , 0.        , 0.1764706 , 0.8862745 , 0.8392157 ,\n",
              "       0.8392157 , 0.84313726, 0.8784314 , 0.8039216 , 0.        ,\n",
              "       0.16470589, 0.13725491, 0.23529412, 0.0627451 , 0.06666667,\n",
              "       0.04705882, 0.05098039, 0.27450982, 0.        , 0.7411765 ,\n",
              "       0.84705883, 0.83137256, 0.80784315, 0.83137256, 0.6117647 ,\n",
              "       0.        , 0.        , 0.        , 0.        , 0.        ,\n",
              "       0.6431373 , 0.92156863, 0.8392157 , 0.827451  , 0.8627451 ,\n",
              "       0.84705883, 0.7882353 , 0.20392157, 0.2784314 , 0.34901962,\n",
              "       0.36862746, 0.3254902 , 0.30588236, 0.27450982, 0.29803923,\n",
              "       0.36078432, 0.34117648, 0.80784315, 0.8117647 , 0.87058824,\n",
              "       0.8352941 , 0.85882354, 0.8156863 , 0.        , 0.        ,\n",
              "       0.        , 0.        , 0.        , 0.41568628, 0.73333335,\n",
              "       0.8745098 , 0.92941177, 0.972549  , 0.827451  , 0.7764706 ,\n",
              "       0.9882353 , 0.98039216, 0.972549  , 0.9607843 , 0.972549  ,\n",
              "       0.9882353 , 0.99215686, 0.98039216, 0.9882353 , 0.9372549 ,\n",
              "       0.7882353 , 0.83137256, 0.88235295, 0.84313726, 0.75686276,\n",
              "       0.44313726, 0.        , 0.        , 0.        , 0.        ,\n",
              "       0.        , 0.        , 0.        , 0.06666667, 0.21176471,\n",
              "       0.62352943, 0.87058824, 0.75686276, 0.8156863 , 0.7529412 ,\n",
              "       0.77254903, 0.78431374, 0.78431374, 0.78431374, 0.78431374,\n",
              "       0.7882353 , 0.79607844, 0.7647059 , 0.8235294 , 0.64705884,\n",
              "       0.        , 0.        , 0.        , 0.        , 0.        ,\n",
              "       0.        , 0.        , 0.        , 0.        , 0.        ,\n",
              "       0.        , 0.        , 0.        , 0.18431373, 0.88235295,\n",
              "       0.7529412 , 0.8392157 , 0.79607844, 0.80784315, 0.8       ,\n",
              "       0.8       , 0.8039216 , 0.80784315, 0.8       , 0.83137256,\n",
              "       0.77254903, 0.85490197, 0.41960785, 0.        , 0.        ,\n",
              "       0.        , 0.        , 0.        , 0.        , 0.        ,\n",
              "       0.        , 0.        , 0.        , 0.00392157, 0.02352941,\n",
              "       0.        , 0.18039216, 0.83137256, 0.7647059 , 0.83137256,\n",
              "       0.7921569 , 0.80784315, 0.8039216 , 0.8       , 0.8039216 ,\n",
              "       0.80784315, 0.8       , 0.83137256, 0.78431374, 0.85490197,\n",
              "       0.35686275, 0.        , 0.01176471, 0.00392157, 0.        ,\n",
              "       0.        , 0.        , 0.        , 0.        , 0.        ,\n",
              "       0.        , 0.        , 0.00392157, 0.        , 0.04313726,\n",
              "       0.77254903, 0.78039217, 0.8039216 , 0.7921569 , 0.8039216 ,\n",
              "       0.80784315, 0.8       , 0.8039216 , 0.8117647 , 0.8       ,\n",
              "       0.8039216 , 0.8039216 , 0.85490197, 0.3019608 , 0.        ,\n",
              "       0.01960784, 0.        , 0.        , 0.        , 0.        ,\n",
              "       0.        , 0.        , 0.        , 0.        , 0.        ,\n",
              "       0.01176471, 0.        , 0.00784314, 0.7490196 , 0.7764706 ,\n",
              "       0.7882353 , 0.8039216 , 0.80784315, 0.8039216 , 0.8039216 ,\n",
              "       0.80784315, 0.81960785, 0.80784315, 0.78039217, 0.81960785,\n",
              "       0.85882354, 0.2901961 , 0.        , 0.01960784, 0.        ,\n",
              "       0.        , 0.        , 0.        , 0.        , 0.        ,\n",
              "       0.        , 0.        , 0.        , 0.00784314, 0.        ,\n",
              "       0.        , 0.7372549 , 0.77254903, 0.78431374, 0.8117647 ,\n",
              "       0.8117647 , 0.8       , 0.8117647 , 0.8117647 , 0.8235294 ,\n",
              "       0.8156863 , 0.7764706 , 0.8117647 , 0.8666667 , 0.28235295,\n",
              "       0.        , 0.01568628, 0.        , 0.        , 0.        ,\n",
              "       0.        , 0.        , 0.        , 0.        , 0.        ,\n",
              "       0.        , 0.00784314, 0.        , 0.        , 0.84313726,\n",
              "       0.7764706 , 0.79607844, 0.80784315, 0.8156863 , 0.8039216 ,\n",
              "       0.8117647 , 0.8117647 , 0.8235294 , 0.8156863 , 0.78431374,\n",
              "       0.7921569 , 0.87058824, 0.29411766, 0.        , 0.01568628,\n",
              "       0.        , 0.        , 0.        , 0.        , 0.        ,\n",
              "       0.        , 0.        , 0.        , 0.        , 0.00392157,\n",
              "       0.        , 0.        , 0.83137256, 0.7764706 , 0.81960785,\n",
              "       0.80784315, 0.81960785, 0.80784315, 0.8156863 , 0.8117647 ,\n",
              "       0.827451  , 0.80784315, 0.8039216 , 0.7764706 , 0.8666667 ,\n",
              "       0.3137255 , 0.        , 0.01176471, 0.        , 0.        ,\n",
              "       0.        , 0.        , 0.        , 0.        , 0.        ,\n",
              "       0.        , 0.        , 0.00392157, 0.        , 0.        ,\n",
              "       0.8       , 0.7882353 , 0.8039216 , 0.8156863 , 0.8117647 ,\n",
              "       0.8039216 , 0.827451  , 0.8039216 , 0.8235294 , 0.8235294 ,\n",
              "       0.81960785, 0.7647059 , 0.8666667 , 0.3764706 , 0.        ,\n",
              "       0.01176471, 0.        , 0.        , 0.        , 0.        ,\n",
              "       0.        , 0.        , 0.        , 0.        , 0.        ,\n",
              "       0.00392157, 0.        , 0.        , 0.7921569 , 0.7882353 ,\n",
              "       0.8039216 , 0.81960785, 0.8117647 , 0.8039216 , 0.8352941 ,\n",
              "       0.80784315, 0.8235294 , 0.81960785, 0.8235294 , 0.7607843 ,\n",
              "       0.8509804 , 0.4117647 , 0.        , 0.00784314, 0.        ,\n",
              "       0.        , 0.        , 0.        , 0.        , 0.        ,\n",
              "       0.        , 0.        , 0.        , 0.00392157, 0.        ,\n",
              "       0.        , 0.8       , 0.8       , 0.8039216 , 0.8156863 ,\n",
              "       0.8117647 , 0.8039216 , 0.84313726, 0.8117647 , 0.8235294 ,\n",
              "       0.8156863 , 0.827451  , 0.75686276, 0.8352941 , 0.4509804 ,\n",
              "       0.        , 0.00784314, 0.        , 0.        , 0.        ,\n",
              "       0.        , 0.        , 0.        , 0.        , 0.        ,\n",
              "       0.        , 0.        , 0.        , 0.        , 0.8       ,\n",
              "       0.8117647 , 0.8117647 , 0.8156863 , 0.80784315, 0.80784315,\n",
              "       0.84313726, 0.8235294 , 0.8235294 , 0.8117647 , 0.83137256,\n",
              "       0.7647059 , 0.8235294 , 0.4627451 , 0.        , 0.00784314,\n",
              "       0.        , 0.        , 0.        , 0.        , 0.        ,\n",
              "       0.        , 0.        , 0.        , 0.        , 0.00392157,\n",
              "       0.        , 0.        , 0.7764706 , 0.8156863 , 0.8156863 ,\n",
              "       0.8156863 , 0.8       , 0.8117647 , 0.83137256, 0.83137256,\n",
              "       0.8235294 , 0.8117647 , 0.827451  , 0.76862746, 0.8117647 ,\n",
              "       0.4745098 , 0.        , 0.00392157, 0.        , 0.        ,\n",
              "       0.        , 0.        , 0.        , 0.        , 0.        ,\n",
              "       0.        , 0.        , 0.00392157, 0.        , 0.        ,\n",
              "       0.7764706 , 0.8235294 , 0.8117647 , 0.8156863 , 0.80784315,\n",
              "       0.81960785, 0.8352941 , 0.83137256, 0.827451  , 0.8117647 ,\n",
              "       0.8235294 , 0.77254903, 0.8117647 , 0.4862745 , 0.        ,\n",
              "       0.00392157, 0.        , 0.        , 0.        , 0.        ,\n",
              "       0.        , 0.        , 0.        , 0.        , 0.        ,\n",
              "       0.        , 0.        , 0.        , 0.6745098 , 0.8235294 ,\n",
              "       0.79607844, 0.7882353 , 0.78039217, 0.8       , 0.8117647 ,\n",
              "       0.8039216 , 0.8       , 0.7882353 , 0.8039216 , 0.77254903,\n",
              "       0.80784315, 0.49803922, 0.        , 0.        , 0.        ,\n",
              "       0.        , 0.        , 0.        , 0.        , 0.        ,\n",
              "       0.        , 0.        , 0.        , 0.        , 0.        ,\n",
              "       0.        , 0.7372549 , 0.8666667 , 0.8392157 , 0.91764706,\n",
              "       0.9254902 , 0.93333334, 0.95686275, 0.95686275, 0.95686275,\n",
              "       0.9411765 , 0.9529412 , 0.8392157 , 0.8784314 , 0.63529414,\n",
              "       0.        , 0.00784314, 0.        , 0.        , 0.        ,\n",
              "       0.        , 0.        , 0.        , 0.        , 0.        ,\n",
              "       0.        , 0.00392157, 0.        , 0.        , 0.54509807,\n",
              "       0.57254905, 0.50980395, 0.5294118 , 0.5294118 , 0.5372549 ,\n",
              "       0.49019608, 0.4862745 , 0.49019608, 0.4745098 , 0.46666667,\n",
              "       0.44705883, 0.50980395, 0.29803923, 0.        , 0.        ,\n",
              "       0.        , 0.        , 0.        , 0.        ], dtype=float32)"
            ]
          },
          "metadata": {},
          "execution_count": 7
        }
      ]
    },
    {
      "cell_type": "markdown",
      "metadata": {
        "id": "7m7LO2lovIZV"
      },
      "source": [
        "#Entrenamos el sistema"
      ]
    },
    {
      "cell_type": "code",
      "metadata": {
        "colab": {
          "base_uri": "https://localhost:8080/"
        },
        "id": "huBkbtgJwsfj",
        "outputId": "98be3a41-bfd4-4002-86bb-5e9e3d4338d6"
      },
      "source": [
        "network.fit(train_images, train_labels, epochs=5, batch_size=128)"
      ],
      "execution_count": null,
      "outputs": [
        {
          "output_type": "stream",
          "name": "stdout",
          "text": [
            "Epoch 1/5\n",
            "WARNING:tensorflow:Model was constructed with shape (None, 28, 28) for input KerasTensor(type_spec=TensorSpec(shape=(None, 28, 28), dtype=tf.float32, name='flatten_input'), name='flatten_input', description=\"created by layer 'flatten_input'\"), but it was called on an input with incompatible shape (None, 784).\n",
            "WARNING:tensorflow:Model was constructed with shape (None, 28, 28) for input KerasTensor(type_spec=TensorSpec(shape=(None, 28, 28), dtype=tf.float32, name='flatten_input'), name='flatten_input', description=\"created by layer 'flatten_input'\"), but it was called on an input with incompatible shape (None, 784).\n",
            "469/469 [==============================] - 1s 2ms/step - loss: 1.3834 - accuracy: 0.5751\n",
            "Epoch 2/5\n",
            "469/469 [==============================] - 1s 2ms/step - loss: 0.8605 - accuracy: 0.7052\n",
            "Epoch 3/5\n",
            "469/469 [==============================] - 1s 2ms/step - loss: 0.7347 - accuracy: 0.7434\n",
            "Epoch 4/5\n",
            "469/469 [==============================] - 1s 2ms/step - loss: 0.6667 - accuracy: 0.7664\n",
            "Epoch 5/5\n",
            "469/469 [==============================] - 1s 2ms/step - loss: 0.6229 - accuracy: 0.7825\n"
          ]
        },
        {
          "output_type": "execute_result",
          "data": {
            "text/plain": [
              "<keras.callbacks.History at 0x7f9a2afb7b90>"
            ]
          },
          "metadata": {},
          "execution_count": 8
        }
      ]
    },
    {
      "cell_type": "code",
      "metadata": {
        "colab": {
          "base_uri": "https://localhost:8080/"
        },
        "id": "pbJFWPQuvg5r",
        "outputId": "f2f8d7b4-94f4-4332-8eeb-742ed519fcc0"
      },
      "source": [
        "test_loss, test_acc = network.evaluate(test_images, test_labels)\n"
      ],
      "execution_count": null,
      "outputs": [
        {
          "output_type": "stream",
          "name": "stdout",
          "text": [
            "WARNING:tensorflow:Model was constructed with shape (None, 28, 28) for input KerasTensor(type_spec=TensorSpec(shape=(None, 28, 28), dtype=tf.float32, name='flatten_input'), name='flatten_input', description=\"created by layer 'flatten_input'\"), but it was called on an input with incompatible shape (None, 784).\n",
            "313/313 [==============================] - 0s 997us/step - loss: 0.6338 - accuracy: 0.7705\n"
          ]
        }
      ]
    },
    {
      "cell_type": "markdown",
      "metadata": {
        "id": "bcfJwDR0vcpI"
      },
      "source": [
        "Tenemos una precisión de casi el 80%\n"
      ]
    },
    {
      "cell_type": "markdown",
      "metadata": {
        "id": "tc4vfuryvwgd"
      },
      "source": [
        "##Matriz de confusión:"
      ]
    },
    {
      "cell_type": "code",
      "metadata": {
        "colab": {
          "base_uri": "https://localhost:8080/",
          "height": 349
        },
        "id": "FehJJI9lwCUm",
        "outputId": "69718a78-edd9-4ae4-a32b-5575cb2e5498"
      },
      "source": [
        "\n",
        "test_labelsp = to_categorical(test_labels)\n",
        "# Look at confusion matrix \n",
        "# Note, this code is taken straight from the SKLEARN website, an nice way of \n",
        "# viewing confusion matrix.\n",
        "def plot_confusion_matrix(cm, classes,\n",
        "                          normalize=False,\n",
        "                          title='Confusion matrix',\n",
        "                          cmap=plt.cm.Blues):\n",
        "    \"\"\"\n",
        "    This function prints and plots the confusion matrix.\n",
        "    Normalization can be applied by setting `normalize=True`.\n",
        "    \"\"\"\n",
        "    plt.imshow(cm, interpolation='nearest', cmap=cmap)\n",
        "    plt.title(title)\n",
        "    plt.colorbar()\n",
        "    tick_marks = np.arange(len(classes))\n",
        "    plt.xticks(tick_marks, classes, rotation=45)\n",
        "    plt.yticks(tick_marks, classes)\n",
        "\n",
        "    if normalize:\n",
        "        cm = cm.astype('float') / cm.sum(axis=1)[:, np.newaxis]\n",
        "\n",
        "    thresh = cm.max() / 2.\n",
        "    for i, j in itertools.product(range(cm.shape[0]), range(cm.shape[1])):\n",
        "        plt.text(j, i, cm[i, j],\n",
        "                 horizontalalignment=\"center\",\n",
        "                 color=\"white\" if cm[i, j] > thresh else \"black\")\n",
        "\n",
        "    plt.tight_layout()\n",
        "    plt.ylabel('Observación')\n",
        "    plt.xlabel('Predicción')\n",
        "\n",
        "\n",
        "    # Predict the values from the validation dataset\n",
        "Y_pred = network.predict(test_images)\n",
        "# Convert predictions classes to one hot vectors \n",
        "Y_pred_classes = np.argmax(Y_pred, axis = 1) \n",
        "# Convert validation observations to one hot vectors\n",
        "Y_true = np.argmax(test_labelsp, axis = 1) \n",
        "# compute the confusion matrix\n",
        "confusion_mtx = confusion_matrix(Y_true, Y_pred_classes) \n",
        "# plot the confusion matrix\n",
        "plot_confusion_matrix(confusion_mtx, classes = range(10))\n"
      ],
      "execution_count": null,
      "outputs": [
        {
          "output_type": "stream",
          "name": "stdout",
          "text": [
            "WARNING:tensorflow:Model was constructed with shape (None, 28, 28) for input KerasTensor(type_spec=TensorSpec(shape=(None, 28, 28), dtype=tf.float32, name='flatten_input'), name='flatten_input', description=\"created by layer 'flatten_input'\"), but it was called on an input with incompatible shape (None, 784).\n"
          ]
        },
        {
          "output_type": "display_data",
          "data": {
            "image/png": "[encoded data removed]",
            "text/plain": [
              "<Figure size 432x288 with 2 Axes>"
            ]
          },
          "metadata": {
            "needs_background": "light"
          }
        }
      ]
    },
    {
      "cell_type": "markdown",
      "metadata": {
        "id": "MABJQVtEz4Fl"
      },
      "source": [
        "A través de la diagonal de la matriz podemos observar el numero de veces que ha acertado la prenda, mientras que en el resto de la matriz podemos ver que número de veces ha fallado"
      ]
    },
    {
      "cell_type": "markdown",
      "metadata": {
        "id": "Vri5KWPJCs8U"
      },
      "source": [
        "Predicción:"
      ]
    },
    {
      "cell_type": "code",
      "metadata": {
        "colab": {
          "base_uri": "https://localhost:8080/",
          "height": 265
        },
        "id": "Y0xvPqeuCu0O",
        "outputId": "7f764ab3-6b09-4611-f1d1-d60bf9c18bea"
      },
      "source": [
        "fashion_mnist = tf.keras.datasets.fashion_mnist\n",
        "(predtrain_images, predtrain_labels), (predtest_images, predtest_labels) = fashion_mnist.load_data()\n",
        "imagen6 = predtest_images[5]\n",
        "predtrain_images = predtrain_images.reshape((60000, 28 * 28))\n",
        "predtest_images = predtest_images.reshape((10000, 28 * 28))\n",
        "\n",
        "predtrain_images = predtrain_images.astype('float32') / 255\n",
        "predtest_images = predtest_images.astype('float32') / 255\n",
        "\n",
        "from keras.utils.np_utils import to_categorical\n",
        "\n",
        "\n",
        "predtest_labels = to_categorical(predtest_labels)\n",
        "\n",
        "\n",
        "predictions = network.predict(predtest_images)\n",
        "\n",
        "np.sum(predictions[5])\n",
        "\n",
        "plt.imshow(imagen6, cmap=plt.cm.binary)\n",
        "plt.show()\n",
        "\n",
        "predictions = network.predict(test_images)\n",
        "\n",
        "def plot_image(i, predictions_array, true_label, img):\n",
        "  predictions_array, true_label, img = predictions_array, true_label[i], img[i]\n",
        "  plt.grid(False)\n",
        "  plt.xticks([])\n",
        "  plt.yticks([])\n",
        "\n",
        "  plt.imshow(img, cmap=plt.cm.binary)    \n",
        "\n",
        "  predicted_label = np.argmax(predictions_array)\n",
        "  if predicted_label.all() == true_label.all():\n",
        "    color = 'blue'\n",
        "  else:\n",
        "    color = 'red'\n",
        "\n",
        "  plt.xlabel(\"{} {:2.0f}% ({})\".format(predicted_label,\n",
        "                                100*np.max(predictions_array),\n",
        "                                true_label),\n",
        "                                color=color)\n",
        " \n",
        "\n",
        "def plot_value_array(i, predictions_array, true_label):\n",
        "  predictions_array, true_label = predictions_array, true_label[i]\n",
        "  plt.grid(False)\n",
        "  plt.xticks(range(10))\n",
        "  plt.yticks([])\n",
        "  thisplot = plt.bar(range(10), predictions_array, color=\"#00FF00\")\n",
        "  plt.ylim([0, 1])\n",
        "  predicted_label = np.argmax(predictions_array)\n",
        "\n",
        "  thisplot[predicted_label].set_color('red')\n",
        "  thisplot[true_label].set_color('black')\n",
        "\n",
        "\n"
      ],
      "execution_count": null,
      "outputs": [
        {
          "output_type": "display_data",
          "data": {
            "image/png": "[encoded data removed]",
            "text/plain": [
              "<Figure size 432x288 with 1 Axes>"
            ]
          },
          "metadata": {
            "needs_background": "light"
          }
        }
      ]
    },
    {
      "cell_type": "code",
      "metadata": {
        "colab": {
          "base_uri": "https://localhost:8080/",
          "height": 211
        },
        "id": "-JFBj1olF033",
        "outputId": "2e63a77f-2e0a-4d95-8b7f-20384fff665e"
      },
      "source": [
        "i = 5\n",
        "plt.figure(figsize=(6,3))\n",
        "plt.subplot(1,2,1)\n",
        "plot_image(i, predictions[i], test_labels, test_images.reshape(10000,28,28))\n",
        "plt.subplot(1,2,2)\n",
        "\n",
        "plot_value_array(i, predictions[i], test_labels)\n",
        "plt.show()"
      ],
      "execution_count": null,
      "outputs": [
        {
          "output_type": "display_data",
          "data": {
            "image/png": "[encoded data removed]",
            "text/plain": [
              "<Figure size 432x216 with 2 Axes>"
            ]
          },
          "metadata": {
            "needs_background": "light"
          }
        }
      ]
    },
    {
      "cell_type": "markdown",
      "metadata": {
        "id": "m2ZMU7Ei0M1a"
      },
      "source": [
        "##Otros casos"
      ]
    },
    {
      "cell_type": "markdown",
      "metadata": {
        "id": "w-xyghuf0XGd"
      },
      "source": [
        "#Caso 2\n"
      ]
    },
    {
      "cell_type": "code",
      "metadata": {
        "colab": {
          "base_uri": "https://localhost:8080/"
        },
        "id": "Int7pZVu0mAg",
        "outputId": "fc8c93ad-18fc-451c-aa30-9671dbd5fe7c"
      },
      "source": [
        "network= keras.Sequential([\n",
        "                           keras.layers.Flatten(input_shape=(28,28)),\n",
        "                           keras.layers.Dense(10, activation='relu'),\n",
        "                           keras.layers.Dense(10,activation='softmax')\n",
        "],name='Zalando2')\n",
        "network.summary()\n",
        "\n"
      ],
      "execution_count": null,
      "outputs": [
        {
          "output_type": "stream",
          "name": "stdout",
          "text": [
            "Model: \"Zalando2\"\n",
            "_________________________________________________________________\n",
            "Layer (type)                 Output Shape              Param #   \n",
            "=================================================================\n",
            "flatten_1 (Flatten)          (None, 784)               0         \n",
            "_________________________________________________________________\n",
            "dense_2 (Dense)              (None, 10)                7850      \n",
            "_________________________________________________________________\n",
            "dense_3 (Dense)              (None, 10)                110       \n",
            "=================================================================\n",
            "Total params: 7,960\n",
            "Trainable params: 7,960\n",
            "Non-trainable params: 0\n",
            "_________________________________________________________________\n"
          ]
        }
      ]
    },
    {
      "cell_type": "markdown",
      "metadata": {
        "id": "1p6bjpkJ-iEj"
      },
      "source": [
        "Según el summary, tenemos 1 capa neuronal Flatten y 2 capas neuronales de tipo dense donde cada neurona de la primera capa está conectada a cada una de la segunda capa saliendo 10 respuestas que equivalen a cada tipo de prensa. "
      ]
    },
    {
      "cell_type": "code",
      "metadata": {
        "id": "PWCuawlz1AMZ"
      },
      "source": [
        "network.compile(optimizer='rmsprop',\n",
        "                loss='sparse_categorical_crossentropy',\n",
        "                metrics=['accuracy'])"
      ],
      "execution_count": null,
      "outputs": []
    },
    {
      "cell_type": "code",
      "metadata": {
        "colab": {
          "base_uri": "https://localhost:8080/"
        },
        "id": "vstYWf2j1A67",
        "outputId": "313ebaeb-23a7-4385-c8ab-034fe4242f23"
      },
      "source": [
        "network.fit(train_images, train_labels, epochs=5, batch_size=128)"
      ],
      "execution_count": null,
      "outputs": [
        {
          "output_type": "stream",
          "name": "stdout",
          "text": [
            "Epoch 1/5\n",
            "WARNING:tensorflow:Model was constructed with shape (None, 28, 28) for input KerasTensor(type_spec=TensorSpec(shape=(None, 28, 28), dtype=tf.float32, name='flatten_1_input'), name='flatten_1_input', description=\"created by layer 'flatten_1_input'\"), but it was called on an input with incompatible shape (None, 784).\n",
            "WARNING:tensorflow:Model was constructed with shape (None, 28, 28) for input KerasTensor(type_spec=TensorSpec(shape=(None, 28, 28), dtype=tf.float32, name='flatten_1_input'), name='flatten_1_input', description=\"created by layer 'flatten_1_input'\"), but it was called on an input with incompatible shape (None, 784).\n",
            "469/469 [==============================] - 1s 2ms/step - loss: 0.8869 - accuracy: 0.7134\n",
            "Epoch 2/5\n",
            "469/469 [==============================] - 1s 2ms/step - loss: 0.5386 - accuracy: 0.8176\n",
            "Epoch 3/5\n",
            "469/469 [==============================] - 1s 2ms/step - loss: 0.4892 - accuracy: 0.8332\n",
            "Epoch 4/5\n",
            "469/469 [==============================] - 1s 2ms/step - loss: 0.4661 - accuracy: 0.8395\n",
            "Epoch 5/5\n",
            "469/469 [==============================] - 1s 2ms/step - loss: 0.4512 - accuracy: 0.8446\n"
          ]
        },
        {
          "output_type": "execute_result",
          "data": {
            "text/plain": [
              "<keras.callbacks.History at 0x7f9a278be250>"
            ]
          },
          "metadata": {},
          "execution_count": 15
        }
      ]
    },
    {
      "cell_type": "code",
      "metadata": {
        "colab": {
          "base_uri": "https://localhost:8080/"
        },
        "id": "ZfLfrNTq1GQt",
        "outputId": "21fd87cc-48d5-48c9-9fd0-50cabc2a96e1"
      },
      "source": [
        "test_loss, test_acc = network.evaluate(test_images, test_labels)"
      ],
      "execution_count": null,
      "outputs": [
        {
          "output_type": "stream",
          "name": "stdout",
          "text": [
            "WARNING:tensorflow:Model was constructed with shape (None, 28, 28) for input KerasTensor(type_spec=TensorSpec(shape=(None, 28, 28), dtype=tf.float32, name='flatten_1_input'), name='flatten_1_input', description=\"created by layer 'flatten_1_input'\"), but it was called on an input with incompatible shape (None, 784).\n",
            "313/313 [==============================] - 0s 1ms/step - loss: 0.4867 - accuracy: 0.8308\n"
          ]
        }
      ]
    },
    {
      "cell_type": "code",
      "metadata": {
        "colab": {
          "base_uri": "https://localhost:8080/",
          "height": 349
        },
        "id": "_tZcg-i41MOW",
        "outputId": "771ec284-73e9-4e99-f0d2-c30519fe6855"
      },
      "source": [
        "test_labelsp = to_categorical(test_labels)\n",
        "# Look at confusion matrix \n",
        "# Note, this code is taken straight from the SKLEARN website, an nice way of \n",
        "# viewing confusion matrix.\n",
        "def plot_confusion_matrix(cm, classes,\n",
        "                          normalize=False,\n",
        "                          title='Confusion matrix',\n",
        "                          cmap=plt.cm.Blues):\n",
        "    \"\"\"\n",
        "    This function prints and plots the confusion matrix.\n",
        "    Normalization can be applied by setting `normalize=True`.\n",
        "    \"\"\"\n",
        "    plt.imshow(cm, interpolation='nearest', cmap=cmap)\n",
        "    plt.title(title)\n",
        "    plt.colorbar()\n",
        "    tick_marks = np.arange(len(classes))\n",
        "    plt.xticks(tick_marks, classes, rotation=45)\n",
        "    plt.yticks(tick_marks, classes)\n",
        "\n",
        "    if normalize:\n",
        "        cm = cm.astype('float') / cm.sum(axis=1)[:, np.newaxis]\n",
        "\n",
        "    thresh = cm.max() / 2.\n",
        "    for i, j in itertools.product(range(cm.shape[0]), range(cm.shape[1])):\n",
        "        plt.text(j, i, cm[i, j],\n",
        "                 horizontalalignment=\"center\",\n",
        "                 color=\"white\" if cm[i, j] > thresh else \"black\")\n",
        "\n",
        "    plt.tight_layout()\n",
        "    plt.ylabel('Observación')\n",
        "    plt.xlabel('Predicción')\n",
        "\n",
        "\n",
        "    # Predict the values from the validation dataset\n",
        "Y_pred = network.predict(test_images)\n",
        "# Convert predictions classes to one hot vectors \n",
        "Y_pred_classes = np.argmax(Y_pred, axis = 1) \n",
        "# Convert validation observations to one hot vectors\n",
        "Y_true = np.argmax(test_labelsp, axis = 1) \n",
        "# compute the confusion matrix\n",
        "confusion_mtx = confusion_matrix(Y_true, Y_pred_classes) \n",
        "# plot the confusion matrix\n",
        "plot_confusion_matrix(confusion_mtx, classes = range(10))"
      ],
      "execution_count": null,
      "outputs": [
        {
          "output_type": "stream",
          "name": "stdout",
          "text": [
            "WARNING:tensorflow:Model was constructed with shape (None, 28, 28) for input KerasTensor(type_spec=TensorSpec(shape=(None, 28, 28), dtype=tf.float32, name='flatten_1_input'), name='flatten_1_input', description=\"created by layer 'flatten_1_input'\"), but it was called on an input with incompatible shape (None, 784).\n"
          ]
        },
        {
          "output_type": "display_data",
          "data": {
            "image/png": "[encoded data removed]",
            "text/plain": [
              "<Figure size 432x288 with 2 Axes>"
            ]
          },
          "metadata": {
            "needs_background": "light"
          }
        }
      ]
    },
    {
      "cell_type": "markdown",
      "metadata": {
        "id": "8W5QQSS71qIA"
      },
      "source": [
        "Al cambiar de optimizador el acierto aumenta a un valor de mas del 80%"
      ]
    },
    {
      "cell_type": "markdown",
      "metadata": {
        "id": "4m_e5ZL2GVWz"
      },
      "source": [
        "Predicción:"
      ]
    },
    {
      "cell_type": "code",
      "metadata": {
        "colab": {
          "base_uri": "https://localhost:8080/",
          "height": 265
        },
        "id": "uS5WER44F5KI",
        "outputId": "50f654e7-af1a-49d6-a42e-cc5b96526ce9"
      },
      "source": [
        "fashion_mnist = tf.keras.datasets.fashion_mnist\n",
        "(predtrain_images, predtrain_labels), (predtest_images, predtest_labels) = fashion_mnist.load_data()\n",
        "imagen6 = predtest_images[5]\n",
        "predtrain_images = predtrain_images.reshape((60000, 28 * 28))\n",
        "predtest_images = predtest_images.reshape((10000, 28 * 28))\n",
        "\n",
        "predtrain_images = predtrain_images.astype('float32') / 255\n",
        "predtest_images = predtest_images.astype('float32') / 255\n",
        "\n",
        "from keras.utils.np_utils import to_categorical\n",
        "\n",
        "\n",
        "predtest_labels = to_categorical(predtest_labels)\n",
        "\n",
        "\n",
        "predictions = network.predict(predtest_images)\n",
        "\n",
        "np.sum(predictions[5])\n",
        "\n",
        "plt.imshow(imagen6, cmap=plt.cm.binary)\n",
        "plt.show()\n",
        "\n",
        "predictions = network.predict(test_images)\n",
        "\n",
        "def plot_image(i, predictions_array, true_label, img):\n",
        "  predictions_array, true_label, img = predictions_array, true_label[i], img[i]\n",
        "  plt.grid(False)\n",
        "  plt.xticks([])\n",
        "  plt.yticks([])\n",
        "\n",
        "  plt.imshow(img, cmap=plt.cm.binary)    \n",
        "\n",
        "  predicted_label = np.argmax(predictions_array)\n",
        "  if predicted_label.all() == true_label.all():\n",
        "    color = 'blue'\n",
        "  else:\n",
        "    color = 'red'\n",
        "\n",
        "  plt.xlabel(\"{} {:2.0f}% ({})\".format(predicted_label,\n",
        "                                100*np.max(predictions_array),\n",
        "                                true_label),\n",
        "                                color=color)\n",
        " \n",
        "\n",
        "def plot_value_array(i, predictions_array, true_label):\n",
        "  predictions_array, true_label = predictions_array, true_label[i]\n",
        "  plt.grid(False)\n",
        "  plt.xticks(range(10))\n",
        "  plt.yticks([])\n",
        "  thisplot = plt.bar(range(10), predictions_array, color=\"#00FF00\")\n",
        "  plt.ylim([0, 1])\n",
        "  predicted_label = np.argmax(predictions_array)\n",
        "\n",
        "  thisplot[predicted_label].set_color('red')\n",
        "  thisplot[true_label].set_color('black')\n"
      ],
      "execution_count": null,
      "outputs": [
        {
          "output_type": "display_data",
          "data": {
            "image/png": "[encoded data removed]",
            "text/plain": [
              "<Figure size 432x288 with 1 Axes>"
            ]
          },
          "metadata": {
            "needs_background": "light"
          }
        }
      ]
    },
    {
      "cell_type": "code",
      "metadata": {
        "colab": {
          "base_uri": "https://localhost:8080/",
          "height": 211
        },
        "id": "o2WCIu9PF6Qf",
        "outputId": "53aa16dd-1524-4064-c149-30d4e2e9977f"
      },
      "source": [
        "i = 5\n",
        "plt.figure(figsize=(6,3))\n",
        "plt.subplot(1,2,1)\n",
        "plot_image(i, predictions[i], test_labels, test_images.reshape(10000,28,28))\n",
        "plt.subplot(1,2,2)\n",
        "\n",
        "plot_value_array(i, predictions[i], test_labels)\n",
        "plt.show()"
      ],
      "execution_count": null,
      "outputs": [
        {
          "output_type": "display_data",
          "data": {
            "image/png": "[encoded data removed]",
            "text/plain": [
              "<Figure size 432x216 with 2 Axes>"
            ]
          },
          "metadata": {
            "needs_background": "light"
          }
        }
      ]
    },
    {
      "cell_type": "markdown",
      "metadata": {
        "id": "AZDCQ2wf1xJX"
      },
      "source": [
        "#Caso 3"
      ]
    },
    {
      "cell_type": "code",
      "metadata": {
        "colab": {
          "base_uri": "https://localhost:8080/"
        },
        "id": "adIfYLmQ15-v",
        "outputId": "13f84b7c-cdc8-4bdb-ec25-c1caed9ed19f"
      },
      "source": [
        "network= keras.Sequential([\n",
        "                           keras.layers.Flatten(input_shape=(28,28)),\n",
        "                           keras.layers.Dense(10, activation='sigmoid'),\n",
        "                           keras.layers.Dense(10,activation='softmax')\n",
        "],name='Zalando3')\n",
        "network.summary()"
      ],
      "execution_count": null,
      "outputs": [
        {
          "output_type": "stream",
          "name": "stdout",
          "text": [
            "Model: \"Zalando3\"\n",
            "_________________________________________________________________\n",
            "Layer (type)                 Output Shape              Param #   \n",
            "=================================================================\n",
            "flatten_2 (Flatten)          (None, 784)               0         \n",
            "_________________________________________________________________\n",
            "dense_4 (Dense)              (None, 10)                7850      \n",
            "_________________________________________________________________\n",
            "dense_5 (Dense)              (None, 10)                110       \n",
            "=================================================================\n",
            "Total params: 7,960\n",
            "Trainable params: 7,960\n",
            "Non-trainable params: 0\n",
            "_________________________________________________________________\n"
          ]
        }
      ]
    },
    {
      "cell_type": "markdown",
      "metadata": {
        "id": "j4aAtveX-nvm"
      },
      "source": [
        "Según el summary, tenemos 1 capa neuronal Flatten y 2 capas neuronales de tipo dense donde cada neurona de la primera capa está conectada a cada una de la segunda capa saliendo 10 respuestas que equivalen a cada tipo de prensa. "
      ]
    },
    {
      "cell_type": "code",
      "metadata": {
        "id": "2pRBlsji1_9N"
      },
      "source": [
        "network.compile(optimizer='sgd',\n",
        "                loss='sparse_categorical_crossentropy',\n",
        "                metrics=['accuracy'])"
      ],
      "execution_count": null,
      "outputs": []
    },
    {
      "cell_type": "code",
      "metadata": {
        "colab": {
          "base_uri": "https://localhost:8080/"
        },
        "id": "m2-mZnlF2OYy",
        "outputId": "114a2dcf-88f9-4b3a-ab47-bd5ab1bdcce4"
      },
      "source": [
        "network.fit(train_images, train_labels, epochs=5, batch_size=128)"
      ],
      "execution_count": null,
      "outputs": [
        {
          "output_type": "stream",
          "name": "stdout",
          "text": [
            "Epoch 1/5\n",
            "WARNING:tensorflow:Model was constructed with shape (None, 28, 28) for input KerasTensor(type_spec=TensorSpec(shape=(None, 28, 28), dtype=tf.float32, name='flatten_2_input'), name='flatten_2_input', description=\"created by layer 'flatten_2_input'\"), but it was called on an input with incompatible shape (None, 784).\n",
            "WARNING:tensorflow:Model was constructed with shape (None, 28, 28) for input KerasTensor(type_spec=TensorSpec(shape=(None, 28, 28), dtype=tf.float32, name='flatten_2_input'), name='flatten_2_input', description=\"created by layer 'flatten_2_input'\"), but it was called on an input with incompatible shape (None, 784).\n",
            "469/469 [==============================] - 1s 2ms/step - loss: 2.1311 - accuracy: 0.3769\n",
            "Epoch 2/5\n",
            "469/469 [==============================] - 1s 2ms/step - loss: 1.8558 - accuracy: 0.5267\n",
            "Epoch 3/5\n",
            "469/469 [==============================] - 1s 2ms/step - loss: 1.6546 - accuracy: 0.5509\n",
            "Epoch 4/5\n",
            "469/469 [==============================] - 1s 2ms/step - loss: 1.5023 - accuracy: 0.5706\n",
            "Epoch 5/5\n",
            "469/469 [==============================] - 1s 2ms/step - loss: 1.3819 - accuracy: 0.5910\n"
          ]
        },
        {
          "output_type": "execute_result",
          "data": {
            "text/plain": [
              "<keras.callbacks.History at 0x7f9a1d049750>"
            ]
          },
          "metadata": {},
          "execution_count": 22
        }
      ]
    },
    {
      "cell_type": "code",
      "metadata": {
        "colab": {
          "base_uri": "https://localhost:8080/"
        },
        "id": "MWkbB9DW2gdq",
        "outputId": "d64bbe64-ae7f-453d-a11b-eb49d8e8f432"
      },
      "source": [
        "test_loss, test_acc = network.evaluate(test_images, test_labels)"
      ],
      "execution_count": null,
      "outputs": [
        {
          "output_type": "stream",
          "name": "stdout",
          "text": [
            "WARNING:tensorflow:Model was constructed with shape (None, 28, 28) for input KerasTensor(type_spec=TensorSpec(shape=(None, 28, 28), dtype=tf.float32, name='flatten_2_input'), name='flatten_2_input', description=\"created by layer 'flatten_2_input'\"), but it was called on an input with incompatible shape (None, 784).\n",
            "313/313 [==============================] - 0s 1ms/step - loss: 1.3365 - accuracy: 0.5974\n"
          ]
        }
      ]
    },
    {
      "cell_type": "code",
      "metadata": {
        "colab": {
          "base_uri": "https://localhost:8080/",
          "height": 349
        },
        "id": "0nDq8-V-2rdV",
        "outputId": "067e717b-c675-4ba6-801d-c9e2af65e871"
      },
      "source": [
        "test_labelsp = to_categorical(test_labels)\n",
        "# Look at confusion matrix \n",
        "# Note, this code is taken straight from the SKLEARN website, an nice way of \n",
        "# viewing confusion matrix.\n",
        "def plot_confusion_matrix(cm, classes,\n",
        "                          normalize=False,\n",
        "                          title='Confusion matrix',\n",
        "                          cmap=plt.cm.Blues):\n",
        "    \"\"\"\n",
        "    This function prints and plots the confusion matrix.\n",
        "    Normalization can be applied by setting `normalize=True`.\n",
        "    \"\"\"\n",
        "    plt.imshow(cm, interpolation='nearest', cmap=cmap)\n",
        "    plt.title(title)\n",
        "    plt.colorbar()\n",
        "    tick_marks = np.arange(len(classes))\n",
        "    plt.xticks(tick_marks, classes, rotation=45)\n",
        "    plt.yticks(tick_marks, classes)\n",
        "\n",
        "    if normalize:\n",
        "        cm = cm.astype('float') / cm.sum(axis=1)[:, np.newaxis]\n",
        "\n",
        "    thresh = cm.max() / 2.\n",
        "    for i, j in itertools.product(range(cm.shape[0]), range(cm.shape[1])):\n",
        "        plt.text(j, i, cm[i, j],\n",
        "                 horizontalalignment=\"center\",\n",
        "                 color=\"white\" if cm[i, j] > thresh else \"black\")\n",
        "\n",
        "    plt.tight_layout()\n",
        "    plt.ylabel('Observación')\n",
        "    plt.xlabel('Predicción')\n",
        "\n",
        "\n",
        "    # Predict the values from the validation dataset\n",
        "Y_pred = network.predict(test_images)\n",
        "# Convert predictions classes to one hot vectors \n",
        "Y_pred_classes = np.argmax(Y_pred, axis = 1) \n",
        "# Convert validation observations to one hot vectors\n",
        "Y_true = np.argmax(test_labelsp, axis = 1) \n",
        "# compute the confusion matrix\n",
        "confusion_mtx = confusion_matrix(Y_true, Y_pred_classes) \n",
        "# plot the confusion matrix\n",
        "plot_confusion_matrix(confusion_mtx, classes = range(10))"
      ],
      "execution_count": null,
      "outputs": [
        {
          "output_type": "stream",
          "name": "stdout",
          "text": [
            "WARNING:tensorflow:Model was constructed with shape (None, 28, 28) for input KerasTensor(type_spec=TensorSpec(shape=(None, 28, 28), dtype=tf.float32, name='flatten_2_input'), name='flatten_2_input', description=\"created by layer 'flatten_2_input'\"), but it was called on an input with incompatible shape (None, 784).\n"
          ]
        },
        {
          "output_type": "display_data",
          "data": {
            "image/png": "[encoded data removed]",
            "text/plain": [
              "<Figure size 432x288 with 2 Axes>"
            ]
          },
          "metadata": {
            "needs_background": "light"
          }
        }
      ]
    },
    {
      "cell_type": "markdown",
      "metadata": {
        "id": "C55Lv_P53IU5"
      },
      "source": [
        "En este caso, la función sigmoid provoca un porcentaje mucho mas bajo de acierto"
      ]
    },
    {
      "cell_type": "markdown",
      "metadata": {
        "id": "zKHU5Xt4GaS6"
      },
      "source": [
        "Predicción:"
      ]
    },
    {
      "cell_type": "code",
      "metadata": {
        "colab": {
          "base_uri": "https://localhost:8080/",
          "height": 265
        },
        "id": "lJ6LhTwcGATS",
        "outputId": "7033b0ba-f2b0-47ed-cc04-21be9641f548"
      },
      "source": [
        "fashion_mnist = tf.keras.datasets.fashion_mnist\n",
        "(predtrain_images, predtrain_labels), (predtest_images, predtest_labels) = fashion_mnist.load_data()\n",
        "imagen6 = predtest_images[5]\n",
        "predtrain_images = predtrain_images.reshape((60000, 28 * 28))\n",
        "predtest_images = predtest_images.reshape((10000, 28 * 28))\n",
        "\n",
        "predtrain_images = predtrain_images.astype('float32') / 255\n",
        "predtest_images = predtest_images.astype('float32') / 255\n",
        "\n",
        "from keras.utils.np_utils import to_categorical\n",
        "\n",
        "\n",
        "predtest_labels = to_categorical(predtest_labels)\n",
        "\n",
        "\n",
        "predictions = network.predict(predtest_images)\n",
        "\n",
        "np.sum(predictions[5])\n",
        "\n",
        "plt.imshow(imagen6, cmap=plt.cm.binary)\n",
        "plt.show()\n",
        "\n",
        "predictions = network.predict(test_images)\n",
        "\n",
        "def plot_image(i, predictions_array, true_label, img):\n",
        "  predictions_array, true_label, img = predictions_array, true_label[i], img[i]\n",
        "  plt.grid(False)\n",
        "  plt.xticks([])\n",
        "  plt.yticks([])\n",
        "\n",
        "  plt.imshow(img, cmap=plt.cm.binary)    \n",
        "\n",
        "  predicted_label = np.argmax(predictions_array)\n",
        "  if predicted_label.all() == true_label.all():\n",
        "    color = 'blue'\n",
        "  else:\n",
        "    color = 'red'\n",
        "\n",
        "  plt.xlabel(\"{} {:2.0f}% ({})\".format(predicted_label,\n",
        "                                100*np.max(predictions_array),\n",
        "                                true_label),\n",
        "                                color=color)\n",
        " \n",
        "\n",
        "def plot_value_array(i, predictions_array, true_label):\n",
        "  predictions_array, true_label = predictions_array, true_label[i]\n",
        "  plt.grid(False)\n",
        "  plt.xticks(range(10))\n",
        "  plt.yticks([])\n",
        "  thisplot = plt.bar(range(10), predictions_array, color=\"#00FF00\")\n",
        "  plt.ylim([0, 1])\n",
        "  predicted_label = np.argmax(predictions_array)\n",
        "\n",
        "  thisplot[predicted_label].set_color('red')\n",
        "  thisplot[true_label].set_color('black')"
      ],
      "execution_count": null,
      "outputs": [
        {
          "output_type": "display_data",
          "data": {
            "image/png": "[encoded data removed]",
            "text/plain": [
              "<Figure size 432x288 with 1 Axes>"
            ]
          },
          "metadata": {
            "needs_background": "light"
          }
        }
      ]
    },
    {
      "cell_type": "code",
      "metadata": {
        "colab": {
          "base_uri": "https://localhost:8080/",
          "height": 211
        },
        "id": "pYa7TJhoGcCy",
        "outputId": "86ae174d-3510-4fd1-e5f0-6a4f9d38a1f2"
      },
      "source": [
        "i = 5\n",
        "plt.figure(figsize=(6,3))\n",
        "plt.subplot(1,2,1)\n",
        "plot_image(i, predictions[i], test_labels, test_images.reshape(10000,28,28))\n",
        "plt.subplot(1,2,2)\n",
        "\n",
        "plot_value_array(i, predictions[i], test_labels)\n",
        "plt.show()"
      ],
      "execution_count": null,
      "outputs": [
        {
          "output_type": "display_data",
          "data": {
            "image/png": "[encoded data removed]",
            "text/plain": [
              "<Figure size 432x216 with 2 Axes>"
            ]
          },
          "metadata": {
            "needs_background": "light"
          }
        }
      ]
    },
    {
      "cell_type": "markdown",
      "metadata": {
        "id": "xDQHeExQ3PES"
      },
      "source": [
        "#Caso 4"
      ]
    },
    {
      "cell_type": "code",
      "metadata": {
        "colab": {
          "base_uri": "https://localhost:8080/"
        },
        "id": "_JAjG0xk3Qt0",
        "outputId": "8bf98ff1-c97f-45cb-db5c-466646b64536"
      },
      "source": [
        "network= keras.Sequential([\n",
        "                           keras.layers.Flatten(input_shape=(28,28)),\n",
        "                           keras.layers.Dense(10, activation='sigmoid'),\n",
        "                           keras.layers.Dense(10,activation='softmax')\n",
        "],name='Zalando4')\n",
        "network.summary()"
      ],
      "execution_count": null,
      "outputs": [
        {
          "output_type": "stream",
          "name": "stdout",
          "text": [
            "Model: \"Zalando4\"\n",
            "_________________________________________________________________\n",
            "Layer (type)                 Output Shape              Param #   \n",
            "=================================================================\n",
            "flatten_3 (Flatten)          (None, 784)               0         \n",
            "_________________________________________________________________\n",
            "dense_6 (Dense)              (None, 10)                7850      \n",
            "_________________________________________________________________\n",
            "dense_7 (Dense)              (None, 10)                110       \n",
            "=================================================================\n",
            "Total params: 7,960\n",
            "Trainable params: 7,960\n",
            "Non-trainable params: 0\n",
            "_________________________________________________________________\n"
          ]
        }
      ]
    },
    {
      "cell_type": "markdown",
      "metadata": {
        "id": "ZTNN0Qms-rXH"
      },
      "source": [
        "Según el summary, tenemos 1 capa neuronal Flatten y 2 capas neuronales de tipo dense donde cada neurona de la primera capa está conectada a cada una de la segunda capa saliendo 10 respuestas que equivalen a cada tipo de prensa. "
      ]
    },
    {
      "cell_type": "code",
      "metadata": {
        "id": "2iBHW6oa3Zlr"
      },
      "source": [
        "network.compile(optimizer='rmsprop',\n",
        "                loss='sparse_categorical_crossentropy',\n",
        "                metrics=['accuracy'])"
      ],
      "execution_count": null,
      "outputs": []
    },
    {
      "cell_type": "code",
      "metadata": {
        "colab": {
          "base_uri": "https://localhost:8080/"
        },
        "id": "aTeJsgS-3iQq",
        "outputId": "8b246b01-9c4d-47bb-b8cb-d2c52d446b2d"
      },
      "source": [
        "network.fit(train_images, train_labels, epochs=5, batch_size=128)"
      ],
      "execution_count": null,
      "outputs": [
        {
          "output_type": "stream",
          "name": "stdout",
          "text": [
            "Epoch 1/5\n",
            "WARNING:tensorflow:Model was constructed with shape (None, 28, 28) for input KerasTensor(type_spec=TensorSpec(shape=(None, 28, 28), dtype=tf.float32, name='flatten_3_input'), name='flatten_3_input', description=\"created by layer 'flatten_3_input'\"), but it was called on an input with incompatible shape (None, 784).\n",
            "WARNING:tensorflow:Model was constructed with shape (None, 28, 28) for input KerasTensor(type_spec=TensorSpec(shape=(None, 28, 28), dtype=tf.float32, name='flatten_3_input'), name='flatten_3_input', description=\"created by layer 'flatten_3_input'\"), but it was called on an input with incompatible shape (None, 784).\n",
            "469/469 [==============================] - 1s 2ms/step - loss: 1.3710 - accuracy: 0.6284\n",
            "Epoch 2/5\n",
            "469/469 [==============================] - 1s 2ms/step - loss: 0.8305 - accuracy: 0.7650\n",
            "Epoch 3/5\n",
            "469/469 [==============================] - 1s 2ms/step - loss: 0.6456 - accuracy: 0.8065\n",
            "Epoch 4/5\n",
            "469/469 [==============================] - 1s 2ms/step - loss: 0.5573 - accuracy: 0.8241\n",
            "Epoch 5/5\n",
            "469/469 [==============================] - 1s 2ms/step - loss: 0.5076 - accuracy: 0.8335\n"
          ]
        },
        {
          "output_type": "execute_result",
          "data": {
            "text/plain": [
              "<keras.callbacks.History at 0x7f9a1c430250>"
            ]
          },
          "metadata": {},
          "execution_count": 29
        }
      ]
    },
    {
      "cell_type": "code",
      "metadata": {
        "colab": {
          "base_uri": "https://localhost:8080/"
        },
        "id": "SzFU0rd43oOs",
        "outputId": "08c89010-4e13-4573-f3c9-485dc9ddc471"
      },
      "source": [
        "test_loss, test_acc = network.evaluate(test_images, test_labels)"
      ],
      "execution_count": null,
      "outputs": [
        {
          "output_type": "stream",
          "name": "stdout",
          "text": [
            "WARNING:tensorflow:Model was constructed with shape (None, 28, 28) for input KerasTensor(type_spec=TensorSpec(shape=(None, 28, 28), dtype=tf.float32, name='flatten_3_input'), name='flatten_3_input', description=\"created by layer 'flatten_3_input'\"), but it was called on an input with incompatible shape (None, 784).\n",
            "313/313 [==============================] - 0s 1ms/step - loss: 0.5184 - accuracy: 0.8277\n"
          ]
        }
      ]
    },
    {
      "cell_type": "code",
      "metadata": {
        "colab": {
          "base_uri": "https://localhost:8080/",
          "height": 349
        },
        "id": "POt2azWW3s4k",
        "outputId": "05f59c23-8cf4-45aa-e5aa-1525e271e36a"
      },
      "source": [
        "test_labelsp = to_categorical(test_labels)\n",
        "# Look at confusion matrix \n",
        "# Note, this code is taken straight from the SKLEARN website, an nice way of \n",
        "# viewing confusion matrix.\n",
        "def plot_confusion_matrix(cm, classes,\n",
        "                          normalize=False,\n",
        "                          title='Confusion matrix',\n",
        "                          cmap=plt.cm.Blues):\n",
        "    \"\"\"\n",
        "    This function prints and plots the confusion matrix.\n",
        "    Normalization can be applied by setting `normalize=True`.\n",
        "    \"\"\"\n",
        "    plt.imshow(cm, interpolation='nearest', cmap=cmap)\n",
        "    plt.title(title)\n",
        "    plt.colorbar()\n",
        "    tick_marks = np.arange(len(classes))\n",
        "    plt.xticks(tick_marks, classes, rotation=45)\n",
        "    plt.yticks(tick_marks, classes)\n",
        "\n",
        "    if normalize:\n",
        "        cm = cm.astype('float') / cm.sum(axis=1)[:, np.newaxis]\n",
        "\n",
        "    thresh = cm.max() / 2.\n",
        "    for i, j in itertools.product(range(cm.shape[0]), range(cm.shape[1])):\n",
        "        plt.text(j, i, cm[i, j],\n",
        "                 horizontalalignment=\"center\",\n",
        "                 color=\"white\" if cm[i, j] > thresh else \"black\")\n",
        "\n",
        "    plt.tight_layout()\n",
        "    plt.ylabel('Observación')\n",
        "    plt.xlabel('Predicción')\n",
        "\n",
        "\n",
        "    # Predict the values from the validation dataset\n",
        "Y_pred = network.predict(test_images)\n",
        "# Convert predictions classes to one hot vectors \n",
        "Y_pred_classes = np.argmax(Y_pred, axis = 1) \n",
        "# Convert validation observations to one hot vectors\n",
        "Y_true = np.argmax(test_labelsp, axis = 1) \n",
        "# compute the confusion matrix\n",
        "confusion_mtx = confusion_matrix(Y_true, Y_pred_classes) \n",
        "# plot the confusion matrix\n",
        "plot_confusion_matrix(confusion_mtx, classes = range(10))"
      ],
      "execution_count": null,
      "outputs": [
        {
          "output_type": "stream",
          "name": "stdout",
          "text": [
            "WARNING:tensorflow:Model was constructed with shape (None, 28, 28) for input KerasTensor(type_spec=TensorSpec(shape=(None, 28, 28), dtype=tf.float32, name='flatten_3_input'), name='flatten_3_input', description=\"created by layer 'flatten_3_input'\"), but it was called on an input with incompatible shape (None, 784).\n"
          ]
        },
        {
          "output_type": "display_data",
          "data": {
            "image/png": "[encoded data removed]",
            "text/plain": [
              "<Figure size 432x288 with 2 Axes>"
            ]
          },
          "metadata": {
            "needs_background": "light"
          }
        }
      ]
    },
    {
      "cell_type": "markdown",
      "metadata": {
        "id": "Okq7wZD63yFl"
      },
      "source": [
        "Al utilizar el optimizador rmsprop, la red obtiene un porcentaje de acierto parecido al del caso 2"
      ]
    },
    {
      "cell_type": "code",
      "metadata": {
        "colab": {
          "base_uri": "https://localhost:8080/",
          "height": 265
        },
        "id": "mT1rBpeIGC5n",
        "outputId": "b930496b-4d83-4e54-c26b-6cb34a5bf17c"
      },
      "source": [
        "fashion_mnist = tf.keras.datasets.fashion_mnist\n",
        "(predtrain_images, predtrain_labels), (predtest_images, predtest_labels) = fashion_mnist.load_data()\n",
        "imagen6 = predtest_images[5]\n",
        "predtrain_images = predtrain_images.reshape((60000, 28 * 28))\n",
        "predtest_images = predtest_images.reshape((10000, 28 * 28))\n",
        "\n",
        "predtrain_images = predtrain_images.astype('float32') / 255\n",
        "predtest_images = predtest_images.astype('float32') / 255\n",
        "\n",
        "from keras.utils.np_utils import to_categorical\n",
        "\n",
        "\n",
        "predtest_labels = to_categorical(predtest_labels)\n",
        "\n",
        "\n",
        "predictions = network.predict(predtest_images)\n",
        "\n",
        "np.sum(predictions[5])\n",
        "\n",
        "plt.imshow(imagen6, cmap=plt.cm.binary)\n",
        "plt.show()\n",
        "\n",
        "predictions = network.predict(test_images)\n",
        "\n",
        "def plot_image(i, predictions_array, true_label, img):\n",
        "  predictions_array, true_label, img = predictions_array, true_label[i], img[i]\n",
        "  plt.grid(False)\n",
        "  plt.xticks([])\n",
        "  plt.yticks([])\n",
        "\n",
        "  plt.imshow(img, cmap=plt.cm.binary)    \n",
        "\n",
        "  predicted_label = np.argmax(predictions_array)\n",
        "  if predicted_label.all() == true_label.all():\n",
        "    color = 'blue'\n",
        "  else:\n",
        "    color = 'red'\n",
        "\n",
        "  plt.xlabel(\"{} {:2.0f}% ({})\".format(predicted_label,\n",
        "                                100*np.max(predictions_array),\n",
        "                                true_label),\n",
        "                                color=color)\n",
        " \n",
        "\n",
        "def plot_value_array(i, predictions_array, true_label):\n",
        "  predictions_array, true_label = predictions_array, true_label[i]\n",
        "  plt.grid(False)\n",
        "  plt.xticks(range(10))\n",
        "  plt.yticks([])\n",
        "  thisplot = plt.bar(range(10), predictions_array, color=\"#00FF00\")\n",
        "  plt.ylim([0, 1])\n",
        "  predicted_label = np.argmax(predictions_array)\n",
        "\n",
        "  thisplot[predicted_label].set_color('red')\n",
        "  thisplot[true_label].set_color('black')"
      ],
      "execution_count": null,
      "outputs": [
        {
          "output_type": "display_data",
          "data": {
            "image/png": "[encoded data removed]",
            "text/plain": [
              "<Figure size 432x288 with 1 Axes>"
            ]
          },
          "metadata": {
            "needs_background": "light"
          }
        }
      ]
    },
    {
      "cell_type": "code",
      "metadata": {
        "colab": {
          "base_uri": "https://localhost:8080/",
          "height": 211
        },
        "id": "Oti7RErkGecP",
        "outputId": "0ff097a3-28c8-4312-d01a-8f0092ca96b8"
      },
      "source": [
        "i = 5\n",
        "plt.figure(figsize=(6,3))\n",
        "plt.subplot(1,2,1)\n",
        "plot_image(i, predictions[i], test_labels, test_images.reshape(10000,28,28))\n",
        "plt.subplot(1,2,2)\n",
        "\n",
        "plot_value_array(i, predictions[i], test_labels)\n",
        "plt.show()"
      ],
      "execution_count": null,
      "outputs": [
        {
          "output_type": "display_data",
          "data": {
            "image/png": "[encoded data removed]",
            "text/plain": [
              "<Figure size 432x216 with 2 Axes>"
            ]
          },
          "metadata": {
            "needs_background": "light"
          }
        }
      ]
    },
    {
      "cell_type": "markdown",
      "metadata": {
        "id": "AwEBphVM37Te"
      },
      "source": [
        "#Caso 5"
      ]
    },
    {
      "cell_type": "code",
      "metadata": {
        "colab": {
          "base_uri": "https://localhost:8080/"
        },
        "id": "0tcfVKv039RL",
        "outputId": "6a55b386-0575-4b89-f2c4-076ec830d28e"
      },
      "source": [
        "network= keras.Sequential([\n",
        "                           keras.layers.Flatten(input_shape=(28,28)),\n",
        "                           keras.layers.Dense(512, activation='relu'),\n",
        "                           keras.layers.Dense(10,activation='softmax')\n",
        "],name='Zalando5')\n",
        "network.summary()"
      ],
      "execution_count": null,
      "outputs": [
        {
          "output_type": "stream",
          "name": "stdout",
          "text": [
            "Model: \"Zalando5\"\n",
            "_________________________________________________________________\n",
            "Layer (type)                 Output Shape              Param #   \n",
            "=================================================================\n",
            "flatten_4 (Flatten)          (None, 784)               0         \n",
            "_________________________________________________________________\n",
            "dense_8 (Dense)              (None, 512)               401920    \n",
            "_________________________________________________________________\n",
            "dense_9 (Dense)              (None, 10)                5130      \n",
            "=================================================================\n",
            "Total params: 407,050\n",
            "Trainable params: 407,050\n",
            "Non-trainable params: 0\n",
            "_________________________________________________________________\n"
          ]
        }
      ]
    },
    {
      "cell_type": "markdown",
      "metadata": {
        "id": "iFOotq30-uAY"
      },
      "source": [
        "Según el summary, tenemos 1 capa neuronal Flatten y 2 capas neuronales de tipo dense donde cada neurona de la primera capa, siendo esta vez 512 está conectada a cada una de la segunda capa saliendo 10 respuestas que equivalen a cada tipo de prensa. El aumentar el número de neuronas hace aumentar también a grán escala el número de parametros"
      ]
    },
    {
      "cell_type": "code",
      "metadata": {
        "id": "TgFfV2Pi4J3c"
      },
      "source": [
        "network.compile(optimizer='sgd',\n",
        "                loss='sparse_categorical_crossentropy',\n",
        "                metrics=['accuracy'])"
      ],
      "execution_count": null,
      "outputs": []
    },
    {
      "cell_type": "code",
      "metadata": {
        "colab": {
          "base_uri": "https://localhost:8080/"
        },
        "id": "iR-N3PuJ5fec",
        "outputId": "785a2ea1-2a1e-4f87-c6d9-a5da0f4800dc"
      },
      "source": [
        "network.fit(train_images, train_labels, epochs=5, batch_size=128)"
      ],
      "execution_count": null,
      "outputs": [
        {
          "output_type": "stream",
          "name": "stdout",
          "text": [
            "Epoch 1/5\n",
            "WARNING:tensorflow:Model was constructed with shape (None, 28, 28) for input KerasTensor(type_spec=TensorSpec(shape=(None, 28, 28), dtype=tf.float32, name='flatten_4_input'), name='flatten_4_input', description=\"created by layer 'flatten_4_input'\"), but it was called on an input with incompatible shape (None, 784).\n",
            "WARNING:tensorflow:Model was constructed with shape (None, 28, 28) for input KerasTensor(type_spec=TensorSpec(shape=(None, 28, 28), dtype=tf.float32, name='flatten_4_input'), name='flatten_4_input', description=\"created by layer 'flatten_4_input'\"), but it was called on an input with incompatible shape (None, 784).\n",
            "469/469 [==============================] - 3s 6ms/step - loss: 1.0010 - accuracy: 0.6972\n",
            "Epoch 2/5\n",
            "469/469 [==============================] - 3s 6ms/step - loss: 0.6509 - accuracy: 0.7929\n",
            "Epoch 3/5\n",
            "469/469 [==============================] - 3s 6ms/step - loss: 0.5761 - accuracy: 0.8139\n",
            "Epoch 4/5\n",
            "469/469 [==============================] - 3s 6ms/step - loss: 0.5365 - accuracy: 0.8237\n",
            "Epoch 5/5\n",
            "469/469 [==============================] - 3s 6ms/step - loss: 0.5105 - accuracy: 0.8309\n"
          ]
        },
        {
          "output_type": "execute_result",
          "data": {
            "text/plain": [
              "<keras.callbacks.History at 0x7f9a1c0f8dd0>"
            ]
          },
          "metadata": {},
          "execution_count": 36
        }
      ]
    },
    {
      "cell_type": "code",
      "metadata": {
        "colab": {
          "base_uri": "https://localhost:8080/"
        },
        "id": "1L_qfCy14NVT",
        "outputId": "a95a6310-da9c-4477-9fc2-1aad5ffd70a2"
      },
      "source": [
        "test_loss, test_acc = network.evaluate(test_images, test_labels)"
      ],
      "execution_count": null,
      "outputs": [
        {
          "output_type": "stream",
          "name": "stdout",
          "text": [
            "WARNING:tensorflow:Model was constructed with shape (None, 28, 28) for input KerasTensor(type_spec=TensorSpec(shape=(None, 28, 28), dtype=tf.float32, name='flatten_4_input'), name='flatten_4_input', description=\"created by layer 'flatten_4_input'\"), but it was called on an input with incompatible shape (None, 784).\n",
            "313/313 [==============================] - 1s 2ms/step - loss: 0.5291 - accuracy: 0.8196\n"
          ]
        }
      ]
    },
    {
      "cell_type": "code",
      "metadata": {
        "colab": {
          "base_uri": "https://localhost:8080/",
          "height": 349
        },
        "id": "Oz4WSj8A4aD3",
        "outputId": "26354191-bc37-4761-f9f6-79d1bc5b40e9"
      },
      "source": [
        "test_labelsp = to_categorical(test_labels)\n",
        "# Look at confusion matrix \n",
        "# Note, this code is taken straight from the SKLEARN website, an nice way of \n",
        "# viewing confusion matrix.\n",
        "def plot_confusion_matrix(cm, classes,\n",
        "                          normalize=False,\n",
        "                          title='Confusion matrix',\n",
        "                          cmap=plt.cm.Blues):\n",
        "    \"\"\"\n",
        "    This function prints and plots the confusion matrix.\n",
        "    Normalization can be applied by setting `normalize=True`.\n",
        "    \"\"\"\n",
        "    plt.imshow(cm, interpolation='nearest', cmap=cmap)\n",
        "    plt.title(title)\n",
        "    plt.colorbar()\n",
        "    tick_marks = np.arange(len(classes))\n",
        "    plt.xticks(tick_marks, classes, rotation=45)\n",
        "    plt.yticks(tick_marks, classes)\n",
        "\n",
        "    if normalize:\n",
        "        cm = cm.astype('float') / cm.sum(axis=1)[:, np.newaxis]\n",
        "\n",
        "    thresh = cm.max() / 2.\n",
        "    for i, j in itertools.product(range(cm.shape[0]), range(cm.shape[1])):\n",
        "        plt.text(j, i, cm[i, j],\n",
        "                 horizontalalignment=\"center\",\n",
        "                 color=\"white\" if cm[i, j] > thresh else \"black\")\n",
        "\n",
        "    plt.tight_layout()\n",
        "    plt.ylabel('Observación')\n",
        "    plt.xlabel('Predicción')\n",
        "\n",
        "\n",
        "    # Predict the values from the validation dataset\n",
        "Y_pred = network.predict(test_images)\n",
        "# Convert predictions classes to one hot vectors \n",
        "Y_pred_classes = np.argmax(Y_pred, axis = 1) \n",
        "# Convert validation observations to one hot vectors\n",
        "Y_true = np.argmax(test_labelsp, axis = 1) \n",
        "# compute the confusion matrix\n",
        "confusion_mtx = confusion_matrix(Y_true, Y_pred_classes) \n",
        "# plot the confusion matrix\n",
        "plot_confusion_matrix(confusion_mtx, classes = range(10))"
      ],
      "execution_count": null,
      "outputs": [
        {
          "output_type": "stream",
          "name": "stdout",
          "text": [
            "WARNING:tensorflow:Model was constructed with shape (None, 28, 28) for input KerasTensor(type_spec=TensorSpec(shape=(None, 28, 28), dtype=tf.float32, name='flatten_4_input'), name='flatten_4_input', description=\"created by layer 'flatten_4_input'\"), but it was called on an input with incompatible shape (None, 784).\n"
          ]
        },
        {
          "output_type": "display_data",
          "data": {
            "image/png": "[encoded data removed]",
            "text/plain": [
              "<Figure size 432x288 with 2 Axes>"
            ]
          },
          "metadata": {
            "needs_background": "light"
          }
        }
      ]
    },
    {
      "cell_type": "markdown",
      "metadata": {
        "id": "t8MYo7IQ4h_w"
      },
      "source": [
        "Al implementar 512 neuronas en la segunda capa en vez de 10, seguimos obteniendo un % parecido de acierto"
      ]
    },
    {
      "cell_type": "code",
      "metadata": {
        "colab": {
          "base_uri": "https://localhost:8080/",
          "height": 265
        },
        "id": "z0CZ-H1SGEnl",
        "outputId": "3b718242-7b43-4739-94d1-f3eb1a2579bd"
      },
      "source": [
        "fashion_mnist = tf.keras.datasets.fashion_mnist\n",
        "(predtrain_images, predtrain_labels), (predtest_images, predtest_labels) = fashion_mnist.load_data()\n",
        "imagen6 = predtest_images[5]\n",
        "predtrain_images = predtrain_images.reshape((60000, 28 * 28))\n",
        "predtest_images = predtest_images.reshape((10000, 28 * 28))\n",
        "\n",
        "predtrain_images = predtrain_images.astype('float32') / 255\n",
        "predtest_images = predtest_images.astype('float32') / 255\n",
        "\n",
        "from keras.utils.np_utils import to_categorical\n",
        "\n",
        "\n",
        "predtest_labels = to_categorical(predtest_labels)\n",
        "\n",
        "\n",
        "predictions = network.predict(predtest_images)\n",
        "\n",
        "np.sum(predictions[5])\n",
        "\n",
        "plt.imshow(imagen6, cmap=plt.cm.binary)\n",
        "plt.show()\n",
        "\n",
        "predictions = network.predict(test_images)\n",
        "\n",
        "def plot_image(i, predictions_array, true_label, img):\n",
        "  predictions_array, true_label, img = predictions_array, true_label[i], img[i]\n",
        "  plt.grid(False)\n",
        "  plt.xticks([])\n",
        "  plt.yticks([])\n",
        "\n",
        "  plt.imshow(img, cmap=plt.cm.binary)    \n",
        "\n",
        "  predicted_label = np.argmax(predictions_array)\n",
        "  if predicted_label.all() == true_label.all():\n",
        "    color = 'blue'\n",
        "  else:\n",
        "    color = 'red'\n",
        "\n",
        "  plt.xlabel(\"{} {:2.0f}% ({})\".format(predicted_label,\n",
        "                                100*np.max(predictions_array),\n",
        "                                true_label),\n",
        "                                color=color)\n",
        " \n",
        "\n",
        "def plot_value_array(i, predictions_array, true_label):\n",
        "  predictions_array, true_label = predictions_array, true_label[i]\n",
        "  plt.grid(False)\n",
        "  plt.xticks(range(10))\n",
        "  plt.yticks([])\n",
        "  thisplot = plt.bar(range(10), predictions_array, color=\"#00FF00\")\n",
        "  plt.ylim([0, 1])\n",
        "  predicted_label = np.argmax(predictions_array)\n",
        "\n",
        "  thisplot[predicted_label].set_color('red')\n",
        "  thisplot[true_label].set_color('black')"
      ],
      "execution_count": null,
      "outputs": [
        {
          "output_type": "display_data",
          "data": {
            "image/png": "[encoded data removed]",
            "text/plain": [
              "<Figure size 432x288 with 1 Axes>"
            ]
          },
          "metadata": {
            "needs_background": "light"
          }
        }
      ]
    },
    {
      "cell_type": "code",
      "metadata": {
        "colab": {
          "base_uri": "https://localhost:8080/",
          "height": 211
        },
        "id": "ukGccnbHGgr4",
        "outputId": "d356e7ab-4743-4fdf-87e3-993055697556"
      },
      "source": [
        "i = 5\n",
        "plt.figure(figsize=(6,3))\n",
        "plt.subplot(1,2,1)\n",
        "plot_image(i, predictions[i], test_labels, test_images.reshape(10000,28,28))\n",
        "plt.subplot(1,2,2)\n",
        "\n",
        "plot_value_array(i, predictions[i], test_labels)\n",
        "plt.show()"
      ],
      "execution_count": null,
      "outputs": [
        {
          "output_type": "display_data",
          "data": {
            "image/png": "[encoded data removed]",
            "text/plain": [
              "<Figure size 432x216 with 2 Axes>"
            ]
          },
          "metadata": {
            "needs_background": "light"
          }
        }
      ]
    },
    {
      "cell_type": "markdown",
      "metadata": {
        "id": "CwsShmmb4pff"
      },
      "source": [
        "#Caso 6"
      ]
    },
    {
      "cell_type": "code",
      "metadata": {
        "colab": {
          "base_uri": "https://localhost:8080/"
        },
        "id": "oZO1oOeG4r4U",
        "outputId": "36228f20-12ac-483a-e5eb-842e4109e40a"
      },
      "source": [
        "network= keras.Sequential([\n",
        "                           keras.layers.Flatten(input_shape=(28,28)),\n",
        "                           keras.layers.Dense(512, activation='relu'),\n",
        "                           keras.layers.Dense(10,activation='softmax')\n",
        "],name='Zalando6')\n",
        "network.summary()"
      ],
      "execution_count": null,
      "outputs": [
        {
          "output_type": "stream",
          "name": "stdout",
          "text": [
            "Model: \"Zalando6\"\n",
            "_________________________________________________________________\n",
            "Layer (type)                 Output Shape              Param #   \n",
            "=================================================================\n",
            "flatten_5 (Flatten)          (None, 784)               0         \n",
            "_________________________________________________________________\n",
            "dense_10 (Dense)             (None, 512)               401920    \n",
            "_________________________________________________________________\n",
            "dense_11 (Dense)             (None, 10)                5130      \n",
            "=================================================================\n",
            "Total params: 407,050\n",
            "Trainable params: 407,050\n",
            "Non-trainable params: 0\n",
            "_________________________________________________________________\n"
          ]
        }
      ]
    },
    {
      "cell_type": "markdown",
      "metadata": {
        "id": "cMeFt9Z1-6-g"
      },
      "source": [
        "Según el summary, tenemos 1 capa neuronal Flatten y 2 capas neuronales de tipo dense donde cada neurona de la primera capa, siendo esta vez 512 está conectada a cada una de la segunda capa saliendo 10 respuestas que equivalen a cada tipo de prensa. El aumentar el número de neuronas hace aumentar también a grán escala el número de parametros"
      ]
    },
    {
      "cell_type": "code",
      "metadata": {
        "id": "XFgAsvyJ4xnT"
      },
      "source": [
        "network.compile(optimizer='rmsprop',\n",
        "                loss='sparse_categorical_crossentropy',\n",
        "                metrics=['accuracy'])"
      ],
      "execution_count": null,
      "outputs": []
    },
    {
      "cell_type": "code",
      "metadata": {
        "colab": {
          "base_uri": "https://localhost:8080/"
        },
        "id": "nMYsN5je551Z",
        "outputId": "f7821a34-4989-456a-f114-1e9d1e934300"
      },
      "source": [
        "network.fit(train_images, train_labels, epochs=5, batch_size=128)"
      ],
      "execution_count": null,
      "outputs": [
        {
          "output_type": "stream",
          "name": "stdout",
          "text": [
            "Epoch 1/5\n",
            "WARNING:tensorflow:Model was constructed with shape (None, 28, 28) for input KerasTensor(type_spec=TensorSpec(shape=(None, 28, 28), dtype=tf.float32, name='flatten_5_input'), name='flatten_5_input', description=\"created by layer 'flatten_5_input'\"), but it was called on an input with incompatible shape (None, 784).\n",
            "WARNING:tensorflow:Model was constructed with shape (None, 28, 28) for input KerasTensor(type_spec=TensorSpec(shape=(None, 28, 28), dtype=tf.float32, name='flatten_5_input'), name='flatten_5_input', description=\"created by layer 'flatten_5_input'\"), but it was called on an input with incompatible shape (None, 784).\n",
            "469/469 [==============================] - 4s 8ms/step - loss: 0.5567 - accuracy: 0.8010\n",
            "Epoch 2/5\n",
            "469/469 [==============================] - 4s 8ms/step - loss: 0.3795 - accuracy: 0.8615\n",
            "Epoch 3/5\n",
            "469/469 [==============================] - 4s 8ms/step - loss: 0.3363 - accuracy: 0.8751\n",
            "Epoch 4/5\n",
            "469/469 [==============================] - 4s 8ms/step - loss: 0.3092 - accuracy: 0.8856\n",
            "Epoch 5/5\n",
            "469/469 [==============================] - 4s 8ms/step - loss: 0.2916 - accuracy: 0.8927\n"
          ]
        },
        {
          "output_type": "execute_result",
          "data": {
            "text/plain": [
              "<keras.callbacks.History at 0x7f9a1c526550>"
            ]
          },
          "metadata": {},
          "execution_count": 43
        }
      ]
    },
    {
      "cell_type": "code",
      "metadata": {
        "colab": {
          "base_uri": "https://localhost:8080/"
        },
        "id": "NyjfT1py482H",
        "outputId": "05738159-6e46-456f-e225-f659911700c8"
      },
      "source": [
        "test_loss, test_acc = network.evaluate(test_images, test_labels)"
      ],
      "execution_count": null,
      "outputs": [
        {
          "output_type": "stream",
          "name": "stdout",
          "text": [
            "WARNING:tensorflow:Model was constructed with shape (None, 28, 28) for input KerasTensor(type_spec=TensorSpec(shape=(None, 28, 28), dtype=tf.float32, name='flatten_5_input'), name='flatten_5_input', description=\"created by layer 'flatten_5_input'\"), but it was called on an input with incompatible shape (None, 784).\n",
            "313/313 [==============================] - 1s 2ms/step - loss: 0.3399 - accuracy: 0.8808\n"
          ]
        }
      ]
    },
    {
      "cell_type": "code",
      "metadata": {
        "colab": {
          "base_uri": "https://localhost:8080/",
          "height": 349
        },
        "id": "sydQm6wF5B84",
        "outputId": "fd379de6-4c14-474e-d0e6-c9a45e6d687f"
      },
      "source": [
        "test_labelsp = to_categorical(test_labels)\n",
        "# Look at confusion matrix \n",
        "# Note, this code is taken straight from the SKLEARN website, an nice way of \n",
        "# viewing confusion matrix.\n",
        "def plot_confusion_matrix(cm, classes,\n",
        "                          normalize=False,\n",
        "                          title='Confusion matrix',\n",
        "                          cmap=plt.cm.Blues):\n",
        "    \"\"\"\n",
        "    This function prints and plots the confusion matrix.\n",
        "    Normalization can be applied by setting `normalize=True`.\n",
        "    \"\"\"\n",
        "    plt.imshow(cm, interpolation='nearest', cmap=cmap)\n",
        "    plt.title(title)\n",
        "    plt.colorbar()\n",
        "    tick_marks = np.arange(len(classes))\n",
        "    plt.xticks(tick_marks, classes, rotation=45)\n",
        "    plt.yticks(tick_marks, classes)\n",
        "\n",
        "    if normalize:\n",
        "        cm = cm.astype('float') / cm.sum(axis=1)[:, np.newaxis]\n",
        "\n",
        "    thresh = cm.max() / 2.\n",
        "    for i, j in itertools.product(range(cm.shape[0]), range(cm.shape[1])):\n",
        "        plt.text(j, i, cm[i, j],\n",
        "                 horizontalalignment=\"center\",\n",
        "                 color=\"white\" if cm[i, j] > thresh else \"black\")\n",
        "\n",
        "    plt.tight_layout()\n",
        "    plt.ylabel('Observación')\n",
        "    plt.xlabel('Predicción')\n",
        "\n",
        "\n",
        "    # Predict the values from the validation dataset\n",
        "Y_pred = network.predict(test_images)\n",
        "# Convert predictions classes to one hot vectors \n",
        "Y_pred_classes = np.argmax(Y_pred, axis = 1) \n",
        "# Convert validation observations to one hot vectors\n",
        "Y_true = np.argmax(test_labelsp, axis = 1) \n",
        "# compute the confusion matrix\n",
        "confusion_mtx = confusion_matrix(Y_true, Y_pred_classes) \n",
        "# plot the confusion matrix\n",
        "plot_confusion_matrix(confusion_mtx, classes = range(10))"
      ],
      "execution_count": null,
      "outputs": [
        {
          "output_type": "stream",
          "name": "stdout",
          "text": [
            "WARNING:tensorflow:Model was constructed with shape (None, 28, 28) for input KerasTensor(type_spec=TensorSpec(shape=(None, 28, 28), dtype=tf.float32, name='flatten_5_input'), name='flatten_5_input', description=\"created by layer 'flatten_5_input'\"), but it was called on an input with incompatible shape (None, 784).\n"
          ]
        },
        {
          "output_type": "display_data",
          "data": {
            "image/png": "[encoded data removed]",
            "text/plain": [
              "<Figure size 432x288 with 2 Axes>"
            ]
          },
          "metadata": {
            "needs_background": "light"
          }
        }
      ]
    },
    {
      "cell_type": "markdown",
      "metadata": {
        "id": "N19Cr_Cp6QMm"
      },
      "source": [
        "Con la función relu y el optimizador rmsprop, se obtiene casi un 90% de acierto"
      ]
    },
    {
      "cell_type": "markdown",
      "metadata": {
        "id": "PDcwMQVcGjaI"
      },
      "source": [
        "Predicción:"
      ]
    },
    {
      "cell_type": "code",
      "metadata": {
        "colab": {
          "base_uri": "https://localhost:8080/",
          "height": 265
        },
        "id": "3PmGdfQ2GGcN",
        "outputId": "3572085f-ae2b-4f41-d8a5-6700f7d91162"
      },
      "source": [
        "fashion_mnist = tf.keras.datasets.fashion_mnist\n",
        "(predtrain_images, predtrain_labels), (predtest_images, predtest_labels) = fashion_mnist.load_data()\n",
        "imagen6 = predtest_images[5]\n",
        "predtrain_images = predtrain_images.reshape((60000, 28 * 28))\n",
        "predtest_images = predtest_images.reshape((10000, 28 * 28))\n",
        "\n",
        "predtrain_images = predtrain_images.astype('float32') / 255\n",
        "predtest_images = predtest_images.astype('float32') / 255\n",
        "\n",
        "from keras.utils.np_utils import to_categorical\n",
        "\n",
        "\n",
        "predtest_labels = to_categorical(predtest_labels)\n",
        "\n",
        "\n",
        "predictions = network.predict(predtest_images)\n",
        "\n",
        "np.sum(predictions[5])\n",
        "\n",
        "plt.imshow(imagen6, cmap=plt.cm.binary)\n",
        "plt.show()\n",
        "\n",
        "predictions = network.predict(test_images)\n",
        "\n",
        "def plot_image(i, predictions_array, true_label, img):\n",
        "  predictions_array, true_label, img = predictions_array, true_label[i], img[i]\n",
        "  plt.grid(False)\n",
        "  plt.xticks([])\n",
        "  plt.yticks([])\n",
        "\n",
        "  plt.imshow(img, cmap=plt.cm.binary)    \n",
        "\n",
        "  predicted_label = np.argmax(predictions_array)\n",
        "  if predicted_label.all() == true_label.all():\n",
        "    color = 'blue'\n",
        "  else:\n",
        "    color = 'red'\n",
        "\n",
        "  plt.xlabel(\"{} {:2.0f}% ({})\".format(predicted_label,\n",
        "                                100*np.max(predictions_array),\n",
        "                                true_label),\n",
        "                                color=color)\n",
        " \n",
        "\n",
        "def plot_value_array(i, predictions_array, true_label):\n",
        "  predictions_array, true_label = predictions_array, true_label[i]\n",
        "  plt.grid(False)\n",
        "  plt.xticks(range(10))\n",
        "  plt.yticks([])\n",
        "  thisplot = plt.bar(range(10), predictions_array, color=\"#00FF00\")\n",
        "  plt.ylim([0, 1])\n",
        "  predicted_label = np.argmax(predictions_array)\n",
        "\n",
        "  thisplot[predicted_label].set_color('red')\n",
        "  thisplot[true_label].set_color('black')"
      ],
      "execution_count": null,
      "outputs": [
        {
          "output_type": "display_data",
          "data": {
            "image/png": "[encoded data removed]",
            "text/plain": [
              "<Figure size 432x288 with 1 Axes>"
            ]
          },
          "metadata": {
            "needs_background": "light"
          }
        }
      ]
    },
    {
      "cell_type": "code",
      "metadata": {
        "colab": {
          "base_uri": "https://localhost:8080/",
          "height": 211
        },
        "id": "EcmQd3YSGlKk",
        "outputId": "acf187eb-82d8-4224-a278-65e8ec7e0c74"
      },
      "source": [
        "i = 5\n",
        "plt.figure(figsize=(6,3))\n",
        "plt.subplot(1,2,1)\n",
        "plot_image(i, predictions[i], test_labels, test_images.reshape(10000,28,28))\n",
        "plt.subplot(1,2,2)\n",
        "\n",
        "plot_value_array(i, predictions[i], test_labels)\n",
        "plt.show()"
      ],
      "execution_count": null,
      "outputs": [
        {
          "output_type": "display_data",
          "data": {
            "image/png": "[encoded data removed]",
            "text/plain": [
              "<Figure size 432x216 with 2 Axes>"
            ]
          },
          "metadata": {
            "needs_background": "light"
          }
        }
      ]
    },
    {
      "cell_type": "markdown",
      "metadata": {
        "id": "F7829fSt6SYP"
      },
      "source": [
        "#Caso 7"
      ]
    },
    {
      "cell_type": "code",
      "metadata": {
        "colab": {
          "base_uri": "https://localhost:8080/"
        },
        "id": "Zb1b7at66WK9",
        "outputId": "fdc2da77-19d4-42ec-d04c-dbc106cd0931"
      },
      "source": [
        "network= keras.Sequential([\n",
        "                           keras.layers.Flatten(input_shape=(28,28)),\n",
        "                           keras.layers.Dense(512, activation='sigmoid'),\n",
        "                           keras.layers.Dense(10,activation='softmax')\n",
        "],name='Zalando7')\n",
        "network.summary()"
      ],
      "execution_count": null,
      "outputs": [
        {
          "output_type": "stream",
          "name": "stdout",
          "text": [
            "Model: \"Zalando7\"\n",
            "_________________________________________________________________\n",
            "Layer (type)                 Output Shape              Param #   \n",
            "=================================================================\n",
            "flatten_10 (Flatten)         (None, 784)               0         \n",
            "_________________________________________________________________\n",
            "dense_20 (Dense)             (None, 512)               401920    \n",
            "_________________________________________________________________\n",
            "dense_21 (Dense)             (None, 10)                5130      \n",
            "=================================================================\n",
            "Total params: 407,050\n",
            "Trainable params: 407,050\n",
            "Non-trainable params: 0\n",
            "_________________________________________________________________\n"
          ]
        }
      ]
    },
    {
      "cell_type": "markdown",
      "metadata": {
        "id": "OxDy4zwk-950"
      },
      "source": [
        "Según el summary, tenemos 1 capa neuronal Flatten y 2 capas neuronales de tipo dense donde cada neurona de la primera capa, siendo esta vez 512 está conectada a cada una de la segunda capa saliendo 10 respuestas que equivalen a cada tipo de prensa. El aumentar el número de neuronas hace aumentar también a grán escala el número de parametros"
      ]
    },
    {
      "cell_type": "code",
      "metadata": {
        "id": "un4y3IIi6gFd"
      },
      "source": [
        "network.compile(optimizer='sgd',\n",
        "                loss='sparse_categorical_crossentropy',\n",
        "                metrics=['accuracy'])"
      ],
      "execution_count": null,
      "outputs": []
    },
    {
      "cell_type": "code",
      "metadata": {
        "colab": {
          "base_uri": "https://localhost:8080/"
        },
        "id": "jI3wfEKb6kvZ",
        "outputId": "1ef6d3bb-aa4e-4ed0-82df-679b3b1cce9a"
      },
      "source": [
        "network.fit(train_images, train_labels, epochs=5, batch_size=128)"
      ],
      "execution_count": null,
      "outputs": [
        {
          "output_type": "stream",
          "name": "stdout",
          "text": [
            "Epoch 1/5\n",
            "WARNING:tensorflow:Model was constructed with shape (None, 28, 28) for input KerasTensor(type_spec=TensorSpec(shape=(None, 28, 28), dtype=tf.float32, name='flatten_10_input'), name='flatten_10_input', description=\"created by layer 'flatten_10_input'\"), but it was called on an input with incompatible shape (None, 784).\n",
            "WARNING:tensorflow:Model was constructed with shape (None, 28, 28) for input KerasTensor(type_spec=TensorSpec(shape=(None, 28, 28), dtype=tf.float32, name='flatten_10_input'), name='flatten_10_input', description=\"created by layer 'flatten_10_input'\"), but it was called on an input with incompatible shape (None, 784).\n",
            "469/469 [==============================] - 3s 6ms/step - loss: 1.7164 - accuracy: 0.5903\n",
            "Epoch 2/5\n",
            "469/469 [==============================] - 3s 6ms/step - loss: 1.1345 - accuracy: 0.7104\n",
            "Epoch 3/5\n",
            "469/469 [==============================] - 3s 6ms/step - loss: 0.9277 - accuracy: 0.7315\n",
            "Epoch 4/5\n",
            "469/469 [==============================] - 3s 6ms/step - loss: 0.8250 - accuracy: 0.7439\n",
            "Epoch 5/5\n",
            "469/469 [==============================] - 3s 6ms/step - loss: 0.7627 - accuracy: 0.7527\n"
          ]
        },
        {
          "output_type": "execute_result",
          "data": {
            "text/plain": [
              "<keras.callbacks.History at 0x7f9a18ec9b50>"
            ]
          },
          "metadata": {},
          "execution_count": 75
        }
      ]
    },
    {
      "cell_type": "code",
      "metadata": {
        "colab": {
          "base_uri": "https://localhost:8080/"
        },
        "id": "0JYEWduO6nbY",
        "outputId": "b3314f42-d25c-4014-fb66-4a8fd39e7058"
      },
      "source": [
        "test_loss, test_acc = network.evaluate(test_images, test_labels)"
      ],
      "execution_count": null,
      "outputs": [
        {
          "output_type": "stream",
          "name": "stdout",
          "text": [
            "WARNING:tensorflow:Model was constructed with shape (None, 28, 28) for input KerasTensor(type_spec=TensorSpec(shape=(None, 28, 28), dtype=tf.float32, name='flatten_10_input'), name='flatten_10_input', description=\"created by layer 'flatten_10_input'\"), but it was called on an input with incompatible shape (None, 784).\n",
            "313/313 [==============================] - 1s 2ms/step - loss: 0.7518 - accuracy: 0.7501\n"
          ]
        }
      ]
    },
    {
      "cell_type": "code",
      "metadata": {
        "colab": {
          "base_uri": "https://localhost:8080/",
          "height": 349
        },
        "id": "Pa6qd7bW6rMg",
        "outputId": "3112eade-9c6e-485f-b240-e93f7cbac227"
      },
      "source": [
        "test_labelsp = to_categorical(test_labels)\n",
        "# Look at confusion matrix \n",
        "# Note, this code is taken straight from the SKLEARN website, an nice way of \n",
        "# viewing confusion matrix.\n",
        "def plot_confusion_matrix(cm, classes,\n",
        "                          normalize=False,\n",
        "                          title='Confusion matrix',\n",
        "                          cmap=plt.cm.Blues):\n",
        "    \"\"\"\n",
        "    This function prints and plots the confusion matrix.\n",
        "    Normalization can be applied by setting `normalize=True`.\n",
        "    \"\"\"\n",
        "    plt.imshow(cm, interpolation='nearest', cmap=cmap)\n",
        "    plt.title(title)\n",
        "    plt.colorbar()\n",
        "    tick_marks = np.arange(len(classes))\n",
        "    plt.xticks(tick_marks, classes, rotation=45)\n",
        "    plt.yticks(tick_marks, classes)\n",
        "\n",
        "    if normalize:\n",
        "        cm = cm.astype('float') / cm.sum(axis=1)[:, np.newaxis]\n",
        "\n",
        "    thresh = cm.max() / 2.\n",
        "    for i, j in itertools.product(range(cm.shape[0]), range(cm.shape[1])):\n",
        "        plt.text(j, i, cm[i, j],\n",
        "                 horizontalalignment=\"center\",\n",
        "                 color=\"white\" if cm[i, j] > thresh else \"black\")\n",
        "\n",
        "    plt.tight_layout()\n",
        "    plt.ylabel('Observación')\n",
        "    plt.xlabel('Predicción')\n",
        "\n",
        "\n",
        "    # Predict the values from the validation dataset\n",
        "Y_pred = network.predict(test_images)\n",
        "# Convert predictions classes to one hot vectors \n",
        "Y_pred_classes = np.argmax(Y_pred, axis = 1) \n",
        "# Convert validation observations to one hot vectors\n",
        "Y_true = np.argmax(test_labelsp, axis = 1) \n",
        "# compute the confusion matrix\n",
        "confusion_mtx = confusion_matrix(Y_true, Y_pred_classes) \n",
        "# plot the confusion matrix\n",
        "plot_confusion_matrix(confusion_mtx, classes = range(10))"
      ],
      "execution_count": null,
      "outputs": [
        {
          "output_type": "stream",
          "name": "stdout",
          "text": [
            "WARNING:tensorflow:Model was constructed with shape (None, 28, 28) for input KerasTensor(type_spec=TensorSpec(shape=(None, 28, 28), dtype=tf.float32, name='flatten_10_input'), name='flatten_10_input', description=\"created by layer 'flatten_10_input'\"), but it was called on an input with incompatible shape (None, 784).\n"
          ]
        },
        {
          "output_type": "display_data",
          "data": {
            "image/png": "[encoded data removed]",
            "text/plain": [
              "<Figure size 432x288 with 2 Axes>"
            ]
          },
          "metadata": {
            "needs_background": "light"
          }
        }
      ]
    },
    {
      "cell_type": "markdown",
      "metadata": {
        "id": "eb2Hr6h5Gqna"
      },
      "source": [
        "Predicción:"
      ]
    },
    {
      "cell_type": "code",
      "metadata": {
        "colab": {
          "base_uri": "https://localhost:8080/",
          "height": 265
        },
        "id": "y7DBi8sQGHyW",
        "outputId": "b3c611b7-5dc9-4ad3-f357-4536434030a8"
      },
      "source": [
        "fashion_mnist = tf.keras.datasets.fashion_mnist\n",
        "(predtrain_images, predtrain_labels), (predtest_images, predtest_labels) = fashion_mnist.load_data()\n",
        "imagen6 = predtest_images[5]\n",
        "predtrain_images = predtrain_images.reshape((60000, 28 * 28))\n",
        "predtest_images = predtest_images.reshape((10000, 28 * 28))\n",
        "\n",
        "predtrain_images = predtrain_images.astype('float32') / 255\n",
        "predtest_images = predtest_images.astype('float32') / 255\n",
        "\n",
        "from keras.utils.np_utils import to_categorical\n",
        "\n",
        "\n",
        "predtest_labels = to_categorical(predtest_labels)\n",
        "\n",
        "\n",
        "predictions = network.predict(predtest_images)\n",
        "\n",
        "np.sum(predictions[5])\n",
        "\n",
        "plt.imshow(imagen6, cmap=plt.cm.binary)\n",
        "plt.show()\n",
        "\n",
        "predictions = network.predict(test_images)\n",
        "\n",
        "def plot_image(i, predictions_array, true_label, img):\n",
        "  predictions_array, true_label, img = predictions_array, true_label[i], img[i]\n",
        "  plt.grid(False)\n",
        "  plt.xticks([])\n",
        "  plt.yticks([])\n",
        "\n",
        "  plt.imshow(img, cmap=plt.cm.binary)    \n",
        "\n",
        "  predicted_label = np.argmax(predictions_array)\n",
        "  if predicted_label.all() == true_label.all():\n",
        "    color = 'blue'\n",
        "  else:\n",
        "    color = 'red'\n",
        "\n",
        "  plt.xlabel(\"{} {:2.0f}% ({})\".format(predicted_label,\n",
        "                                100*np.max(predictions_array),\n",
        "                                true_label),\n",
        "                                color=color)\n",
        " \n",
        "\n",
        "def plot_value_array(i, predictions_array, true_label):\n",
        "  predictions_array, true_label = predictions_array, true_label[i]\n",
        "  plt.grid(False)\n",
        "  plt.xticks(range(10))\n",
        "  plt.yticks([])\n",
        "  thisplot = plt.bar(range(10), predictions_array, color=\"#00FF00\")\n",
        "  plt.ylim([0, 1])\n",
        "  predicted_label = np.argmax(predictions_array)\n",
        "\n",
        "  thisplot[predicted_label].set_color('red')\n",
        "  thisplot[true_label].set_color('black')"
      ],
      "execution_count": null,
      "outputs": [
        {
          "output_type": "display_data",
          "data": {
            "image/png": "[encoded data removed]",
            "text/plain": [
              "<Figure size 432x288 with 1 Axes>"
            ]
          },
          "metadata": {
            "needs_background": "light"
          }
        }
      ]
    },
    {
      "cell_type": "code",
      "metadata": {
        "colab": {
          "base_uri": "https://localhost:8080/",
          "height": 211
        },
        "id": "12LNToNIHPv4",
        "outputId": "67613ea7-6772-4fca-aaa5-3363cb727193"
      },
      "source": [
        "i = 5\n",
        "plt.figure(figsize=(6,3))\n",
        "plt.subplot(1,2,1)\n",
        "plot_image(i, predictions[i], test_labels, test_images.reshape(10000,28,28))\n",
        "plt.subplot(1,2,2)\n",
        "\n",
        "plot_value_array(i, predictions[i], test_labels)\n",
        "plt.show()"
      ],
      "execution_count": null,
      "outputs": [
        {
          "output_type": "display_data",
          "data": {
            "image/png": "[encoded data removed]",
            "text/plain": [
              "<Figure size 432x216 with 2 Axes>"
            ]
          },
          "metadata": {
            "needs_background": "light"
          }
        }
      ]
    },
    {
      "cell_type": "markdown",
      "metadata": {
        "id": "OwbnYxzt6yaa"
      },
      "source": [
        "#Caso 8"
      ]
    },
    {
      "cell_type": "code",
      "metadata": {
        "colab": {
          "base_uri": "https://localhost:8080/"
        },
        "id": "jkMhIA1l60GK",
        "outputId": "e17231f6-561b-4bfc-e519-599668bb4098"
      },
      "source": [
        "network= keras.Sequential([\n",
        "                           keras.layers.Flatten(input_shape=(28,28)),\n",
        "                           keras.layers.Dense(512, activation='sigmoid'),\n",
        "                           keras.layers.Dense(10,activation='softmax')\n",
        "],name='Zalando8')\n",
        "network.summary()"
      ],
      "execution_count": null,
      "outputs": [
        {
          "output_type": "stream",
          "name": "stdout",
          "text": [
            "Model: \"Zalando8\"\n",
            "_________________________________________________________________\n",
            "Layer (type)                 Output Shape              Param #   \n",
            "=================================================================\n",
            "flatten_7 (Flatten)          (None, 784)               0         \n",
            "_________________________________________________________________\n",
            "dense_14 (Dense)             (None, 512)               401920    \n",
            "_________________________________________________________________\n",
            "dense_15 (Dense)             (None, 10)                5130      \n",
            "=================================================================\n",
            "Total params: 407,050\n",
            "Trainable params: 407,050\n",
            "Non-trainable params: 0\n",
            "_________________________________________________________________\n"
          ]
        }
      ]
    },
    {
      "cell_type": "markdown",
      "metadata": {
        "id": "5lNgsqEH_CdW"
      },
      "source": [
        "Según el summary, tenemos 1 capa neuronal Flatten y 2 capas neuronales de tipo dense donde cada neurona de la primera capa, siendo esta vez 512 está conectada a cada una de la segunda capa saliendo 10 respuestas que equivalen a cada tipo de prensa. El aumentar el número de neuronas hace aumentar también a grán escala el número de parametros"
      ]
    },
    {
      "cell_type": "code",
      "metadata": {
        "id": "DjR7vs_36-s7"
      },
      "source": [
        "network.compile(optimizer='rmsprop',\n",
        "                loss='sparse_categorical_crossentropy',\n",
        "                metrics=['accuracy'])"
      ],
      "execution_count": null,
      "outputs": []
    },
    {
      "cell_type": "code",
      "metadata": {
        "colab": {
          "base_uri": "https://localhost:8080/"
        },
        "id": "-hh9BEbU7DbL",
        "outputId": "05c93f95-ae3d-49a7-b375-f1f7648e773a"
      },
      "source": [
        "network.fit(train_images, train_labels, epochs=5, batch_size=128)"
      ],
      "execution_count": null,
      "outputs": [
        {
          "output_type": "stream",
          "name": "stdout",
          "text": [
            "Epoch 1/5\n",
            "WARNING:tensorflow:Model was constructed with shape (None, 28, 28) for input KerasTensor(type_spec=TensorSpec(shape=(None, 28, 28), dtype=tf.float32, name='flatten_7_input'), name='flatten_7_input', description=\"created by layer 'flatten_7_input'\"), but it was called on an input with incompatible shape (None, 784).\n",
            "WARNING:tensorflow:Model was constructed with shape (None, 28, 28) for input KerasTensor(type_spec=TensorSpec(shape=(None, 28, 28), dtype=tf.float32, name='flatten_7_input'), name='flatten_7_input', description=\"created by layer 'flatten_7_input'\"), but it was called on an input with incompatible shape (None, 784).\n",
            "469/469 [==============================] - 4s 8ms/step - loss: 0.5893 - accuracy: 0.7929\n",
            "Epoch 2/5\n",
            "469/469 [==============================] - 4s 8ms/step - loss: 0.4272 - accuracy: 0.8459\n",
            "Epoch 3/5\n",
            "469/469 [==============================] - 4s 8ms/step - loss: 0.3868 - accuracy: 0.8599\n",
            "Epoch 4/5\n",
            "469/469 [==============================] - 4s 8ms/step - loss: 0.3592 - accuracy: 0.8703\n",
            "Epoch 5/5\n",
            "469/469 [==============================] - 4s 8ms/step - loss: 0.3384 - accuracy: 0.8763\n"
          ]
        },
        {
          "output_type": "execute_result",
          "data": {
            "text/plain": [
              "<keras.callbacks.History at 0x7f9a18d84750>"
            ]
          },
          "metadata": {},
          "execution_count": 56
        }
      ]
    },
    {
      "cell_type": "code",
      "metadata": {
        "colab": {
          "base_uri": "https://localhost:8080/"
        },
        "id": "6HBaU_nG7JWQ",
        "outputId": "9be08a0c-1ac5-4988-8a7a-1c05df24bf6a"
      },
      "source": [
        "test_loss, test_acc = network.evaluate(test_images, test_labels)"
      ],
      "execution_count": null,
      "outputs": [
        {
          "output_type": "stream",
          "name": "stdout",
          "text": [
            "WARNING:tensorflow:Model was constructed with shape (None, 28, 28) for input KerasTensor(type_spec=TensorSpec(shape=(None, 28, 28), dtype=tf.float32, name='flatten_7_input'), name='flatten_7_input', description=\"created by layer 'flatten_7_input'\"), but it was called on an input with incompatible shape (None, 784).\n",
            "313/313 [==============================] - 1s 2ms/step - loss: 0.3811 - accuracy: 0.8645\n"
          ]
        }
      ]
    },
    {
      "cell_type": "code",
      "metadata": {
        "colab": {
          "base_uri": "https://localhost:8080/",
          "height": 349
        },
        "id": "QhhBusgW7OCA",
        "outputId": "0fcc7405-b0e9-4bf4-f4da-c742032905e3"
      },
      "source": [
        "test_labelsp = to_categorical(test_labels)\n",
        "# Look at confusion matrix \n",
        "# Note, this code is taken straight from the SKLEARN website, an nice way of \n",
        "# viewing confusion matrix.\n",
        "def plot_confusion_matrix(cm, classes,\n",
        "                          normalize=False,\n",
        "                          title='Confusion matrix',\n",
        "                          cmap=plt.cm.Blues):\n",
        "    \"\"\"\n",
        "    This function prints and plots the confusion matrix.\n",
        "    Normalization can be applied by setting `normalize=True`.\n",
        "    \"\"\"\n",
        "    plt.imshow(cm, interpolation='nearest', cmap=cmap)\n",
        "    plt.title(title)\n",
        "    plt.colorbar()\n",
        "    tick_marks = np.arange(len(classes))\n",
        "    plt.xticks(tick_marks, classes, rotation=45)\n",
        "    plt.yticks(tick_marks, classes)\n",
        "\n",
        "    if normalize:\n",
        "        cm = cm.astype('float') / cm.sum(axis=1)[:, np.newaxis]\n",
        "\n",
        "    thresh = cm.max() / 2.\n",
        "    for i, j in itertools.product(range(cm.shape[0]), range(cm.shape[1])):\n",
        "        plt.text(j, i, cm[i, j],\n",
        "                 horizontalalignment=\"center\",\n",
        "                 color=\"white\" if cm[i, j] > thresh else \"black\")\n",
        "\n",
        "    plt.tight_layout()\n",
        "    plt.ylabel('Observación')\n",
        "    plt.xlabel('Predicción')\n",
        "\n",
        "\n",
        "    # Predict the values from the validation dataset\n",
        "Y_pred = network.predict(test_images)\n",
        "# Convert predictions classes to one hot vectors \n",
        "Y_pred_classes = np.argmax(Y_pred, axis = 1) \n",
        "# Convert validation observations to one hot vectors\n",
        "Y_true = np.argmax(test_labelsp, axis = 1) \n",
        "# compute the confusion matrix\n",
        "confusion_mtx = confusion_matrix(Y_true, Y_pred_classes) \n",
        "# plot the confusion matrix\n",
        "plot_confusion_matrix(confusion_mtx, classes = range(10))"
      ],
      "execution_count": null,
      "outputs": [
        {
          "output_type": "stream",
          "name": "stdout",
          "text": [
            "WARNING:tensorflow:Model was constructed with shape (None, 28, 28) for input KerasTensor(type_spec=TensorSpec(shape=(None, 28, 28), dtype=tf.float32, name='flatten_7_input'), name='flatten_7_input', description=\"created by layer 'flatten_7_input'\"), but it was called on an input with incompatible shape (None, 784).\n"
          ]
        },
        {
          "output_type": "display_data",
          "data": {
            "image/png": "[encoded data removed]",
            "text/plain": [
              "<Figure size 432x288 with 2 Axes>"
            ]
          },
          "metadata": {
            "needs_background": "light"
          }
        }
      ]
    },
    {
      "cell_type": "markdown",
      "metadata": {
        "id": "bJ4K7DSy7YRi"
      },
      "source": [
        "Tras los 8 diferentes casos, los mas optimos son el caso 8 y el caso 6, al obtener un porcentaje más alto de aciertos."
      ]
    },
    {
      "cell_type": "code",
      "metadata": {
        "colab": {
          "base_uri": "https://localhost:8080/",
          "height": 265
        },
        "id": "_PiXUkO7GI_X",
        "outputId": "cf04e93c-c5ed-47d7-bbbf-d720bfac6b51"
      },
      "source": [
        "fashion_mnist = tf.keras.datasets.fashion_mnist\n",
        "(predtrain_images, predtrain_labels), (predtest_images, predtest_labels) = fashion_mnist.load_data()\n",
        "imagen6 = predtest_images[5]\n",
        "predtrain_images = predtrain_images.reshape((60000, 28 * 28))\n",
        "predtest_images = predtest_images.reshape((10000, 28 * 28))\n",
        "\n",
        "predtrain_images = predtrain_images.astype('float32') / 255\n",
        "predtest_images = predtest_images.astype('float32') / 255\n",
        "\n",
        "from keras.utils.np_utils import to_categorical\n",
        "\n",
        "\n",
        "predtest_labels = to_categorical(predtest_labels)\n",
        "\n",
        "\n",
        "predictions = network.predict(predtest_images)\n",
        "\n",
        "np.sum(predictions[5])\n",
        "\n",
        "plt.imshow(imagen6, cmap=plt.cm.binary)\n",
        "plt.show()\n",
        "\n",
        "predictions = network.predict(test_images)\n",
        "\n",
        "def plot_image(i, predictions_array, true_label, img):\n",
        "  predictions_array, true_label, img = predictions_array, true_label[i], img[i]\n",
        "  plt.grid(False)\n",
        "  plt.xticks([])\n",
        "  plt.yticks([])\n",
        "\n",
        "  plt.imshow(img, cmap=plt.cm.binary)    \n",
        "\n",
        "  predicted_label = np.argmax(predictions_array)\n",
        "  if predicted_label.all() == true_label.all():\n",
        "    color = 'blue'\n",
        "  else:\n",
        "    color = 'red'\n",
        "\n",
        "  plt.xlabel(\"{} {:2.0f}% ({})\".format(predicted_label,\n",
        "                                100*np.max(predictions_array),\n",
        "                                true_label),\n",
        "                                color=color)\n",
        " \n",
        "\n",
        "def plot_value_array(i, predictions_array, true_label):\n",
        "  predictions_array, true_label = predictions_array, true_label[i]\n",
        "  plt.grid(False)\n",
        "  plt.xticks(range(10))\n",
        "  plt.yticks([])\n",
        "  thisplot = plt.bar(range(10), predictions_array, color=\"#00FF00\")\n",
        "  plt.ylim([0, 1])\n",
        "  predicted_label = np.argmax(predictions_array)\n",
        "\n",
        "  thisplot[predicted_label].set_color('red')\n",
        "  thisplot[true_label].set_color('black')"
      ],
      "execution_count": null,
      "outputs": [
        {
          "output_type": "display_data",
          "data": {
            "image/png": "[encoded data removed]",
            "text/plain": [
              "<Figure size 432x288 with 1 Axes>"
            ]
          },
          "metadata": {
            "needs_background": "light"
          }
        }
      ]
    },
    {
      "cell_type": "code",
      "metadata": {
        "colab": {
          "base_uri": "https://localhost:8080/",
          "height": 211
        },
        "id": "bCNLvyIN91pv",
        "outputId": "9bb226d6-954c-404b-9acb-48876c0e105b"
      },
      "source": [
        "i = 5\n",
        "plt.figure(figsize=(6,3))\n",
        "plt.subplot(1,2,1)\n",
        "plot_image(i, predictions[i], test_labels, test_images.reshape(10000,28,28))\n",
        "plt.subplot(1,2,2)\n",
        "\n",
        "plot_value_array(i, predictions[i], test_labels)\n",
        "plt.show()"
      ],
      "execution_count": null,
      "outputs": [
        {
          "output_type": "display_data",
          "data": {
            "image/png": "[encoded data removed]",
            "text/plain": [
              "<Figure size 432x216 with 2 Axes>"
            ]
          },
          "metadata": {
            "needs_background": "light"
          }
        }
      ]
    },
    {
      "cell_type": "markdown",
      "metadata": {
        "id": "P8Sv0Evn_GnB"
      },
      "source": [
        "#Caso 2 y 7 con 25 epochs"
      ]
    },
    {
      "cell_type": "code",
      "metadata": {
        "colab": {
          "base_uri": "https://localhost:8080/"
        },
        "id": "LFZ-R2qi_RRx",
        "outputId": "4bcb624f-d0c3-4ca2-d612-707022b50ce2"
      },
      "source": [
        "network= keras.Sequential([\n",
        "                           keras.layers.Flatten(input_shape=(28,28)),\n",
        "                           keras.layers.Dense(512, activation='sigmoid'),\n",
        "                           keras.layers.Dense(10,activation='softmax')\n",
        "],name='Zalando7.2')\n",
        "network.summary()"
      ],
      "execution_count": null,
      "outputs": [
        {
          "output_type": "stream",
          "name": "stdout",
          "text": [
            "Model: \"Zalando7.2\"\n",
            "_________________________________________________________________\n",
            "Layer (type)                 Output Shape              Param #   \n",
            "=================================================================\n",
            "flatten_8 (Flatten)          (None, 784)               0         \n",
            "_________________________________________________________________\n",
            "dense_16 (Dense)             (None, 512)               401920    \n",
            "_________________________________________________________________\n",
            "dense_17 (Dense)             (None, 10)                5130      \n",
            "=================================================================\n",
            "Total params: 407,050\n",
            "Trainable params: 407,050\n",
            "Non-trainable params: 0\n",
            "_________________________________________________________________\n"
          ]
        }
      ]
    },
    {
      "cell_type": "code",
      "metadata": {
        "id": "gPIyZYxA_YJh"
      },
      "source": [
        "network.compile(optimizer='sgd',\n",
        "                loss='sparse_categorical_crossentropy',\n",
        "                metrics=['accuracy'])"
      ],
      "execution_count": null,
      "outputs": []
    },
    {
      "cell_type": "code",
      "metadata": {
        "colab": {
          "base_uri": "https://localhost:8080/"
        },
        "id": "UssUcjSt_cTI",
        "outputId": "505e6c62-369e-448d-bec6-dfb0f2aa1aaa"
      },
      "source": [
        "network.fit(train_images, train_labels, epochs=25, batch_size=128)"
      ],
      "execution_count": null,
      "outputs": [
        {
          "output_type": "stream",
          "name": "stdout",
          "text": [
            "Epoch 1/25\n",
            "WARNING:tensorflow:Model was constructed with shape (None, 28, 28) for input KerasTensor(type_spec=TensorSpec(shape=(None, 28, 28), dtype=tf.float32, name='flatten_8_input'), name='flatten_8_input', description=\"created by layer 'flatten_8_input'\"), but it was called on an input with incompatible shape (None, 784).\n",
            "WARNING:tensorflow:Model was constructed with shape (None, 28, 28) for input KerasTensor(type_spec=TensorSpec(shape=(None, 28, 28), dtype=tf.float32, name='flatten_8_input'), name='flatten_8_input', description=\"created by layer 'flatten_8_input'\"), but it was called on an input with incompatible shape (None, 784).\n",
            "469/469 [==============================] - 3s 6ms/step - loss: 1.7129 - accuracy: 0.5696\n",
            "Epoch 2/25\n",
            "469/469 [==============================] - 3s 6ms/step - loss: 1.1323 - accuracy: 0.7116\n",
            "Epoch 3/25\n",
            "469/469 [==============================] - 3s 6ms/step - loss: 0.9255 - accuracy: 0.7305\n",
            "Epoch 4/25\n",
            "469/469 [==============================] - 3s 6ms/step - loss: 0.8235 - accuracy: 0.7425\n",
            "Epoch 5/25\n",
            "469/469 [==============================] - 3s 6ms/step - loss: 0.7619 - accuracy: 0.7528\n",
            "Epoch 6/25\n",
            "469/469 [==============================] - 3s 6ms/step - loss: 0.7198 - accuracy: 0.7594\n",
            "Epoch 7/25\n",
            "469/469 [==============================] - 3s 6ms/step - loss: 0.6888 - accuracy: 0.7662\n",
            "Epoch 8/25\n",
            "469/469 [==============================] - 3s 6ms/step - loss: 0.6643 - accuracy: 0.7728\n",
            "Epoch 9/25\n",
            "469/469 [==============================] - 3s 6ms/step - loss: 0.6443 - accuracy: 0.7784\n",
            "Epoch 10/25\n",
            "469/469 [==============================] - 3s 6ms/step - loss: 0.6270 - accuracy: 0.7835\n",
            "Epoch 11/25\n",
            "469/469 [==============================] - 3s 6ms/step - loss: 0.6125 - accuracy: 0.7889\n",
            "Epoch 12/25\n",
            "469/469 [==============================] - 3s 6ms/step - loss: 0.5996 - accuracy: 0.7926\n",
            "Epoch 13/25\n",
            "469/469 [==============================] - 3s 6ms/step - loss: 0.5882 - accuracy: 0.7964\n",
            "Epoch 14/25\n",
            "469/469 [==============================] - 3s 6ms/step - loss: 0.5780 - accuracy: 0.8004\n",
            "Epoch 15/25\n",
            "469/469 [==============================] - 3s 6ms/step - loss: 0.5687 - accuracy: 0.8036\n",
            "Epoch 16/25\n",
            "469/469 [==============================] - 3s 6ms/step - loss: 0.5605 - accuracy: 0.8071\n",
            "Epoch 17/25\n",
            "469/469 [==============================] - 3s 6ms/step - loss: 0.5529 - accuracy: 0.8089\n",
            "Epoch 18/25\n",
            "469/469 [==============================] - 3s 6ms/step - loss: 0.5461 - accuracy: 0.8119\n",
            "Epoch 19/25\n",
            "469/469 [==============================] - 3s 6ms/step - loss: 0.5397 - accuracy: 0.8136\n",
            "Epoch 20/25\n",
            "469/469 [==============================] - 3s 6ms/step - loss: 0.5338 - accuracy: 0.8163\n",
            "Epoch 21/25\n",
            "469/469 [==============================] - 3s 6ms/step - loss: 0.5284 - accuracy: 0.8171\n",
            "Epoch 22/25\n",
            "469/469 [==============================] - 3s 6ms/step - loss: 0.5236 - accuracy: 0.8195\n",
            "Epoch 23/25\n",
            "469/469 [==============================] - 3s 6ms/step - loss: 0.5190 - accuracy: 0.8203\n",
            "Epoch 24/25\n",
            "469/469 [==============================] - 3s 6ms/step - loss: 0.5146 - accuracy: 0.8222\n",
            "Epoch 25/25\n",
            "469/469 [==============================] - 3s 6ms/step - loss: 0.5106 - accuracy: 0.8237\n"
          ]
        },
        {
          "output_type": "execute_result",
          "data": {
            "text/plain": [
              "<keras.callbacks.History at 0x7f9a2adb0410>"
            ]
          },
          "metadata": {},
          "execution_count": 63
        }
      ]
    },
    {
      "cell_type": "code",
      "metadata": {
        "colab": {
          "base_uri": "https://localhost:8080/"
        },
        "id": "v5lTJZ7E_eSp",
        "outputId": "8602571a-22cf-4f18-de65-2e32eab7c1fc"
      },
      "source": [
        "test_loss, test_acc = network.evaluate(test_images, test_labels)"
      ],
      "execution_count": null,
      "outputs": [
        {
          "output_type": "stream",
          "name": "stdout",
          "text": [
            "WARNING:tensorflow:Model was constructed with shape (None, 28, 28) for input KerasTensor(type_spec=TensorSpec(shape=(None, 28, 28), dtype=tf.float32, name='flatten_8_input'), name='flatten_8_input', description=\"created by layer 'flatten_8_input'\"), but it was called on an input with incompatible shape (None, 784).\n",
            "313/313 [==============================] - 1s 2ms/step - loss: 0.5326 - accuracy: 0.8107\n"
          ]
        }
      ]
    },
    {
      "cell_type": "code",
      "metadata": {
        "colab": {
          "base_uri": "https://localhost:8080/",
          "height": 349
        },
        "id": "Hlt6ZaED_lb7",
        "outputId": "c95d4f23-c9f7-4b00-fde8-22971ac30fa7"
      },
      "source": [
        "test_labelsp = to_categorical(test_labels)\n",
        "# Look at confusion matrix \n",
        "# Note, this code is taken straight from the SKLEARN website, an nice way of \n",
        "# viewing confusion matrix.\n",
        "def plot_confusion_matrix(cm, classes,\n",
        "                          normalize=False,\n",
        "                          title='Confusion matrix',\n",
        "                          cmap=plt.cm.Blues):\n",
        "    \"\"\"\n",
        "    This function prints and plots the confusion matrix.\n",
        "    Normalization can be applied by setting `normalize=True`.\n",
        "    \"\"\"\n",
        "    plt.imshow(cm, interpolation='nearest', cmap=cmap)\n",
        "    plt.title(title)\n",
        "    plt.colorbar()\n",
        "    tick_marks = np.arange(len(classes))\n",
        "    plt.xticks(tick_marks, classes, rotation=45)\n",
        "    plt.yticks(tick_marks, classes)\n",
        "\n",
        "    if normalize:\n",
        "        cm = cm.astype('float') / cm.sum(axis=1)[:, np.newaxis]\n",
        "\n",
        "    thresh = cm.max() / 2.\n",
        "    for i, j in itertools.product(range(cm.shape[0]), range(cm.shape[1])):\n",
        "        plt.text(j, i, cm[i, j],\n",
        "                 horizontalalignment=\"center\",\n",
        "                 color=\"white\" if cm[i, j] > thresh else \"black\")\n",
        "\n",
        "    plt.tight_layout()\n",
        "    plt.ylabel('Observación')\n",
        "    plt.xlabel('Predicción')\n",
        "\n",
        "\n",
        "    # Predict the values from the validation dataset\n",
        "Y_pred = network.predict(test_images)\n",
        "# Convert predictions classes to one hot vectors \n",
        "Y_pred_classes = np.argmax(Y_pred, axis = 1) \n",
        "# Convert validation observations to one hot vectors\n",
        "Y_true = np.argmax(test_labelsp, axis = 1) \n",
        "# compute the confusion matrix\n",
        "confusion_mtx = confusion_matrix(Y_true, Y_pred_classes) \n",
        "# plot the confusion matrix\n",
        "plot_confusion_matrix(confusion_mtx, classes = range(10))"
      ],
      "execution_count": null,
      "outputs": [
        {
          "output_type": "stream",
          "name": "stdout",
          "text": [
            "WARNING:tensorflow:Model was constructed with shape (None, 28, 28) for input KerasTensor(type_spec=TensorSpec(shape=(None, 28, 28), dtype=tf.float32, name='flatten_8_input'), name='flatten_8_input', description=\"created by layer 'flatten_8_input'\"), but it was called on an input with incompatible shape (None, 784).\n"
          ]
        },
        {
          "output_type": "display_data",
          "data": {
            "image/png": "[encoded data removed]",
            "text/plain": [
              "<Figure size 432x288 with 2 Axes>"
            ]
          },
          "metadata": {
            "needs_background": "light"
          }
        }
      ]
    },
    {
      "cell_type": "markdown",
      "metadata": {
        "id": "XMZIjvB-_82-"
      },
      "source": [
        "Al aumentar las epochs, el porcentaje de acierto sube en casi un 10% en el caso 7"
      ]
    },
    {
      "cell_type": "code",
      "metadata": {
        "colab": {
          "base_uri": "https://localhost:8080/"
        },
        "id": "Up00Oh0B_uEW",
        "outputId": "d8623530-3277-467a-bc23-24aaa9611859"
      },
      "source": [
        "network= keras.Sequential([\n",
        "                           keras.layers.Flatten(input_shape=(28,28)),\n",
        "                           keras.layers.Dense(10, activation='relu'),\n",
        "                           keras.layers.Dense(10,activation='softmax')\n",
        "],name='Zalando2.2')\n",
        "network.summary()"
      ],
      "execution_count": null,
      "outputs": [
        {
          "output_type": "stream",
          "name": "stdout",
          "text": [
            "Model: \"Zalando2.2\"\n",
            "_________________________________________________________________\n",
            "Layer (type)                 Output Shape              Param #   \n",
            "=================================================================\n",
            "flatten_9 (Flatten)          (None, 784)               0         \n",
            "_________________________________________________________________\n",
            "dense_18 (Dense)             (None, 10)                7850      \n",
            "_________________________________________________________________\n",
            "dense_19 (Dense)             (None, 10)                110       \n",
            "=================================================================\n",
            "Total params: 7,960\n",
            "Trainable params: 7,960\n",
            "Non-trainable params: 0\n",
            "_________________________________________________________________\n"
          ]
        }
      ]
    },
    {
      "cell_type": "code",
      "metadata": {
        "id": "6kPTVDE0_zej"
      },
      "source": [
        "network.compile(optimizer='rmsprop',\n",
        "                loss='sparse_categorical_crossentropy',\n",
        "                metrics=['accuracy'])"
      ],
      "execution_count": null,
      "outputs": []
    },
    {
      "cell_type": "code",
      "metadata": {
        "colab": {
          "base_uri": "https://localhost:8080/"
        },
        "id": "UjZWcev_ALfh",
        "outputId": "dea3b78c-7b7c-4242-c7ff-a87dd05c05d7"
      },
      "source": [
        "network.fit(train_images, train_labels, epochs=25, batch_size=128)"
      ],
      "execution_count": null,
      "outputs": [
        {
          "output_type": "stream",
          "name": "stdout",
          "text": [
            "Epoch 1/25\n",
            "WARNING:tensorflow:Model was constructed with shape (None, 28, 28) for input KerasTensor(type_spec=TensorSpec(shape=(None, 28, 28), dtype=tf.float32, name='flatten_9_input'), name='flatten_9_input', description=\"created by layer 'flatten_9_input'\"), but it was called on an input with incompatible shape (None, 784).\n",
            "WARNING:tensorflow:Model was constructed with shape (None, 28, 28) for input KerasTensor(type_spec=TensorSpec(shape=(None, 28, 28), dtype=tf.float32, name='flatten_9_input'), name='flatten_9_input', description=\"created by layer 'flatten_9_input'\"), but it was called on an input with incompatible shape (None, 784).\n",
            "469/469 [==============================] - 1s 2ms/step - loss: 0.8973 - accuracy: 0.6957\n",
            "Epoch 2/25\n",
            "469/469 [==============================] - 1s 2ms/step - loss: 0.5566 - accuracy: 0.8100\n",
            "Epoch 3/25\n",
            "469/469 [==============================] - 1s 2ms/step - loss: 0.5024 - accuracy: 0.8276\n",
            "Epoch 4/25\n",
            "469/469 [==============================] - 1s 2ms/step - loss: 0.4761 - accuracy: 0.8359\n",
            "Epoch 5/25\n",
            "469/469 [==============================] - 1s 2ms/step - loss: 0.4592 - accuracy: 0.8416\n",
            "Epoch 6/25\n",
            "469/469 [==============================] - 1s 2ms/step - loss: 0.4481 - accuracy: 0.8449\n",
            "Epoch 7/25\n",
            "469/469 [==============================] - 1s 2ms/step - loss: 0.4380 - accuracy: 0.8489\n",
            "Epoch 8/25\n",
            "469/469 [==============================] - 1s 2ms/step - loss: 0.4302 - accuracy: 0.8513\n",
            "Epoch 9/25\n",
            "469/469 [==============================] - 1s 2ms/step - loss: 0.4243 - accuracy: 0.8529\n",
            "Epoch 10/25\n",
            "469/469 [==============================] - 1s 2ms/step - loss: 0.4191 - accuracy: 0.8546\n",
            "Epoch 11/25\n",
            "469/469 [==============================] - 1s 2ms/step - loss: 0.4142 - accuracy: 0.8568\n",
            "Epoch 12/25\n",
            "469/469 [==============================] - 1s 2ms/step - loss: 0.4110 - accuracy: 0.8572\n",
            "Epoch 13/25\n",
            "469/469 [==============================] - 1s 2ms/step - loss: 0.4070 - accuracy: 0.8603\n",
            "Epoch 14/25\n",
            "469/469 [==============================] - 1s 2ms/step - loss: 0.4045 - accuracy: 0.8599\n",
            "Epoch 15/25\n",
            "469/469 [==============================] - 1s 2ms/step - loss: 0.4019 - accuracy: 0.8607\n",
            "Epoch 16/25\n",
            "469/469 [==============================] - 1s 2ms/step - loss: 0.3985 - accuracy: 0.8613\n",
            "Epoch 17/25\n",
            "469/469 [==============================] - 1s 2ms/step - loss: 0.3962 - accuracy: 0.8626\n",
            "Epoch 18/25\n",
            "469/469 [==============================] - 1s 2ms/step - loss: 0.3934 - accuracy: 0.8632\n",
            "Epoch 19/25\n",
            "469/469 [==============================] - 1s 2ms/step - loss: 0.3922 - accuracy: 0.8636\n",
            "Epoch 20/25\n",
            "469/469 [==============================] - 1s 2ms/step - loss: 0.3897 - accuracy: 0.8653\n",
            "Epoch 21/25\n",
            "469/469 [==============================] - 1s 2ms/step - loss: 0.3879 - accuracy: 0.8649\n",
            "Epoch 22/25\n",
            "469/469 [==============================] - 1s 2ms/step - loss: 0.3869 - accuracy: 0.8651\n",
            "Epoch 23/25\n",
            "469/469 [==============================] - 1s 2ms/step - loss: 0.3858 - accuracy: 0.8645\n",
            "Epoch 24/25\n",
            "469/469 [==============================] - 1s 2ms/step - loss: 0.3833 - accuracy: 0.8654\n",
            "Epoch 25/25\n",
            "469/469 [==============================] - 1s 2ms/step - loss: 0.3826 - accuracy: 0.8666\n"
          ]
        },
        {
          "output_type": "execute_result",
          "data": {
            "text/plain": [
              "<keras.callbacks.History at 0x7f9a1c12c610>"
            ]
          },
          "metadata": {},
          "execution_count": 68
        }
      ]
    },
    {
      "cell_type": "code",
      "metadata": {
        "colab": {
          "base_uri": "https://localhost:8080/"
        },
        "id": "y8hOB8bPAMsD",
        "outputId": "aabcf4fd-6484-4efa-e25e-aeaa7a8ec693"
      },
      "source": [
        "test_loss, test_acc = network.evaluate(test_images, test_labels)"
      ],
      "execution_count": null,
      "outputs": [
        {
          "output_type": "stream",
          "name": "stdout",
          "text": [
            "WARNING:tensorflow:Model was constructed with shape (None, 28, 28) for input KerasTensor(type_spec=TensorSpec(shape=(None, 28, 28), dtype=tf.float32, name='flatten_9_input'), name='flatten_9_input', description=\"created by layer 'flatten_9_input'\"), but it was called on an input with incompatible shape (None, 784).\n",
            "313/313 [==============================] - 0s 1ms/step - loss: 0.4592 - accuracy: 0.8398\n"
          ]
        }
      ]
    },
    {
      "cell_type": "code",
      "metadata": {
        "colab": {
          "base_uri": "https://localhost:8080/",
          "height": 349
        },
        "id": "z5X4ZWTgAQEy",
        "outputId": "093b585e-025b-4025-9c68-24ea3d633e02"
      },
      "source": [
        "test_labelsp = to_categorical(test_labels)\n",
        "# Look at confusion matrix \n",
        "# Note, this code is taken straight from the SKLEARN website, an nice way of \n",
        "# viewing confusion matrix.\n",
        "def plot_confusion_matrix(cm, classes,\n",
        "                          normalize=False,\n",
        "                          title='Confusion matrix',\n",
        "                          cmap=plt.cm.Blues):\n",
        "    \"\"\"\n",
        "    This function prints and plots the confusion matrix.\n",
        "    Normalization can be applied by setting `normalize=True`.\n",
        "    \"\"\"\n",
        "    plt.imshow(cm, interpolation='nearest', cmap=cmap)\n",
        "    plt.title(title)\n",
        "    plt.colorbar()\n",
        "    tick_marks = np.arange(len(classes))\n",
        "    plt.xticks(tick_marks, classes, rotation=45)\n",
        "    plt.yticks(tick_marks, classes)\n",
        "\n",
        "    if normalize:\n",
        "        cm = cm.astype('float') / cm.sum(axis=1)[:, np.newaxis]\n",
        "\n",
        "    thresh = cm.max() / 2.\n",
        "    for i, j in itertools.product(range(cm.shape[0]), range(cm.shape[1])):\n",
        "        plt.text(j, i, cm[i, j],\n",
        "                 horizontalalignment=\"center\",\n",
        "                 color=\"white\" if cm[i, j] > thresh else \"black\")\n",
        "\n",
        "    plt.tight_layout()\n",
        "    plt.ylabel('Observación')\n",
        "    plt.xlabel('Predicción')\n",
        "\n",
        "\n",
        "    # Predict the values from the validation dataset\n",
        "Y_pred = network.predict(test_images)\n",
        "# Convert predictions classes to one hot vectors \n",
        "Y_pred_classes = np.argmax(Y_pred, axis = 1) \n",
        "# Convert validation observations to one hot vectors\n",
        "Y_true = np.argmax(test_labelsp, axis = 1) \n",
        "# compute the confusion matrix\n",
        "confusion_mtx = confusion_matrix(Y_true, Y_pred_classes) \n",
        "# plot the confusion matrix\n",
        "plot_confusion_matrix(confusion_mtx, classes = range(10))"
      ],
      "execution_count": null,
      "outputs": [
        {
          "output_type": "stream",
          "name": "stdout",
          "text": [
            "WARNING:tensorflow:Model was constructed with shape (None, 28, 28) for input KerasTensor(type_spec=TensorSpec(shape=(None, 28, 28), dtype=tf.float32, name='flatten_9_input'), name='flatten_9_input', description=\"created by layer 'flatten_9_input'\"), but it was called on an input with incompatible shape (None, 784).\n"
          ]
        },
        {
          "output_type": "display_data",
          "data": {
            "image/png": "[encoded data removed]",
            "text/plain": [
              "<Figure size 432x288 with 2 Axes>"
            ]
          },
          "metadata": {
            "needs_background": "light"
          }
        }
      ]
    },
    {
      "cell_type": "markdown",
      "metadata": {
        "id": "QrxeGu-cBeN9"
      },
      "source": [
        "En cambio el caso 2 con 25 epochs se mantiene muy parecido y casi no mejora el porcentaje de acierto."
      ]
    },
    {
      "cell_type": "markdown",
      "metadata": {
        "id": "jWwpyjpF7qJG"
      },
      "source": [
        "#Predicción"
      ]
    },
    {
      "cell_type": "markdown",
      "metadata": {
        "id": "7o05PPC0H4LK"
      },
      "source": [
        "Al aplicar la sexta imagen a los 8 casos, obtenemos que todos aciertan la prenda, con números bastante altos de probabilidad, menos el caso 3, que solo le da a la imagen un 33%, siendo aun así la más alta."
      ]
    },
    {
      "cell_type": "markdown",
      "metadata": {
        "id": "ziXQNqkYIa5V"
      },
      "source": [
        "#Caso 3 mejorado"
      ]
    },
    {
      "cell_type": "code",
      "metadata": {
        "colab": {
          "base_uri": "https://localhost:8080/"
        },
        "id": "bLOjZX5GIc2Q",
        "outputId": "1294b1cd-6cd8-48cb-cd1b-baad887cbcfd"
      },
      "source": [
        "network= keras.Sequential([\n",
        "                           keras.layers.Flatten(input_shape=(28,28)),\n",
        "                           keras.layers.Dense(10, activation='sigmoid'),\n",
        "                           keras.layers.Dense(10,activation='softmax')\n",
        "],name='Zalando3')\n",
        "network.summary()\n",
        "\n",
        "\n"
      ],
      "execution_count": null,
      "outputs": [
        {
          "output_type": "stream",
          "name": "stdout",
          "text": [
            "Model: \"Zalando3\"\n",
            "_________________________________________________________________\n",
            "Layer (type)                 Output Shape              Param #   \n",
            "=================================================================\n",
            "flatten_12 (Flatten)         (None, 784)               0         \n",
            "_________________________________________________________________\n",
            "dense_24 (Dense)             (None, 10)                7850      \n",
            "_________________________________________________________________\n",
            "dense_25 (Dense)             (None, 10)                110       \n",
            "=================================================================\n",
            "Total params: 7,960\n",
            "Trainable params: 7,960\n",
            "Non-trainable params: 0\n",
            "_________________________________________________________________\n"
          ]
        }
      ]
    },
    {
      "cell_type": "code",
      "metadata": {
        "id": "urEu_3nnJDvI"
      },
      "source": [
        "network.compile(optimizer='adam',\n",
        "                loss='sparse_categorical_crossentropy',\n",
        "                metrics=['accuracy'])"
      ],
      "execution_count": null,
      "outputs": []
    },
    {
      "cell_type": "code",
      "metadata": {
        "colab": {
          "base_uri": "https://localhost:8080/"
        },
        "id": "JIlWhGarJHYb",
        "outputId": "1a1d3174-000c-43ef-c232-ea4cc334f2ba"
      },
      "source": [
        "network.fit(train_images, train_labels, epochs=5, batch_size=128)\n"
      ],
      "execution_count": null,
      "outputs": [
        {
          "output_type": "stream",
          "name": "stdout",
          "text": [
            "Epoch 1/5\n",
            "WARNING:tensorflow:Model was constructed with shape (None, 28, 28) for input KerasTensor(type_spec=TensorSpec(shape=(None, 28, 28), dtype=tf.float32, name='flatten_12_input'), name='flatten_12_input', description=\"created by layer 'flatten_12_input'\"), but it was called on an input with incompatible shape (None, 784).\n",
            "WARNING:tensorflow:Model was constructed with shape (None, 28, 28) for input KerasTensor(type_spec=TensorSpec(shape=(None, 28, 28), dtype=tf.float32, name='flatten_12_input'), name='flatten_12_input', description=\"created by layer 'flatten_12_input'\"), but it was called on an input with incompatible shape (None, 784).\n",
            "469/469 [==============================] - 1s 2ms/step - loss: 1.4178 - accuracy: 0.6223\n",
            "Epoch 2/5\n",
            "469/469 [==============================] - 1s 2ms/step - loss: 0.8600 - accuracy: 0.7713\n",
            "Epoch 3/5\n",
            "469/469 [==============================] - 1s 2ms/step - loss: 0.6642 - accuracy: 0.8123\n",
            "Epoch 4/5\n",
            "469/469 [==============================] - 1s 2ms/step - loss: 0.5691 - accuracy: 0.8274\n",
            "Epoch 5/5\n",
            "469/469 [==============================] - 1s 2ms/step - loss: 0.5166 - accuracy: 0.8360\n"
          ]
        },
        {
          "output_type": "execute_result",
          "data": {
            "text/plain": [
              "<keras.callbacks.History at 0x7f9a1c287410>"
            ]
          },
          "metadata": {},
          "execution_count": 83
        }
      ]
    },
    {
      "cell_type": "code",
      "metadata": {
        "colab": {
          "base_uri": "https://localhost:8080/"
        },
        "id": "fPwyV-3MJMJk",
        "outputId": "e96e384a-553b-46d4-b6b2-56bed43e640a"
      },
      "source": [
        "test_loss, test_acc = network.evaluate(test_images, test_labels)\n",
        "test_labelsp = to_categorical(test_labels)"
      ],
      "execution_count": null,
      "outputs": [
        {
          "output_type": "stream",
          "name": "stdout",
          "text": [
            "WARNING:tensorflow:Model was constructed with shape (None, 28, 28) for input KerasTensor(type_spec=TensorSpec(shape=(None, 28, 28), dtype=tf.float32, name='flatten_12_input'), name='flatten_12_input', description=\"created by layer 'flatten_12_input'\"), but it was called on an input with incompatible shape (None, 784).\n",
            "313/313 [==============================] - 0s 1ms/step - loss: 0.5218 - accuracy: 0.8284\n"
          ]
        }
      ]
    },
    {
      "cell_type": "code",
      "metadata": {
        "colab": {
          "base_uri": "https://localhost:8080/",
          "height": 349
        },
        "id": "EU3MePEoJS9I",
        "outputId": "1c10a286-ef62-46e9-9174-70d09e76ee96"
      },
      "source": [
        "# Look at confusion matrix \n",
        "# Note, this code is taken straight from the SKLEARN website, an nice way of \n",
        "# viewing confusion matrix.\n",
        "def plot_confusion_matrix(cm, classes,\n",
        "                          normalize=False,\n",
        "                          title='Confusion matrix',\n",
        "                          cmap=plt.cm.Blues):\n",
        "    \"\"\"\n",
        "    This function prints and plots the confusion matrix.\n",
        "    Normalization can be applied by setting `normalize=True`.\n",
        "    \"\"\"\n",
        "    plt.imshow(cm, interpolation='nearest', cmap=cmap)\n",
        "    plt.title(title)\n",
        "    plt.colorbar()\n",
        "    tick_marks = np.arange(len(classes))\n",
        "    plt.xticks(tick_marks, classes, rotation=45)\n",
        "    plt.yticks(tick_marks, classes)\n",
        "\n",
        "    if normalize:\n",
        "        cm = cm.astype('float') / cm.sum(axis=1)[:, np.newaxis]\n",
        "\n",
        "    thresh = cm.max() / 2.\n",
        "    for i, j in itertools.product(range(cm.shape[0]), range(cm.shape[1])):\n",
        "        plt.text(j, i, cm[i, j],\n",
        "                 horizontalalignment=\"center\",\n",
        "                 color=\"white\" if cm[i, j] > thresh else \"black\")\n",
        "\n",
        "    plt.tight_layout()\n",
        "    plt.ylabel('Observación')\n",
        "    plt.xlabel('Predicción')\n",
        "\n",
        "\n",
        "    # Predict the values from the validation dataset\n",
        "Y_pred = network.predict(test_images)\n",
        "# Convert predictions classes to one hot vectors \n",
        "Y_pred_classes = np.argmax(Y_pred, axis = 1) \n",
        "# Convert validation observations to one hot vectors\n",
        "Y_true = np.argmax(test_labelsp, axis = 1) \n",
        "# compute the confusion matrix\n",
        "confusion_mtx = confusion_matrix(Y_true, Y_pred_classes) \n",
        "# plot the confusion matrix\n",
        "plot_confusion_matrix(confusion_mtx, classes = range(10))"
      ],
      "execution_count": null,
      "outputs": [
        {
          "output_type": "stream",
          "name": "stdout",
          "text": [
            "WARNING:tensorflow:Model was constructed with shape (None, 28, 28) for input KerasTensor(type_spec=TensorSpec(shape=(None, 28, 28), dtype=tf.float32, name='flatten_12_input'), name='flatten_12_input', description=\"created by layer 'flatten_12_input'\"), but it was called on an input with incompatible shape (None, 784).\n"
          ]
        },
        {
          "output_type": "display_data",
          "data": {
            "image/png": "[encoded data removed]",
            "text/plain": [
              "<Figure size 432x288 with 2 Axes>"
            ]
          },
          "metadata": {
            "needs_background": "light"
          }
        }
      ]
    },
    {
      "cell_type": "markdown",
      "metadata": {
        "id": "6Bldt2cYJBrR"
      },
      "source": [
        "Al aplicar el optimizador Adam se sigue manteniendo en un rango parecido de aciertos, no se puede observar mejora."
      ]
    }
  ]
}